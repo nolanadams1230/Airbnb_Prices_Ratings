{
 "cells": [
  {
   "cell_type": "markdown",
   "metadata": {},
   "source": [
    "<center><h1>Predictive Modeling</h1></center>"
   ]
  },
  {
   "cell_type": "markdown",
   "metadata": {},
   "source": [
    "[Setting Response and Feature Variables](#setup)\n",
    "\n",
    "[Price](#price)\n",
    "* [Parametric Models](#parametric)\n",
    "    * [Simple Linear Regression](#slr1) \n",
    "* [Fixing Bad Data](#fix)\n",
    "* [Parametric Models - Continued](#parametric2)\n",
    "    * [Simple Linear Regression](#slr2)\n",
    "    * [Ridge Regression](#ridge)\n",
    "    * [Lasso Regression](#lasso)\n",
    "    * [ElasticNet Regression](#en)\n",
    "    * [Support Vector Regression](#svr)\n",
    "* [Non-Parametric Models](#non)\n",
    "    * [KNearestNeighbors Regression](#knn)\n",
    "    * [Decision Trees](#dt)\n",
    "* [Ensemble Methods](#ensemble)\n",
    "    * [Random Forest Regression](#rfr)\n",
    "    * [Extra-Random DescentForest Regression](#extra)\n",
    "    * [Gradient Boosting Regression](#gbr)\n",
    "    * [eXtreme Gradient Boosting Regression](#xgbr)\n",
    "   \n",
    "* [Results](#results)\n",
    "* [Model Selection](#model)\n",
    "\n",
    "\n",
    "[Rating](#rating)\n",
    "* [Parametric Models](#parametric_r)\n",
    "    * [Simple Linear Regression](#slr_r) \n",
    "    * [Ridge Regression](#ridge_r)\n",
    "    * [Lasso Regression](#lasso_r)\n",
    "    * [ElasticNet Regression](#en_r)\n",
    "    * [Support Vector Regression](#svr_r)\n",
    "* [Non-Parametric Models](#non_r)\n",
    "    * [KNearestNeighbors Regression](#knn_r)\n",
    "    * [Decision Trees](#dt_r)\n",
    "* [Ensemble Methods](#ensemble_r)\n",
    "    * [Random Forest Regression](#rfr_r)\n",
    "    * [Extra-Random DescentForest Regression](#extra_r)\n",
    "    * [Gradient Boosting Regression](#gbr_r)\n",
    "    * [eXtreme Gradient Boosting Regression](#xgbr_r)\n",
    "    \n",
    "* [Results](#results_r)\n",
    "* [Model Selection](#model_r)\n"
   ]
  },
  {
   "cell_type": "markdown",
   "metadata": {},
   "source": [
    "## Loading Necessary Packages"
   ]
  },
  {
   "cell_type": "code",
   "execution_count": 1,
   "metadata": {},
   "outputs": [],
   "source": [
    "import numpy as np\n",
    "import pandas as pd\n",
    "import matplotlib.pyplot as plt\n",
    "% matplotlib inline\n",
    "import seaborn as sns\n",
    "from time import time\n",
    "pd.set_option('display.float_format', '{:.4f}'.format)\n",
    "pd.options.display.max_columns = 999\n",
    "pd.options.display.max_rows = 999\n",
    "sns.set()"
   ]
  },
  {
   "cell_type": "markdown",
   "metadata": {},
   "source": [
    "## Loading and Fixing Datasets"
   ]
  },
  {
   "cell_type": "code",
   "execution_count": 2,
   "metadata": {
    "scrolled": false
   },
   "outputs": [],
   "source": [
    "listings = pd.read_csv('listings_clean.csv', encoding = \"utf-8\", low_memory=False)"
   ]
  },
  {
   "cell_type": "code",
   "execution_count": 3,
   "metadata": {},
   "outputs": [],
   "source": [
    "# Delete old index\n",
    "del listings['Unnamed: 0']"
   ]
  },
  {
   "cell_type": "code",
   "execution_count": 4,
   "metadata": {},
   "outputs": [],
   "source": [
    "listings.dropna(axis=0,subset=['Waterfront'], inplace=True)"
   ]
  },
  {
   "cell_type": "code",
   "execution_count": 5,
   "metadata": {},
   "outputs": [
    {
     "data": {
      "text/plain": [
       "Series([], dtype: int64)"
      ]
     },
     "execution_count": 5,
     "metadata": {},
     "output_type": "execute_result"
    }
   ],
   "source": [
    "listings.isnull().sum()[listings.isnull().sum() > 0]"
   ]
  },
  {
   "cell_type": "code",
   "execution_count": 6,
   "metadata": {},
   "outputs": [],
   "source": [
    "listings['id'] = listings['id'].astype(int)"
   ]
  },
  {
   "cell_type": "code",
   "execution_count": 7,
   "metadata": {},
   "outputs": [],
   "source": [
    "ids = ['id','host_id'] \n",
    "\n",
    "numerical =['price','review_scores_rating','accommodates', 'bathrooms', 'bedrooms', 'beds', 'guests_included', 'minimum_nights', 'maximum_nights',\n",
    "            'number_of_reviews', 'calculated_host_listings_count', 'reviews_per_month', 'days_since_calendar_updated',\n",
    "            'review_scores_accuracy', 'review_scores_cleanliness', 'review_scores_checkin', 'review_scores_communication',\n",
    "            'review_scores_location', 'review_scores_value','security_deposit','cleaning_fee', 'last_review_days',\n",
    "            'extra_people', 'average_len', 'house_rules_len', 'host_since_days','first_review_days',\n",
    "            'total_child_care_amenities','total_handicap_amenities']\n",
    "\n",
    "\n",
    "mutliple_categories = ['cancellation_policy','host_response_time','property_type', 'room_type', 'bed_type','neighbourhood_cleansed',\n",
    "               'zipcode'] \n",
    "\n",
    "binary = ['has_square_feet','host_has_profile_pic','host_is_superhost','instant_bookable','is_business_travel_ready',\n",
    "          'require_guest_phone_verification','require_guest_profile_picture']\n",
    "\n",
    "categorical_data = mutliple_categories + binary   \n",
    "\n",
    "amenities = [' smooth pathway to front door','24-hour check-in','Accessible-height bed','Accessible-height toilet',\n",
    "             'Air conditioning','BBQ grill','Baby bath','Baby monitor','Babysitter recommendations','Bathtub',\n",
    "             'Bathtub with shower chair','Beach essentials','Beachfront','Bed linens','Breakfast','Buzzer/wireless intercom',\n",
    "             'Cable TV','Carbon monoxide detector','Cat(s)','Changing table','Children’s books and toys','Children’s dinnerware',\n",
    "             'Cleaning before checkout','Coffee maker','Cooking basics','Crib','Disabled parking spot','Dishes and silverware',\n",
    "             'Dishwasher','Dog(s)','Doorman','Dryer','EV charger','Elevator','Essentials','Ethernet connection',\n",
    "             'Extra pillows and blankets','Family/kid friendly','Fire extinguisher','Fireplace guards','Firm mattress',\n",
    "             'First aid kit','Fixed grab bars for shower & toilet','Flat','Free parking on premises','Game console',\n",
    "             'Garden or backyard','Ground floor access','Gym','Hair dryer','Handheld shower head','Hangers','Heating',\n",
    "             'High chair','Host greets you','Hot tub','Hot water','Hot water kettle','Indoor fireplace','Internet','Iron',\n",
    "             'Keypad','Kitchen','Lake access','Laptop friendly workspace','Lock on bedroom door','Lockbox',\n",
    "             'Long term stays allowed','Luggage dropoff allowed','Microwave','Other pet(s)','Outlet covers','Oven',\n",
    "             'Pack ’n Play/travel crib','Paid parking off premises','Patio or balcony','Pets allowed','Pets live on this property',\n",
    "             'Pocket wifi','Pool','Private bathroom','Private entrance','Private living room','Refrigerator',\n",
    "             'Roll-in shower with chair','Room-darkening shades','Safety card','Self Check-In','Shampoo','Single level home',\n",
    "             'Smart lock','Smoke detector','Smoking allowed','Stair gates','Step-free access','Stove','Suitable for events','TV',\n",
    "             'Table corner guards','Washer','Waterfront','Well-lit path to entrance','Wheelchair accessible',\n",
    "             'Wide clearance to bed','Wide clearance to shower & toilet','Wide doorway','Wide entryway','Wide hallway clearance',\n",
    "             'Window guards','Wireless Internet']\n",
    "\n",
    "features = numerical + categorical_data + amenities"
   ]
  },
  {
   "cell_type": "code",
   "execution_count": 8,
   "metadata": {},
   "outputs": [],
   "source": [
    "for item in numerical:\n",
    "    listings[item] = pd.to_numeric(listings[item])"
   ]
  },
  {
   "cell_type": "markdown",
   "metadata": {},
   "source": [
    "<a id='setup'></a>\n",
    "## Setting Response and Feature Variables"
   ]
  },
  {
   "cell_type": "code",
   "execution_count": 9,
   "metadata": {},
   "outputs": [],
   "source": [
    "df = listings[features]\n",
    "df = pd.get_dummies(df, columns=categorical_data, drop_first=True)"
   ]
  },
  {
   "cell_type": "markdown",
   "metadata": {},
   "source": [
    "#### Train / Test Split"
   ]
  },
  {
   "cell_type": "code",
   "execution_count": 10,
   "metadata": {},
   "outputs": [],
   "source": [
    "from sklearn.model_selection import train_test_split \n",
    "\n",
    "# Response variable for price predictions\n",
    "y_price = df['price']\n",
    "\n",
    "# Response variable for rating predictions\n",
    "y_rating= df['review_scores_rating']\n",
    "\n",
    "# Our features for PRICE\n",
    "X_price = df.drop(['price'], axis=1)\n",
    "\n",
    "# PRICE - Seperate our data into two groups. 70% to train and 30% to test\n",
    "X_train_p, X_test_p, y_train_p, y_test_p = train_test_split(X_price, y_price, test_size = 0.3, random_state=1)\n",
    "\n",
    "# Our features for RATINGS \n",
    "X_rating = df.drop(['review_scores_rating'], axis=1)\n",
    "\n",
    "# RATING - Seperate our data into two groups. 70% to train and 30% to test\n",
    "X_train_r, X_test_r, y_train_r, y_test_r = train_test_split(X_rating, y_rating, test_size = 0.3, random_state=1)"
   ]
  },
  {
   "cell_type": "markdown",
   "metadata": {},
   "source": [
    "#### Scaling Features"
   ]
  },
  {
   "cell_type": "code",
   "execution_count": 11,
   "metadata": {},
   "outputs": [],
   "source": [
    "from sklearn.preprocessing import StandardScaler\n",
    "\n",
    "scaler = StandardScaler()\n",
    "\n",
    "# Scaling the training set - PRICE\n",
    "X_train_p_scaled = scaler.fit_transform(X_train_p)\n",
    "# Scaling test set - PRICE\n",
    "X_test_p_scaled = scaler.transform(X_test_p)\n",
    "\n",
    "# Scaling the training set - RATING\n",
    "X_train_r_scaled = scaler.fit_transform(X_train_r)\n",
    "# Scaling test set - RATING\n",
    "X_test_r_scaled = scaler.transform(X_test_r)"
   ]
  },
  {
   "cell_type": "markdown",
   "metadata": {},
   "source": [
    "<a id='price'></a>\n",
    "<center><h1> Price - Regression Models </h1></center>\n",
    "\n",
    "We can first load all the packages we plan on using and then set up a function to quickly perform each model with cross-validation or GridSearchCV for hyper-parameter tuning.\n",
    "\n",
    "<a id='parametric'></a>\n",
    "# Parametric Models"
   ]
  },
  {
   "cell_type": "code",
   "execution_count": 12,
   "metadata": {},
   "outputs": [],
   "source": [
    "from sklearn.linear_model import LinearRegression\n",
    "from sklearn.linear_model import Ridge\n",
    "from sklearn.linear_model import RidgeCV\n",
    "from sklearn.linear_model import Lasso\n",
    "from sklearn.linear_model import LassoCV\n",
    "from sklearn.linear_model import ElasticNet\n",
    "from sklearn.linear_model import ElasticNetCV\n",
    "from sklearn.svm import SVR"
   ]
  },
  {
   "cell_type": "code",
   "execution_count": 13,
   "metadata": {},
   "outputs": [],
   "source": [
    "def Reg_Model(X_train, y_train, X_test, y_test, model, gridsearch = False, param_grid=None):\n",
    "    from sklearn.model_selection import GridSearchCV\n",
    "    from sklearn.model_selection import cross_validate\n",
    "    from sklearn.model_selection import cross_val_score\n",
    "    \n",
    "    if gridsearch == False:\n",
    "        \n",
    "        # Set up cross-validation\n",
    "        score = cross_validate(model, X_train, y_train, cv=5)\n",
    "        \n",
    "        \n",
    "        # Fit the model\n",
    "        model.fit(X_train, y_train)\n",
    "        \n",
    "        # Cross Validation Test Scores\n",
    "        print('Cross-Validation Scores:{}'.format(score['test_score']))\n",
    "        print('Average Cross-Validation Score: {}'.format(np.mean(score['test_score'])))\n",
    "        print('\\n')\n",
    "        print('Validation Standard Deviation: {}'.format(np.std(score['test_score'])))\n",
    "        print('\\n')\n",
    "    \n",
    "        # Cross-Validation Train Scores\n",
    "        print('Train Scores:{}'.format(score['train_score']))\n",
    "        print('Average Train Score: {}'.format(np.mean(score['train_score'])))\n",
    "        print('\\n')\n",
    "        \n",
    "        # MSE CV Score\n",
    "        mse_score = cross_val_score(model, X_train, y_train, cv=5, scoring='neg_mean_squared_error')\n",
    "        print('Average MSE Score: {}'.format(np.abs(np.mean(mse_score))))\n",
    "        \n",
    "        return  model, score   \n",
    "    else:\n",
    "        param_grid = param_grid\n",
    "        \n",
    "        model_gs = GridSearchCV(model, param_grid, n_jobs=-2)\n",
    "        \n",
    "        model_gs.fit(X_train, y_train)\n",
    "        \n",
    "        print('Average Validation Score: {}'.format(model_gs.best_score_))\n",
    "        print('\\n')\n",
    "        print('Validation Standard Deviation: {}'.format(model_gs.cv_results_['std_test_score'][model_gs.best_index_]))\n",
    "        print('\\n')\n",
    "        print('Average Train Score: {}'.format(model_gs.cv_results_['mean_train_score'][model_gs.best_index_]))\n",
    "        print('\\n')\n",
    "        print('Best Estimator: {}'.format(model_gs.best_estimator_))\n",
    "        print('\\n')\n",
    "        print('Best Params: {}'.format(model_gs.best_params_))\n",
    "        print('\\n')\n",
    "        \n",
    "        \n",
    "        return model_gs"
   ]
  },
  {
   "cell_type": "code",
   "execution_count": 14,
   "metadata": {},
   "outputs": [],
   "source": [
    "def SFM(estimator, X_train, y_train, X_test, y_test, thresh='mean'):\n",
    "    from sklearn.feature_selection import SelectFromModel\n",
    "    from sklearn.model_selection import cross_validate\n",
    "    from sklearn.model_selection import cross_val_score\n",
    "    \n",
    "    sfm = SelectFromModel(estimator, threshold=thresh)\n",
    "\n",
    "    #Creating new features\n",
    "    new_X_train = sfm.fit_transform(X_train, y_train)\n",
    "    new_X_test = sfm.transform(X_test)\n",
    "    \n",
    "    # Fit new training set with cross-validation\n",
    "    score = cross_validate(estimator, new_X_train, y_train, cv=5) \n",
    "   \n",
    "     # Cross Validation Validation Scores\n",
    "    print('Cross-Validation Scores:{}'.format(score['test_score']))\n",
    "    print('Average Cross-Validation Score: {}'.format(np.mean(score['test_score'])))\n",
    "    print('\\n')\n",
    "    print('Validation Standard Deviation: {}'.format(np.std(score['test_score'])))\n",
    "    print('\\n')\n",
    "        \n",
    "    # Cross Validation Train Scores\n",
    "    print('Train Scores:{}'.format(score['train_score']))\n",
    "    print('Average Train Score: {}'.format(np.mean(score['train_score'])))\n",
    "    print('\\n')\n",
    "        \n",
    "    # MSE CV Score\n",
    "    mse_score = cross_val_score(estimator, new_X_train, y_train, cv=5, scoring='neg_mean_squared_error')\n",
    "    print('Average MSE Score: {}'.format(np.abs(np.mean(mse_score))))\n",
    "    print('\\n')\n",
    "        \n",
    "    # New feature shapes\n",
    "    print('New X Shape: {}'.format(new_X_train.shape))\n",
    "    print('New X_train Shape: {}'.format(new_X_train.shape))\n",
    "    return sfm, new_X_train, new_X_test"
   ]
  },
  {
   "cell_type": "markdown",
   "metadata": {},
   "source": [
    "<a id='slr1'></a>\n",
    "### Simple Linear Regression"
   ]
  },
  {
   "cell_type": "code",
   "execution_count": 15,
   "metadata": {
    "scrolled": true
   },
   "outputs": [
    {
     "name": "stdout",
     "output_type": "stream",
     "text": [
      "Cross-Validation Scores:[ -4.98971140e+07   1.33535810e-01  -1.32209008e+26  -4.91593817e+20\n",
      "   2.90991926e-01]\n",
      "Average Cross-Validation Score: -2.644189991118041e+25\n",
      "\n",
      "\n",
      "Validation Standard Deviation: 5.288355402579486e+25\n",
      "\n",
      "\n",
      "Train Scores:[ 0.42487303  0.45973127  0.54199528  0.46490213  0.44795518]\n",
      "Average Train Score: 0.46789137784025503\n",
      "\n",
      "\n",
      "Average MSE Score: 3.3309454453280693e+30\n"
     ]
    }
   ],
   "source": [
    "lr = LinearRegression()\n",
    "lr, lr_score = Reg_Model(X_train_p_scaled, y_train_p, X_test_p_scaled, y_test_p, lr)"
   ]
  },
  {
   "cell_type": "markdown",
   "metadata": {},
   "source": [
    "Our R-squared score is very bad. We can try feature selection with SelectFromModel to only use the most important features."
   ]
  },
  {
   "cell_type": "code",
   "execution_count": 16,
   "metadata": {},
   "outputs": [
    {
     "name": "stdout",
     "output_type": "stream",
     "text": [
      "Cross-Validation Scores:[ -5.59701145e-03  -3.84849882e-02   1.18674016e-02  -2.98504711e+24\n",
      "  -7.11321603e-02]\n",
      "Average Cross-Validation Score: -5.9700942215538653e+23\n",
      "\n",
      "\n",
      "Validation Standard Deviation: 1.194018844310773e+24\n",
      "\n",
      "\n",
      "Train Scores:[ 0.03883105  0.02725422  0.01430478  0.02724336  0.02908098]\n",
      "Average Train Score: 0.027342878171158012\n",
      "\n",
      "\n",
      "Average MSE Score: 2.826905705902914e+28\n",
      "\n",
      "\n",
      "New X Shape: (4911, 18)\n",
      "New X_train Shape: (4911, 18)\n"
     ]
    }
   ],
   "source": [
    "sfm_p_lr, new_X_train_p_lr, new_X_test_p_lr = SFM(lr, X_train_p_scaled, y_train_p, X_test_p_scaled,y_test_p)"
   ]
  },
  {
   "cell_type": "markdown",
   "metadata": {},
   "source": [
    "The R-squared we obtained from feature selection only increased a little. Regression can be get thrown off very easily by extreme values, and this dataset has a few really big ones. In our Exploratory Data Analysis we made serveral observations of outliers and multicollinear features that we will remove before we continue.\n",
    "<a id='fix'></a>\n",
    "<center><h1> Fixing Bad Data </h1></center>\n",
    "\n",
    "#### Dropping Outliers / Extreme Values"
   ]
  },
  {
   "cell_type": "code",
   "execution_count": 17,
   "metadata": {},
   "outputs": [],
   "source": [
    "# Removing observations with extreme outliers.\n",
    "# These are extreme values that are not a good representation of the listings in SF.\n",
    "df = df[df['maximum_nights']<=1000]\n",
    "df = df[df['minimum_nights']<60]\n",
    "df = df[df['price']<=1000]"
   ]
  },
  {
   "cell_type": "code",
   "execution_count": 18,
   "metadata": {},
   "outputs": [
    {
     "data": {
      "text/plain": [
       "(3856, 247)"
      ]
     },
     "execution_count": 18,
     "metadata": {},
     "output_type": "execute_result"
    }
   ],
   "source": [
    "df.shape"
   ]
  },
  {
   "cell_type": "markdown",
   "metadata": {},
   "source": [
    "#### Reseting our features and response variables \n"
   ]
  },
  {
   "cell_type": "code",
   "execution_count": 19,
   "metadata": {},
   "outputs": [],
   "source": [
    "# Reseting PRICE and our features for PRICE\n",
    "y_price = df['price']\n",
    "\n",
    "# Our features for PRICE\n",
    "X_price = df.drop(['price'], axis=1)\n",
    "\n",
    "# PRICE - Seperate our data into two groups. 70% to train and 30% to test\n",
    "X_train_p, X_test_p, y_train_p, y_test_p = train_test_split(X_price, y_price, test_size = 0.3, random_state=1)\n",
    "\n",
    "# Rescale the data\n",
    "scaler = StandardScaler()\n",
    "\n",
    "# Scaling the training set - PRICE\n",
    "X_train_p_scaled = scaler.fit_transform(X_train_p)\n",
    "# Scaling test set - PRICE\n",
    "X_test_p_scaled = scaler.transform(X_test_p)\n",
    "\n",
    "\n",
    "\n",
    "# Reseting RATINGS and our features for RATINGS\n",
    "y_rating= df['review_scores_rating']\n",
    "\n",
    "# Our features for RATINGS\n",
    "X_rating = df.drop(['review_scores_rating'], axis=1)\n",
    "\n",
    "# RATING - Seperate our data into two groups. 70% to train and 30% to test\n",
    "X_train_r, X_test_r, y_train_r, y_test_r = train_test_split(X_rating, y_rating, test_size = 0.3, random_state=1)\n",
    "\n",
    "# Rescale the data\n",
    "scaler = StandardScaler()\n",
    "\n",
    "# Scaling the training set - RATING\n",
    "X_train_r_scaled = scaler.fit_transform(X_train_r)\n",
    "# Scaling test set - RATING\n",
    "X_test_r_scaled = scaler.transform(X_test_r)"
   ]
  },
  {
   "cell_type": "markdown",
   "metadata": {},
   "source": [
    "#### Dropping Highly Correlated Features / High VIF Features\n",
    "\n",
    "Highly correlated features can be a problem for a prediction model. Features that may already be captured by other features can be removed because they are unneeded. "
   ]
  },
  {
   "cell_type": "code",
   "execution_count": 20,
   "metadata": {},
   "outputs": [],
   "source": [
    "# PRICE - Dropped Multicollinear Variables\n",
    "X2_price = df.drop(['price','beds','guests_included','review_scores_value','first_review_days','Washer','Refrigerator','Stove', \n",
    "                    ' smooth pathway to front door','review_scores_checkin','host_has_profile_pic_True','review_scores_location',\n",
    "                    'Coffee maker','Wide hallway clearance', 'Wide entryway','Dishes and silverware', 'Hair dryer','Oven',\n",
    "                    'zipcode_94121','zipcode_94127','zipcode_94134','zipcode_94123','zipcode_94118','zipcode_94117','zipcode_94130', \n",
    "                    'neighbourhood_cleansed_Treasure Island/YBI','zipcode_94133','require_guest_phone_verification_True',\n",
    "                    'zipcode_94132'],axis=1)\n",
    "                    \n",
    "                    \n",
    "                    \n",
    "              \n",
    "# PRICE - Seperate our data into two groups. 70% to train and 30% to test\n",
    "X2_train_p, X2_test_p, y2_train_p, y2_test_p = train_test_split(X2_price, y_price, test_size = 0.3, random_state=1)\n",
    "\n",
    "# Rescale the data\n",
    "scaler = StandardScaler()\n",
    "\n",
    "# Scaling the training set - PRICE\n",
    "X2_train_p_scaled = scaler.fit_transform(X2_train_p)\n",
    "\n",
    "# Scaling test set - PRICE\n",
    "X2_test_p_scaled = scaler.transform(X2_test_p)\n",
    "\n",
    "# Rating - Dropped Multicollinear Variables\n",
    "X2_rating = df.drop(['review_scores_rating','beds','guests_included','review_scores_value','first_review_days','Washer','Refrigerator', \n",
    "                    ' smooth pathway to front door','review_scores_checkin','host_has_profile_pic_True','review_scores_location',\n",
    "                    'Coffee maker','Wide hallway clearance', 'Wide entryway','Dishes and silverware', 'Hair dryer','Oven','Stove',\n",
    "                    'zipcode_94121','zipcode_94127','zipcode_94134','zipcode_94123','zipcode_94118','zipcode_94117','zipcode_94130', \n",
    "                    'neighbourhood_cleansed_Treasure Island/YBI','zipcode_94133','require_guest_phone_verification_True',\n",
    "                    'zipcode_94132'], axis=1)\n",
    "\n",
    "# RATING - Seperate our data into two groups. 70% to train and 30% to test\n",
    "X2_train_r, X2_test_r, y2_train_r, y2_test_r = train_test_split(X2_rating, y_rating, test_size = 0.3, random_state=1)\n",
    "\n",
    "# Rescale the data\n",
    "scaler = StandardScaler()\n",
    "\n",
    "# Scaling the training set - RATING\n",
    "X2_train_r_scaled = scaler.fit_transform(X2_train_r)\n",
    "\n",
    "# Scaling test set - RATING\n",
    "X2_test_r_scaled = scaler.transform(X2_test_r)"
   ]
  },
  {
   "cell_type": "markdown",
   "metadata": {},
   "source": [
    "<a id='parametric2'></a>\n",
    "<center><h1> Parametric Models - Cleaned</h1></center>\n",
    "\n",
    "# Simple Linear Regression\n",
    "\n",
    "#### X1 Features"
   ]
  },
  {
   "cell_type": "code",
   "execution_count": 21,
   "metadata": {},
   "outputs": [
    {
     "name": "stdout",
     "output_type": "stream",
     "text": [
      "Cross-Validation Scores:[ -8.86440893e+24  -3.92122039e+25  -3.53553481e+24  -8.62334347e+23\n",
      "  -9.90818374e+23]\n",
      "Average Cross-Validation Score: -1.0693060076564129e+25\n",
      "\n",
      "\n",
      "Validation Standard Deviation: 1.4551236105739313e+25\n",
      "\n",
      "\n",
      "Train Scores:[ 0.68375388  0.68302635  0.70133147  0.69756736  0.70096079]\n",
      "Average Train Score: 0.6933279705035533\n",
      "\n",
      "\n",
      "Average MSE Score: 2.0459311790704518e+29\n"
     ]
    }
   ],
   "source": [
    "lr_p, lr_p_score = Reg_Model(X_train_p_scaled, y_train_p, X_test_p_scaled, y_test_p, lr)"
   ]
  },
  {
   "cell_type": "markdown",
   "metadata": {},
   "source": [
    "#### SelectFromModel Feature Selection X1"
   ]
  },
  {
   "cell_type": "code",
   "execution_count": 22,
   "metadata": {},
   "outputs": [
    {
     "name": "stdout",
     "output_type": "stream",
     "text": [
      "Cross-Validation Scores:[ 0.06507474  0.08034202  0.06505999  0.04322894  0.05340185]\n",
      "Average Cross-Validation Score: 0.06142150911347273\n",
      "\n",
      "\n",
      "Validation Standard Deviation: 0.012488833303843769\n",
      "\n",
      "\n",
      "Train Scores:[ 0.0948429   0.08716042  0.09466826  0.09947244  0.09923068]\n",
      "Average Train Score: 0.09507494136362349\n",
      "\n",
      "\n",
      "Average MSE Score: 17637.486040709813\n",
      "\n",
      "\n",
      "New X Shape: (2699, 32)\n",
      "New X_train Shape: (2699, 32)\n"
     ]
    }
   ],
   "source": [
    "sfm_p_lr, new_X_train_p_lr, new_X_test_p_lr = SFM(lr_p,  X_train_p_scaled, y_train_p, X_test_p_scaled, y_test_p)"
   ]
  },
  {
   "cell_type": "markdown",
   "metadata": {},
   "source": [
    "#### X2 Features"
   ]
  },
  {
   "cell_type": "code",
   "execution_count": 23,
   "metadata": {},
   "outputs": [
    {
     "name": "stdout",
     "output_type": "stream",
     "text": [
      "Cross-Validation Scores:[ -1.56270399e+26  -5.38900966e+24  -7.63949778e+25  -4.61947839e+24\n",
      "  -2.26422464e+24]\n",
      "Average Cross-Validation Score: -4.8987617850715365e+25\n",
      "\n",
      "\n",
      "Validation Standard Deviation: 6.051975604854178e+25\n",
      "\n",
      "\n",
      "Train Scores:[ 0.67934278  0.67923798  0.69640239  0.69404976  0.69411438]\n",
      "Average Train Score: 0.6886294581450282\n",
      "\n",
      "\n",
      "Average MSE Score: 8.512301745064692e+29\n"
     ]
    }
   ],
   "source": [
    "lr2_p, lr2_p_score = Reg_Model(X2_train_p_scaled, y2_train_p, X2_test_p_scaled, y2_test_p, lr)"
   ]
  },
  {
   "cell_type": "markdown",
   "metadata": {},
   "source": [
    "#### SelectFromModel Feature Selection X2"
   ]
  },
  {
   "cell_type": "code",
   "execution_count": 24,
   "metadata": {},
   "outputs": [
    {
     "name": "stdout",
     "output_type": "stream",
     "text": [
      "Cross-Validation Scores:[ 0.06665792  0.08801799  0.08215654  0.04198894  0.05856512]\n",
      "Average Cross-Validation Score: 0.06747730540140073\n",
      "\n",
      "\n",
      "Validation Standard Deviation: 0.016535747648191206\n",
      "\n",
      "\n",
      "Train Scores:[ 0.09213807  0.08253405  0.08806861  0.09721493  0.0955315 ]\n",
      "Average Train Score: 0.09109742991463628\n",
      "\n",
      "\n",
      "Average MSE Score: 17531.07937311954\n",
      "\n",
      "\n",
      "New X Shape: (2699, 18)\n",
      "New X_train Shape: (2699, 18)\n"
     ]
    }
   ],
   "source": [
    "sfm2_p_lr, new_X2_train_p_lr, new_X2_test_p_lr = SFM(lr2_p,  X2_train_p_scaled, y2_train_p, X2_test_p_scaled, y2_test_p)"
   ]
  },
  {
   "cell_type": "markdown",
   "metadata": {},
   "source": [
    "<a id='ridge'></a>\n",
    "# Ridge Regression\n",
    "#### X1 Features"
   ]
  },
  {
   "cell_type": "code",
   "execution_count": 25,
   "metadata": {},
   "outputs": [
    {
     "name": "stdout",
     "output_type": "stream",
     "text": [
      "Cross-Validation Scores:[ 0.64816395  0.62774897  0.55748863  0.59828007  0.56274463]\n",
      "Average Cross-Validation Score: 0.5988852496903336\n",
      "\n",
      "\n",
      "Validation Standard Deviation: 0.035444873400270666\n",
      "\n",
      "\n",
      "Train Scores:[ 0.68381189  0.68309967  0.70120675  0.69747669  0.70085523]\n",
      "Average Train Score: 0.6932900472228472\n",
      "\n",
      "\n",
      "Average MSE Score: 7526.307917218316\n"
     ]
    }
   ],
   "source": [
    "ridge_p = Ridge(random_state=1)\n",
    "ridge_p, ridge_p_score = Reg_Model(X_train_p_scaled, y_train_p, X_test_p_scaled,y_test_p, ridge_p)"
   ]
  },
  {
   "cell_type": "markdown",
   "metadata": {},
   "source": [
    "#### SelectFromModel Feature Selection X2"
   ]
  },
  {
   "cell_type": "code",
   "execution_count": 26,
   "metadata": {},
   "outputs": [
    {
     "name": "stdout",
     "output_type": "stream",
     "text": [
      "Cross-Validation Scores:[ 0.68235723  0.67853391  0.58212632  0.62656578  0.59730124]\n",
      "Average Cross-Validation Score: 0.633376896038724\n",
      "\n",
      "\n",
      "Validation Standard Deviation: 0.04101876470399791\n",
      "\n",
      "\n",
      "Train Scores:[ 0.65809491  0.65721838  0.6791873   0.67134656  0.67607246]\n",
      "Average Train Score: 0.6683839226172104\n",
      "\n",
      "\n",
      "Average MSE Score: 6871.821349060665\n",
      "\n",
      "\n",
      "New X Shape: (2699, 73)\n",
      "New X_train Shape: (2699, 73)\n"
     ]
    }
   ],
   "source": [
    "sfm_p_ridge, new_X_train_p_ridge, new_X_test_p_ridge = SFM(ridge_p,  X_train_p_scaled, y_train_p, X_test_p_scaled,y_test_p)"
   ]
  },
  {
   "cell_type": "markdown",
   "metadata": {},
   "source": [
    "#### X2 Features"
   ]
  },
  {
   "cell_type": "code",
   "execution_count": 27,
   "metadata": {},
   "outputs": [
    {
     "name": "stdout",
     "output_type": "stream",
     "text": [
      "Cross-Validation Scores:[ 0.65238286  0.62853912  0.56350179  0.59546896  0.57606831]\n",
      "Average Cross-Validation Score: 0.6031922080929688\n",
      "\n",
      "\n",
      "Validation Standard Deviation: 0.03296321915656046\n",
      "\n",
      "\n",
      "Train Scores:[ 0.67936278  0.67925401  0.69648539  0.69402309  0.69441219]\n",
      "Average Train Score: 0.6887074935902837\n",
      "\n",
      "\n",
      "Average MSE Score: 7446.48044986352\n"
     ]
    }
   ],
   "source": [
    "ridge2_p = Ridge(random_state=1)\n",
    "ridge2_p, ridge2_p_score = Reg_Model(X2_train_p_scaled, y2_train_p, X2_test_p_scaled,y2_test_p, ridge2_p)"
   ]
  },
  {
   "cell_type": "markdown",
   "metadata": {},
   "source": [
    "#### SelectFromModel Feature Selection X2"
   ]
  },
  {
   "cell_type": "code",
   "execution_count": 28,
   "metadata": {},
   "outputs": [
    {
     "name": "stdout",
     "output_type": "stream",
     "text": [
      "Cross-Validation Scores:[ 0.68381097  0.67112141  0.59635367  0.62587613  0.60068893]\n",
      "Average Cross-Validation Score: 0.6355702219329101\n",
      "\n",
      "\n",
      "Validation Standard Deviation: 0.03588780935805684\n",
      "\n",
      "\n",
      "Train Scores:[ 0.65854256  0.66005523  0.67662929  0.67245515  0.67522683]\n",
      "Average Train Score: 0.6685818116863989\n",
      "\n",
      "\n",
      "Average MSE Score: 6839.323975895468\n",
      "\n",
      "\n",
      "New X Shape: (2699, 66)\n",
      "New X_train Shape: (2699, 66)\n"
     ]
    }
   ],
   "source": [
    "sfm2_p_ridge, new_X2_train_p_ridge, new_X2_test_p_ridge = SFM(ridge2_p,  X2_train_p_scaled, y2_train_p, X2_test_p_scaled,y2_test_p)"
   ]
  },
  {
   "cell_type": "markdown",
   "metadata": {},
   "source": [
    "#### Hyper-parameter Tuning"
   ]
  },
  {
   "cell_type": "code",
   "execution_count": 29,
   "metadata": {},
   "outputs": [
    {
     "name": "stdout",
     "output_type": "stream",
     "text": [
      "Cross-Validation Scores:[ 0.6844102   0.67241266  0.59640157  0.62536938  0.60171504]\n",
      "Average Cross-Validation Score: 0.6360617707403737\n",
      "\n",
      "\n",
      "Validation Standard Deviation: 0.03612731381402794\n",
      "\n",
      "\n",
      "Train Scores:[ 0.65843282  0.65991825  0.67652074  0.67234264  0.67510866]\n",
      "Average Train Score: 0.6684646197073795\n",
      "\n",
      "\n",
      "Average MSE Score: 6829.864460191928\n",
      "\n",
      " Best Alpha: 20.0\n"
     ]
    }
   ],
   "source": [
    "ridge_p_gs = RidgeCV(alphas=np.linspace(.001,20,100))\n",
    "\n",
    "ridge_p_gs, ridge_p_gs_score = Reg_Model(new_X2_train_p_ridge, y_train_p, new_X2_test_p_ridge, y_test_p, ridge_p_gs)\n",
    "\n",
    "print('\\n','Best Alpha: {}'.format(ridge_p_gs.alpha_))"
   ]
  },
  {
   "cell_type": "markdown",
   "metadata": {},
   "source": [
    "<a id='lasso'></a>\n",
    "# Lasso Regression\n",
    "\n",
    "#### X1 Features"
   ]
  },
  {
   "cell_type": "code",
   "execution_count": 30,
   "metadata": {},
   "outputs": [
    {
     "name": "stdout",
     "output_type": "stream",
     "text": [
      "Cross-Validation Scores:[ 0.67731001  0.6610898   0.57867235  0.61497622  0.58643562]\n",
      "Average Cross-Validation Score: 0.6236968006279332\n",
      "\n",
      "\n",
      "Validation Standard Deviation: 0.03940623632294219\n",
      "\n",
      "\n",
      "Train Scores:[ 0.67121299  0.6705074   0.6880895   0.68459599  0.68688303]\n",
      "Average Train Score: 0.6802577821787429\n",
      "\n",
      "\n",
      "Average MSE Score: 7060.219258535435\n"
     ]
    }
   ],
   "source": [
    "lasso_p = Lasso(random_state=1)\n",
    "\n",
    "lasso_p,lasso_p_score = Reg_Model(X_train_p_scaled, y_train_p, X_test_p_scaled, y_test_p, lasso_p)"
   ]
  },
  {
   "cell_type": "markdown",
   "metadata": {},
   "source": [
    "#### SelectFromModel Feature Selection X1"
   ]
  },
  {
   "cell_type": "code",
   "execution_count": 31,
   "metadata": {},
   "outputs": [
    {
     "name": "stdout",
     "output_type": "stream",
     "text": [
      "Cross-Validation Scores:[ 0.68213511  0.66688663  0.58201415  0.61677746  0.5889138 ]\n",
      "Average Cross-Validation Score: 0.6273454290451127\n",
      "\n",
      "\n",
      "Validation Standard Deviation: 0.0405191619457333\n",
      "\n",
      "\n",
      "Train Scores:[ 0.67002945  0.66931914  0.68672128  0.68427833  0.68615464]\n",
      "Average Train Score: 0.6793005687416642\n",
      "\n",
      "\n",
      "Average MSE Score: 6992.221198315887\n",
      "\n",
      "\n",
      "New X Shape: (2699, 136)\n",
      "New X_train Shape: (2699, 136)\n"
     ]
    }
   ],
   "source": [
    "sfm_p_lasso, new_X_train_p_lasso, new_X_test_p_lasso = SFM(lasso_p, X_train_p_scaled, y_train_p, X_test_p_scaled,\n",
    "                                                           y_test_p, thresh=1e-5)"
   ]
  },
  {
   "cell_type": "markdown",
   "metadata": {},
   "source": [
    "#### X2 Features"
   ]
  },
  {
   "cell_type": "code",
   "execution_count": 32,
   "metadata": {},
   "outputs": [
    {
     "name": "stdout",
     "output_type": "stream",
     "text": [
      "Cross-Validation Scores:[ 0.6776887   0.66024152  0.57927544  0.61348707  0.59242393]\n",
      "Average Cross-Validation Score: 0.6246233313213235\n",
      "\n",
      "\n",
      "Validation Standard Deviation: 0.03821475592887901\n",
      "\n",
      "\n",
      "Train Scores:[ 0.66865026  0.66837593  0.68590438  0.6827691   0.68285474]\n",
      "Average Train Score: 0.6777108808737501\n",
      "\n",
      "\n",
      "Average MSE Score: 7042.123382686169\n"
     ]
    }
   ],
   "source": [
    "lasso2_p = Lasso(random_state=1)\n",
    "\n",
    "lasso2_p,lasso2_p_score = Reg_Model(X2_train_p_scaled, y2_train_p, X2_test_p_scaled, y2_test_p, lasso2_p)"
   ]
  },
  {
   "cell_type": "markdown",
   "metadata": {},
   "source": [
    "#### SelectFromModel Feature Selection X2"
   ]
  },
  {
   "cell_type": "code",
   "execution_count": 33,
   "metadata": {},
   "outputs": [
    {
     "name": "stdout",
     "output_type": "stream",
     "text": [
      "Cross-Validation Scores:[ 0.68210975  0.66580877  0.58296313  0.61406772  0.5950146 ]\n",
      "Average Cross-Validation Score: 0.6279927945106907\n",
      "\n",
      "\n",
      "Validation Standard Deviation: 0.039160775771450246\n",
      "\n",
      "\n",
      "Train Scores:[ 0.66745956  0.66710594  0.68467627  0.68242713  0.68214303]\n",
      "Average Train Score: 0.6767623839315096\n",
      "\n",
      "\n",
      "Average MSE Score: 6979.845771664671\n",
      "\n",
      "\n",
      "New X Shape: (2699, 128)\n",
      "New X_train Shape: (2699, 128)\n"
     ]
    }
   ],
   "source": [
    "sfm2_p_lasso, new_X2_train_p_lasso, new_X2_test_p_lasso = SFM(lasso2_p, X2_train_p_scaled, y2_train_p, X2_test_p_scaled,\n",
    "                                                           y2_test_p, thresh=1e-5)"
   ]
  },
  {
   "cell_type": "markdown",
   "metadata": {},
   "source": [
    "#### Hyper-parameter Tuning"
   ]
  },
  {
   "cell_type": "code",
   "execution_count": 34,
   "metadata": {},
   "outputs": [
    {
     "name": "stdout",
     "output_type": "stream",
     "text": [
      "Cross-Validation Scores:[ 0.68292914  0.66426287  0.57777513  0.61380916  0.59461295]\n",
      "Average Cross-Validation Score: 0.6266778492439083\n",
      "\n",
      "\n",
      "Validation Standard Deviation: 0.04040316487845373\n",
      "\n",
      "\n",
      "Train Scores:[ 0.66403949  0.6698866   0.6776112   0.68145908  0.68050433]\n",
      "Average Train Score: 0.6747001403518934\n",
      "\n",
      "\n",
      "Average MSE Score: 7002.283047256557\n",
      "\n",
      " Best Alpha:0.7283458450867367\n"
     ]
    }
   ],
   "source": [
    "lasso_p_gs = LassoCV(random_state=1)\n",
    "\n",
    "lasso_p_gs,lasso_p_gs_score = Reg_Model(new_X2_train_p_lasso, y2_train_p, new_X2_test_p_lasso, y2_test_p, lasso_p_gs)\n",
    "\n",
    "print('\\n','Best Alpha:{}'.format(lasso_p_gs.alpha_))"
   ]
  },
  {
   "cell_type": "markdown",
   "metadata": {},
   "source": [
    "<a id='en'></a>\n",
    "# ElasticNet Regression\n",
    "\n",
    "#### X1 Features"
   ]
  },
  {
   "cell_type": "code",
   "execution_count": 35,
   "metadata": {},
   "outputs": [
    {
     "name": "stdout",
     "output_type": "stream",
     "text": [
      "Cross-Validation Scores:[ 0.66280744  0.64204424  0.58116729  0.58690617  0.59436668]\n",
      "Average Cross-Validation Score: 0.6134583638238148\n",
      "\n",
      "\n",
      "Validation Standard Deviation: 0.032755786471250145\n",
      "\n",
      "\n",
      "Train Scores:[ 0.64899784  0.64848481  0.66666211  0.66427036  0.66355262]\n",
      "Average Train Score: 0.6583935484897101\n",
      "\n",
      "\n",
      "Average MSE Score: 7260.395548734645\n"
     ]
    }
   ],
   "source": [
    "en_p = ElasticNet(random_state=1)\n",
    "\n",
    "en_p, en_p_score = Reg_Model(X_train_p_scaled, y_train_p, X_test_p_scaled, y_test_p, en_p)"
   ]
  },
  {
   "cell_type": "markdown",
   "metadata": {},
   "source": [
    "#### SelectFromModel Feature Selection X1"
   ]
  },
  {
   "cell_type": "code",
   "execution_count": 36,
   "metadata": {},
   "outputs": [
    {
     "name": "stdout",
     "output_type": "stream",
     "text": [
      "Cross-Validation Scores:[ 0.67329029  0.65501033  0.58814502  0.59314311  0.60058303]\n",
      "Average Cross-Validation Score: 0.6220343573415463\n",
      "\n",
      "\n",
      "Validation Standard Deviation: 0.03509397763880618\n",
      "\n",
      "\n",
      "Train Scores:[ 0.63689632  0.63511799  0.65523446  0.65239988  0.65076316]\n",
      "Average Train Score: 0.6460823608660897\n",
      "\n",
      "\n",
      "Average MSE Score: 7099.346428711042\n",
      "\n",
      "\n",
      "New X Shape: (2699, 73)\n",
      "New X_train Shape: (2699, 73)\n"
     ]
    }
   ],
   "source": [
    "sfm_p_en, new_X_train_p_en, new_X_test_p_en = SFM(en_p, X_train_p_scaled, y_train_p, X_test_p_scaled,y_test_p)"
   ]
  },
  {
   "cell_type": "markdown",
   "metadata": {},
   "source": [
    "#### X2 Features"
   ]
  },
  {
   "cell_type": "code",
   "execution_count": 37,
   "metadata": {},
   "outputs": [
    {
     "name": "stdout",
     "output_type": "stream",
     "text": [
      "Cross-Validation Scores:[ 0.66434746  0.64125118  0.57798538  0.58573687  0.59686977]\n",
      "Average Cross-Validation Score: 0.613238132794862\n",
      "\n",
      "\n",
      "Validation Standard Deviation: 0.033656776959055244\n",
      "\n",
      "\n",
      "Train Scores:[ 0.64564657  0.64547017  0.66510899  0.66136341  0.65988098]\n",
      "Average Train Score: 0.6554940240236693\n",
      "\n",
      "\n",
      "Average MSE Score: 7262.836237907449\n"
     ]
    }
   ],
   "source": [
    "en2_p = ElasticNet(random_state=1)\n",
    "\n",
    "en2_p, en2_p_score = Reg_Model(X2_train_p_scaled, y2_train_p, X2_test_p_scaled, y2_test_p, en2_p)"
   ]
  },
  {
   "cell_type": "markdown",
   "metadata": {},
   "source": [
    "#### SelectFromModel Feature Selection X2"
   ]
  },
  {
   "cell_type": "code",
   "execution_count": 38,
   "metadata": {},
   "outputs": [
    {
     "name": "stdout",
     "output_type": "stream",
     "text": [
      "Cross-Validation Scores:[ 0.67365674  0.65174614  0.58537249  0.5910042   0.60142682]\n",
      "Average Cross-Validation Score: 0.6206412780241981\n",
      "\n",
      "\n",
      "Validation Standard Deviation: 0.035410707141786416\n",
      "\n",
      "\n",
      "Train Scores:[ 0.6326639   0.63134949  0.65198939  0.64825175  0.64769347]\n",
      "Average Train Score: 0.642389601402783\n",
      "\n",
      "\n",
      "Average MSE Score: 7124.998764413003\n",
      "\n",
      "\n",
      "New X Shape: (2699, 61)\n",
      "New X_train Shape: (2699, 61)\n"
     ]
    }
   ],
   "source": [
    "sfm2_p_en, new_X2_train_p_en, new_X2_test_p_en = SFM(en_p, X2_train_p_scaled, y2_train_p, X2_test_p_scaled,y2_test_p)"
   ]
  },
  {
   "cell_type": "markdown",
   "metadata": {},
   "source": [
    "#### Hyper-parameter Tuning"
   ]
  },
  {
   "cell_type": "code",
   "execution_count": 39,
   "metadata": {},
   "outputs": [
    {
     "name": "stdout",
     "output_type": "stream",
     "text": [
      "Cross-Validation Scores:[ 0.68489981  0.67489828  0.59271102  0.61484128  0.60454397]\n",
      "Average Cross-Validation Score: 0.6343788708950434\n",
      "\n",
      "\n",
      "Validation Standard Deviation: 0.03795322354370925\n",
      "\n",
      "\n",
      "Train Scores:[ 0.65775258  0.65782733  0.67578057  0.67186668  0.67609527]\n",
      "Average Train Score: 0.6678644845263595\n",
      "\n",
      "\n",
      "Average MSE Score: 6861.341072480334\n",
      "\n",
      " Best Alpha:0.2577383245498796\n",
      "\n",
      " Best L1 Ratio:0.7\n",
      "done in 7.613s\n"
     ]
    }
   ],
   "source": [
    "t0 = time()\n",
    "en_p_gs = ElasticNetCV(l1_ratio=[.1, .5, .7,.9,.99, 1],random_state=1)\n",
    "\n",
    "en_p_gs, en_p_gs_score = Reg_Model(new_X_train_p_en, y_train_p, new_X_test_p_en, y_test_p, en_p_gs)\n",
    "\n",
    "print('\\n','Best Alpha:{}'.format(en_p_gs.alpha_))\n",
    "print('\\n','Best L1 Ratio:{}'.format(en_p_gs.l1_ratio_))\n",
    "print(\"done in %0.3fs\" % (time() - t0))"
   ]
  },
  {
   "cell_type": "markdown",
   "metadata": {},
   "source": [
    "<a id='svr'></a>\n",
    "# Support Vector Regression\n",
    "\n",
    "#### X1 Features"
   ]
  },
  {
   "cell_type": "code",
   "execution_count": 40,
   "metadata": {},
   "outputs": [
    {
     "name": "stdout",
     "output_type": "stream",
     "text": [
      "Cross-Validation Scores:[ 0.05332078  0.04193876  0.05563635  0.03861819  0.01640926]\n",
      "Average Cross-Validation Score: 0.04118466839946646\n",
      "\n",
      "\n",
      "Validation Standard Deviation: 0.013979360440112039\n",
      "\n",
      "\n",
      "Train Scores:[ 0.0389161   0.0510056   0.04651356  0.04819412  0.05342379]\n",
      "Average Train Score: 0.04761063383612511\n",
      "\n",
      "\n",
      "Average MSE Score: 18028.559686442266\n"
     ]
    }
   ],
   "source": [
    "svr_p = SVR()\n",
    "\n",
    "svr_p, svr_p_score = Reg_Model(X_train_p_scaled, y_train_p, X_test_p_scaled, y_test_p, svr_p)"
   ]
  },
  {
   "cell_type": "markdown",
   "metadata": {},
   "source": [
    "#### X2 Features"
   ]
  },
  {
   "cell_type": "code",
   "execution_count": 41,
   "metadata": {},
   "outputs": [
    {
     "name": "stdout",
     "output_type": "stream",
     "text": [
      "Cross-Validation Scores:[ 0.04649625  0.0358095   0.05158159  0.03093573  0.01021413]\n",
      "Average Cross-Validation Score: 0.03500743856985129\n",
      "\n",
      "\n",
      "Validation Standard Deviation: 0.014412670823973744\n",
      "\n",
      "\n",
      "Train Scores:[ 0.03332529  0.04461087  0.04001344  0.04217481  0.04727575]\n",
      "Average Train Score: 0.041480030789520006\n",
      "\n",
      "\n",
      "Average MSE Score: 18146.080162090457\n"
     ]
    }
   ],
   "source": [
    "svr2_p = SVR()\n",
    "\n",
    "svr2_p, svr2_p_score = Reg_Model(X2_train_p_scaled, y2_train_p, X2_test_p_scaled, y2_test_p, svr2_p)"
   ]
  },
  {
   "cell_type": "markdown",
   "metadata": {},
   "source": [
    "#### Hyper-parameter Tuning"
   ]
  },
  {
   "cell_type": "code",
   "execution_count": 42,
   "metadata": {
    "scrolled": false
   },
   "outputs": [
    {
     "name": "stdout",
     "output_type": "stream",
     "text": [
      "Average Validation Score: 0.5864717324008003\n",
      "\n",
      "\n",
      "Validation Standard Deviation: 0.046223900983371057\n",
      "\n",
      "\n",
      "Average Train Score: 0.6441704340071216\n",
      "\n",
      "\n",
      "Best Estimator: SVR(C=1, cache_size=200, coef0=0.0, degree=3, epsilon=0.1, gamma=0.001,\n",
      "  kernel='linear', max_iter=-1, shrinking=True, tol=0.001, verbose=False)\n",
      "\n",
      "\n",
      "Best Params: {'C': 1, 'gamma': 0.001, 'kernel': 'linear'}\n",
      "\n",
      "\n",
      "done in 403.724s\n"
     ]
    }
   ],
   "source": [
    "t0 = time()\n",
    "\n",
    "parameters = {'C':[0.1, 1, 10],'gamma': [0.001, 0.01, 0.1, 1],\"kernel\" : ['linear', 'poly', 'rbf', 'sigmoid']}\n",
    "svr_p_gs = Reg_Model(X_train_p_scaled, y_train_p, X_test_p_scaled, y_test_p, svr_p, gridsearch=True, param_grid=parameters)\n",
    "\n",
    "print(\"done in %0.3fs\" % (time() - t0))"
   ]
  },
  {
   "cell_type": "markdown",
   "metadata": {},
   "source": [
    "<a id='non'></a>\n",
    "<center><h1>Non-Parametric Models</h1></center>\n",
    "\n",
    "<a id='knn'></a>\n",
    "# K-Nearest Neighbors Regression \n",
    "\n",
    "KNN regression most likely won't fit that well with this many features, but we can try a range of K values and see how they perform"
   ]
  },
  {
   "cell_type": "code",
   "execution_count": 43,
   "metadata": {},
   "outputs": [],
   "source": [
    "from sklearn.neighbors import KNeighborsRegressor\n",
    "from sklearn.tree import DecisionTreeRegressor"
   ]
  },
  {
   "cell_type": "markdown",
   "metadata": {},
   "source": [
    "#### X1 Features"
   ]
  },
  {
   "cell_type": "code",
   "execution_count": 44,
   "metadata": {},
   "outputs": [
    {
     "name": "stdout",
     "output_type": "stream",
     "text": [
      "Cross-Validation Scores:[ 0.27400195  0.31830995  0.32858834  0.28214885  0.26402256]\n",
      "Average Cross-Validation Score: 0.2934143283203882\n",
      "\n",
      "\n",
      "Validation Standard Deviation: 0.025395396367668372\n",
      "\n",
      "\n",
      "Train Scores:[ 0.54405562  0.55235772  0.53985962  0.53687313  0.55411615]\n",
      "Average Train Score: 0.5454524486550307\n",
      "\n",
      "\n",
      "Average MSE Score: 13295.703685892944\n"
     ]
    }
   ],
   "source": [
    "knn_p = KNeighborsRegressor()\n",
    "\n",
    "knn_p, knn_p_score = Reg_Model(X_train_p_scaled, y_train_p, X_test_p_scaled, y_test_p, knn_p)"
   ]
  },
  {
   "cell_type": "markdown",
   "metadata": {},
   "source": [
    "#### X2 Features"
   ]
  },
  {
   "cell_type": "code",
   "execution_count": 45,
   "metadata": {},
   "outputs": [
    {
     "name": "stdout",
     "output_type": "stream",
     "text": [
      "Cross-Validation Scores:[ 0.29006204  0.26970966  0.31023398  0.29759352  0.26283991]\n",
      "Average Cross-Validation Score: 0.28608782375986574\n",
      "\n",
      "\n",
      "Validation Standard Deviation: 0.017549485289180503\n",
      "\n",
      "\n",
      "Train Scores:[ 0.53975087  0.55347155  0.53411353  0.53195501  0.55551736]\n",
      "Average Train Score: 0.5429616646343307\n",
      "\n",
      "\n",
      "Average MSE Score: 13430.53879323851\n"
     ]
    }
   ],
   "source": [
    "knn2_p = KNeighborsRegressor()\n",
    "\n",
    "knn2_p, knn2_p_score = Reg_Model(X2_train_p_scaled, y2_train_p, X2_test_p_scaled, y2_test_p, knn2_p)"
   ]
  },
  {
   "cell_type": "markdown",
   "metadata": {},
   "source": [
    "#### Hyper-parameter Tuning"
   ]
  },
  {
   "cell_type": "code",
   "execution_count": 46,
   "metadata": {},
   "outputs": [
    {
     "name": "stdout",
     "output_type": "stream",
     "text": [
      "Average Validation Score: 0.33552233966119255\n",
      "\n",
      "\n",
      "Validation Standard Deviation: 0.013251973517028089\n",
      "\n",
      "\n",
      "Average Train Score: 0.4086885271525684\n",
      "\n",
      "\n",
      "Best Estimator: KNeighborsRegressor(algorithm='auto', leaf_size=30, metric='minkowski',\n",
      "          metric_params=None, n_jobs=1, n_neighbors=19, p=2,\n",
      "          weights='uniform')\n",
      "\n",
      "\n",
      "Best Params: {'n_neighbors': 19}\n",
      "\n",
      "\n",
      "done in 26.782s\n"
     ]
    }
   ],
   "source": [
    "t0 = time()\n",
    "knn_grid = {'n_neighbors':np.arange(1,20,3)}\n",
    "\n",
    "knn_p_gs = Reg_Model(X_train_p_scaled, y_train_p, X_test_p_scaled, y_test_p, knn_p, gridsearch=True, param_grid=knn_grid)\n",
    "\n",
    "knn_p_gs.best_params_\n",
    "\n",
    "print(\"done in %0.3fs\" % (time() - t0))"
   ]
  },
  {
   "cell_type": "markdown",
   "metadata": {},
   "source": [
    "<a id='dt'></a>\n",
    "# Decision Tree \n",
    "\n",
    "For tree models, we do not need to scale our data\n",
    "\n",
    "#### X1 Features"
   ]
  },
  {
   "cell_type": "code",
   "execution_count": 47,
   "metadata": {},
   "outputs": [
    {
     "name": "stdout",
     "output_type": "stream",
     "text": [
      "Cross-Validation Scores:[ 0.17888732  0.43116434  0.09912278  0.23731777  0.08208901]\n",
      "Average Cross-Validation Score: 0.205716243921027\n",
      "\n",
      "\n",
      "Validation Standard Deviation: 0.12585003259742014\n",
      "\n",
      "\n",
      "Train Scores:[ 1.  1.  1.  1.  1.]\n",
      "Average Train Score: 1.0\n",
      "\n",
      "\n",
      "Average MSE Score: 14842.096516869375\n"
     ]
    }
   ],
   "source": [
    "dt_p = DecisionTreeRegressor(random_state=1)\n",
    "\n",
    "dt_p, dt_p_score = Reg_Model(X_train_p, y_train_p, X_test_p, y_test_p, dt_p)"
   ]
  },
  {
   "cell_type": "markdown",
   "metadata": {},
   "source": [
    "#### SelectFromModel Feature Selection X1"
   ]
  },
  {
   "cell_type": "code",
   "execution_count": 48,
   "metadata": {},
   "outputs": [
    {
     "name": "stdout",
     "output_type": "stream",
     "text": [
      "Cross-Validation Scores:[ 0.26791955  0.38508163  0.16738082  0.3191843   0.09696914]\n",
      "Average Cross-Validation Score: 0.2473070891769625\n",
      "\n",
      "\n",
      "Validation Standard Deviation: 0.10350143923072601\n",
      "\n",
      "\n",
      "Train Scores:[ 1.  1.  1.  1.  1.]\n",
      "Average Train Score: 1.0\n",
      "\n",
      "\n",
      "Average MSE Score: 14095.71602350031\n",
      "\n",
      "\n",
      "New X Shape: (2699, 30)\n",
      "New X_train Shape: (2699, 30)\n"
     ]
    }
   ],
   "source": [
    "sfm_p_dt, new_X_train_p_dt, new_X_test_p_dt = SFM(dt_p, X_train_p, y_train_p, X_test_p, y_test_p)"
   ]
  },
  {
   "cell_type": "markdown",
   "metadata": {},
   "source": [
    "#### X2 Features"
   ]
  },
  {
   "cell_type": "code",
   "execution_count": 49,
   "metadata": {},
   "outputs": [
    {
     "name": "stdout",
     "output_type": "stream",
     "text": [
      "Cross-Validation Scores:[ 0.13872548  0.31959481  0.11725223  0.27884868  0.16224852]\n",
      "Average Cross-Validation Score: 0.2033339456466597\n",
      "\n",
      "\n",
      "Validation Standard Deviation: 0.08061189836590008\n",
      "\n",
      "\n",
      "Train Scores:[ 1.  1.  1.  1.  1.]\n",
      "Average Train Score: 1.0\n",
      "\n",
      "\n",
      "Average MSE Score: 14874.32951899952\n"
     ]
    }
   ],
   "source": [
    "dt2_p = DecisionTreeRegressor(random_state=1)\n",
    "\n",
    "dt2_p, dt2_p_score = Reg_Model(X2_train_p, y2_train_p, X2_test_p, y2_test_p, dt2_p)"
   ]
  },
  {
   "cell_type": "markdown",
   "metadata": {},
   "source": [
    "#### SelectFromModel Feature Selection X2"
   ]
  },
  {
   "cell_type": "code",
   "execution_count": 50,
   "metadata": {},
   "outputs": [
    {
     "name": "stdout",
     "output_type": "stream",
     "text": [
      "Cross-Validation Scores:[ 0.16512366  0.27876812  0.05523165  0.33711917  0.11542988]\n",
      "Average Cross-Validation Score: 0.19033449527787188\n",
      "\n",
      "\n",
      "Validation Standard Deviation: 0.10379336235752488\n",
      "\n",
      "\n",
      "Train Scores:[ 1.  1.  1.  1.  1.]\n",
      "Average Train Score: 1.0\n",
      "\n",
      "\n",
      "Average MSE Score: 15092.525060125063\n",
      "\n",
      "\n",
      "New X Shape: (2699, 23)\n",
      "New X_train Shape: (2699, 23)\n"
     ]
    }
   ],
   "source": [
    "sfm2_p_dt, new_X2_train_p_dt, new_X2_test_p_dt = SFM(dt2_p, X2_train_p, y2_train_p, X2_test_p, y2_test_p)"
   ]
  },
  {
   "cell_type": "markdown",
   "metadata": {},
   "source": [
    "#### Hyper-parameter Tuning"
   ]
  },
  {
   "cell_type": "code",
   "execution_count": 51,
   "metadata": {},
   "outputs": [
    {
     "name": "stdout",
     "output_type": "stream",
     "text": [
      "Average Validation Score: 0.5487250342616388\n",
      "\n",
      "\n",
      "Validation Standard Deviation: 0.02323462201581\n",
      "\n",
      "\n",
      "Average Train Score: 0.6450482902753141\n",
      "\n",
      "\n",
      "Best Estimator: DecisionTreeRegressor(criterion='mse', max_depth=8, max_features=0.8,\n",
      "           max_leaf_nodes=None, min_impurity_decrease=0.0,\n",
      "           min_impurity_split=None, min_samples_leaf=1,\n",
      "           min_samples_split=32, min_weight_fraction_leaf=0.0,\n",
      "           presort=False, random_state=1, splitter='random')\n",
      "\n",
      "\n",
      "Best Params: {'max_depth': 8, 'max_features': 0.8, 'min_samples_split': 32, 'random_state': 1, 'splitter': 'random'}\n",
      "\n",
      "\n",
      "done in 25.978s\n"
     ]
    }
   ],
   "source": [
    "t0 = time()\n",
    "dt_grid = {'splitter':['best','random'],\n",
    "           'min_samples_split':np.arange(2,50,2),\n",
    "           'max_depth':[None,2,4,6,8,10,12,14],\n",
    "           'max_features':['sqrt',.5,.7,.8,.9,'auto'],\n",
    "           'random_state':[1]\n",
    "             }\n",
    "\n",
    "dt_p_gs = Reg_Model(new_X_train_p_dt, y_train_p, new_X_test_p_dt, y_test_p, dt_p, gridsearch=True, param_grid=dt_grid)\n",
    "print(\"done in %0.3fs\" % (time() - t0))"
   ]
  },
  {
   "cell_type": "markdown",
   "metadata": {},
   "source": [
    "\n",
    "<a id='ensemble'></a>\n",
    "<center><h1> Ensemble Methods </h1></center>"
   ]
  },
  {
   "cell_type": "code",
   "execution_count": 52,
   "metadata": {},
   "outputs": [],
   "source": [
    "from sklearn.ensemble import RandomForestRegressor\n",
    "from sklearn.ensemble import ExtraTreesRegressor\n",
    "from sklearn.ensemble import AdaBoostRegressor\n",
    "from sklearn.ensemble import GradientBoostingRegressor\n",
    "from xgboost import XGBRegressor"
   ]
  },
  {
   "cell_type": "markdown",
   "metadata": {},
   "source": [
    "<a id='rfr'></a>\n",
    "# Random Forest Regression\n",
    "\n",
    "#### X1 Features"
   ]
  },
  {
   "cell_type": "code",
   "execution_count": 53,
   "metadata": {},
   "outputs": [
    {
     "name": "stdout",
     "output_type": "stream",
     "text": [
      "Cross-Validation Scores:[ 0.57867281  0.61294585  0.47730703  0.56419182  0.55499501]\n",
      "Average Cross-Validation Score: 0.5576225041469409\n",
      "\n",
      "\n",
      "Validation Standard Deviation: 0.04473124667821807\n",
      "\n",
      "\n",
      "Train Scores:[ 0.91765828  0.92184376  0.93396356  0.92632972  0.93224209]\n",
      "Average Train Score: 0.9264074821378664\n",
      "\n",
      "\n",
      "Average MSE Score: 8258.432573613689\n"
     ]
    }
   ],
   "source": [
    "rfr_p = RandomForestRegressor(random_state=1)\n",
    "\n",
    "rfr_p, rfr_p_score = Reg_Model(X_train_p, y_train_p, X_test_p, y_test_p, rfr_p)"
   ]
  },
  {
   "cell_type": "markdown",
   "metadata": {},
   "source": [
    "#### SelectFromModel Feature Selection X1"
   ]
  },
  {
   "cell_type": "code",
   "execution_count": 54,
   "metadata": {},
   "outputs": [
    {
     "name": "stdout",
     "output_type": "stream",
     "text": [
      "Cross-Validation Scores:[ 0.57505283  0.62758086  0.49058167  0.55175846  0.53144975]\n",
      "Average Cross-Validation Score: 0.5552847145388302\n",
      "\n",
      "\n",
      "Validation Standard Deviation: 0.045573095028329125\n",
      "\n",
      "\n",
      "Train Scores:[ 0.91736279  0.9260248   0.93575727  0.9275371   0.92786903]\n",
      "Average Train Score: 0.9269101991668869\n",
      "\n",
      "\n",
      "Average MSE Score: 8316.645901078815\n",
      "\n",
      "\n",
      "New X Shape: (2699, 25)\n",
      "New X_train Shape: (2699, 25)\n"
     ]
    }
   ],
   "source": [
    "sfm_p_rfr, new_X_train_p_rfr, new_X_test_p_rfr = SFM(rfr_p, X_train_p, y_train_p, X_test_p, y_test_p)"
   ]
  },
  {
   "cell_type": "markdown",
   "metadata": {},
   "source": [
    "#### X2 Features"
   ]
  },
  {
   "cell_type": "code",
   "execution_count": 55,
   "metadata": {},
   "outputs": [
    {
     "name": "stdout",
     "output_type": "stream",
     "text": [
      "Cross-Validation Scores:[ 0.57589628  0.62041734  0.50994704  0.5244374   0.5484997 ]\n",
      "Average Cross-Validation Score: 0.5558395509901558\n",
      "\n",
      "\n",
      "Validation Standard Deviation: 0.03929034146915194\n",
      "\n",
      "\n",
      "Train Scores:[ 0.92116515  0.92385496  0.93226185  0.93001761  0.93235803]\n",
      "Average Train Score: 0.9279315235101986\n",
      "\n",
      "\n",
      "Average MSE Score: 8321.486776424106\n"
     ]
    }
   ],
   "source": [
    "rfr2_p = RandomForestRegressor(random_state=1)\n",
    "\n",
    "rfr2_p, rfr2_p_score = Reg_Model(X2_train_p, y2_train_p, X2_test_p, y2_test_p, rfr2_p)"
   ]
  },
  {
   "cell_type": "markdown",
   "metadata": {},
   "source": [
    "#### SelectFromModel Feature Selection X2"
   ]
  },
  {
   "cell_type": "code",
   "execution_count": 56,
   "metadata": {
    "scrolled": true
   },
   "outputs": [
    {
     "name": "stdout",
     "output_type": "stream",
     "text": [
      "Cross-Validation Scores:[ 0.60247375  0.63236102  0.49764466  0.52293012  0.52860313]\n",
      "Average Cross-Validation Score: 0.5568025381929033\n",
      "\n",
      "\n",
      "Validation Standard Deviation: 0.05145317481655159\n",
      "\n",
      "\n",
      "Train Scores:[ 0.91569635  0.92454959  0.93187199  0.92794825  0.9317115 ]\n",
      "Average Train Score: 0.9263555378005908\n",
      "\n",
      "\n",
      "Average MSE Score: 8305.525384264412\n",
      "\n",
      "\n",
      "New X Shape: (2699, 18)\n",
      "New X_train Shape: (2699, 18)\n"
     ]
    }
   ],
   "source": [
    "sfm2_p_rfr, new_X2_train_p_rfr, new_X2_test_p_rfr = SFM(rfr2_p, X2_train_p, y2_train_p, X2_test_p, y2_test_p)"
   ]
  },
  {
   "cell_type": "markdown",
   "metadata": {},
   "source": [
    "#### Hyper-parameter tuning"
   ]
  },
  {
   "cell_type": "code",
   "execution_count": 57,
   "metadata": {},
   "outputs": [
    {
     "name": "stdout",
     "output_type": "stream",
     "text": [
      "Average Validation Score: 0.6237748553767873\n",
      "\n",
      "\n",
      "Validation Standard Deviation: 0.043979350889903734\n",
      "\n",
      "\n",
      "Average Train Score: 0.9490757873235106\n",
      "\n",
      "\n",
      "Best Estimator: RandomForestRegressor(bootstrap=True, criterion='mse', max_depth=None,\n",
      "           max_features=0.4, max_leaf_nodes=None,\n",
      "           min_impurity_decrease=0.0, min_impurity_split=None,\n",
      "           min_samples_leaf=1, min_samples_split=2,\n",
      "           min_weight_fraction_leaf=0.0, n_estimators=200, n_jobs=1,\n",
      "           oob_score=False, random_state=1, verbose=0, warm_start=False)\n",
      "\n",
      "\n",
      "Best Params: {'max_depth': None, 'max_features': 0.4, 'min_samples_split': 2, 'n_estimators': 200, 'random_state': 1}\n",
      "\n",
      "\n",
      "done in 328.953s\n"
     ]
    }
   ],
   "source": [
    "t0 = time()\n",
    "parameters = { 'n_estimators': [200],\n",
    "              'min_samples_split': [2,5,7,9],\n",
    "              'max_depth':[None,15,20,25],\n",
    "              'max_features':[.3,.4,.8,'auto'],\n",
    "              'random_state':[1]\n",
    "             }\n",
    "\n",
    "rfr_p_gs = Reg_Model(X2_train_p, y2_train_p, X2_test_p, y2_test_p, rfr2_p,\n",
    "                     param_grid = parameters, gridsearch=True)\n",
    "print(\"done in %0.3fs\" % (time() - t0))"
   ]
  },
  {
   "cell_type": "markdown",
   "metadata": {},
   "source": [
    "<a id='extra'></a>\n",
    "# Extra-Random Forest Regression\n",
    "\n",
    "#### X1 Features"
   ]
  },
  {
   "cell_type": "code",
   "execution_count": 58,
   "metadata": {},
   "outputs": [
    {
     "name": "stdout",
     "output_type": "stream",
     "text": [
      "Cross-Validation Scores:[ 0.58759965  0.61406671  0.4843242   0.54096704  0.52299304]\n",
      "Average Cross-Validation Score: 0.5499901274656087\n",
      "\n",
      "\n",
      "Validation Standard Deviation: 0.0461357934158131\n",
      "\n",
      "\n",
      "Train Scores:[ 1.          1.          1.          0.99999999  1.        ]\n",
      "Average Train Score: 0.9999999974882385\n",
      "\n",
      "\n",
      "Average MSE Score: 8422.84781047894\n"
     ]
    }
   ],
   "source": [
    "extra_p = ExtraTreesRegressor(random_state=1)\n",
    "\n",
    "extra_p, extra_p_score = Reg_Model(X_train_p, y_train_p, X_test_p, y_test_p, extra_p)"
   ]
  },
  {
   "cell_type": "markdown",
   "metadata": {},
   "source": [
    "#### SelectFromModel Feature Selection X1"
   ]
  },
  {
   "cell_type": "code",
   "execution_count": 59,
   "metadata": {},
   "outputs": [
    {
     "name": "stdout",
     "output_type": "stream",
     "text": [
      "Cross-Validation Scores:[ 0.6284409   0.62156018  0.5742329   0.58121419  0.55861232]\n",
      "Average Cross-Validation Score: 0.5928120976127493\n",
      "\n",
      "\n",
      "Validation Standard Deviation: 0.027368547475859473\n",
      "\n",
      "\n",
      "Train Scores:[ 1.          1.          1.          1.          0.99999999]\n",
      "Average Train Score: 0.9999999974893781\n",
      "\n",
      "\n",
      "Average MSE Score: 7653.104236652236\n",
      "\n",
      "\n",
      "New X Shape: (2699, 34)\n",
      "New X_train Shape: (2699, 34)\n"
     ]
    }
   ],
   "source": [
    "sfm_p_extra, new_X_train_p_extra, new_X_test_p_extra = SFM(extra_p, X_train_p, y_train_p, X_test_p, y_test_p)"
   ]
  },
  {
   "cell_type": "markdown",
   "metadata": {},
   "source": [
    "#### X2 Features"
   ]
  },
  {
   "cell_type": "code",
   "execution_count": 60,
   "metadata": {},
   "outputs": [
    {
     "name": "stdout",
     "output_type": "stream",
     "text": [
      "Cross-Validation Scores:[ 0.57115059  0.6353932   0.48712478  0.53313796  0.54826929]\n",
      "Average Cross-Validation Score: 0.5550151656141457\n",
      "\n",
      "\n",
      "Validation Standard Deviation: 0.04869127998691827\n",
      "\n",
      "\n",
      "Train Scores:[ 1.          1.          1.          0.99999999  0.99999999]\n",
      "Average Train Score: 0.9999999949776166\n",
      "\n",
      "\n",
      "Average MSE Score: 8318.367043248814\n"
     ]
    }
   ],
   "source": [
    "extra2_p = ExtraTreesRegressor(random_state=1)\n",
    "\n",
    "extra2_p, extra2_p_score = Reg_Model(X2_train_p, y2_train_p, X2_test_p, y2_test_p, extra_p)"
   ]
  },
  {
   "cell_type": "markdown",
   "metadata": {},
   "source": [
    "#### SelectFromModel Feature Selection X2"
   ]
  },
  {
   "cell_type": "code",
   "execution_count": 61,
   "metadata": {
    "scrolled": true
   },
   "outputs": [
    {
     "name": "stdout",
     "output_type": "stream",
     "text": [
      "Cross-Validation Scores:[ 0.66401725  0.64886683  0.54913882  0.59489292  0.5306192 ]\n",
      "Average Cross-Validation Score: 0.5975070026881518\n",
      "\n",
      "\n",
      "Validation Standard Deviation: 0.05269105904424052\n",
      "\n",
      "\n",
      "Train Scores:[ 1.  1.  1.  1.  1.]\n",
      "Average Train Score: 1.0\n",
      "\n",
      "\n",
      "Average MSE Score: 7556.852424558511\n",
      "\n",
      "\n",
      "New X Shape: (2699, 29)\n",
      "New X_train Shape: (2699, 29)\n"
     ]
    }
   ],
   "source": [
    "sfm2_p_extra, new_X2_train_p_extra, new_X2_test_p_extra = SFM(extra2_p, X2_train_p, y2_train_p, X2_test_p, y2_test_p)"
   ]
  },
  {
   "cell_type": "markdown",
   "metadata": {},
   "source": [
    "#### Hyper-parameter tuning"
   ]
  },
  {
   "cell_type": "code",
   "execution_count": 62,
   "metadata": {},
   "outputs": [
    {
     "name": "stdout",
     "output_type": "stream",
     "text": [
      "Average Validation Score: 0.6344453171200592\n",
      "\n",
      "\n",
      "Validation Standard Deviation: 0.044135984490059434\n",
      "\n",
      "\n",
      "Average Train Score: 0.9478854829341857\n",
      "\n",
      "\n",
      "Best Estimator: ExtraTreesRegressor(bootstrap=False, criterion='mse', max_depth=None,\n",
      "          max_features=0.3, max_leaf_nodes=None, min_impurity_decrease=0.0,\n",
      "          min_impurity_split=None, min_samples_leaf=1, min_samples_split=6,\n",
      "          min_weight_fraction_leaf=0.0, n_estimators=200, n_jobs=1,\n",
      "          oob_score=False, random_state=1, verbose=0, warm_start=False)\n",
      "\n",
      "\n",
      "Best Params: {'bootstrap': False, 'max_depth': None, 'max_features': 0.3, 'min_samples_split': 6, 'n_estimators': 200, 'random_state': 1}\n",
      "\n",
      "\n",
      "done in 177.959s\n"
     ]
    }
   ],
   "source": [
    "t0 = time()\n",
    "parameters = {'n_estimators': [200],\n",
    "              \"bootstrap\": [True,False],\n",
    "              'min_samples_split': [2,4,6,8],\n",
    "              'max_depth':[None,5,15,20,25],\n",
    "              'max_features':[.3,.6,.7,.8,'auto'],\n",
    "              'random_state':[1]\n",
    "             }\n",
    "\n",
    "extra_p_gs = Reg_Model(new_X2_train_p_extra, y2_train_p, new_X2_test_p_extra, y2_test_p, extra2_p,\n",
    "                       gridsearch=True, param_grid=parameters)\n",
    "print(\"done in %0.3fs\" % (time() - t0))"
   ]
  },
  {
   "cell_type": "markdown",
   "metadata": {},
   "source": [
    "# Boosting\n",
    "\n",
    "<a id='ada'></a>\n",
    "##  AdaBoost Regressor\n",
    "\n",
    "At each iteration, adaptive boosting changes the sample distribution by modifying the weights attached to each of the instances. It increases the weights of the wrongly predicted instances and decreases the ones of the correctly predicted instances. The weak learner thus focuses more on the difficult instances. After being trained, the weak learner is added to the strong one according to his performance (so-called alpha weight). The higher it performs, the more it contributes to the strong learner."
   ]
  },
  {
   "cell_type": "markdown",
   "metadata": {},
   "source": [
    "## Simple AdaBoost Regressor\n",
    "\n",
    "#### X1 Features"
   ]
  },
  {
   "cell_type": "code",
   "execution_count": 63,
   "metadata": {},
   "outputs": [
    {
     "name": "stdout",
     "output_type": "stream",
     "text": [
      "Cross-Validation Scores:[ 0.08980219  0.27810082  0.19719326  0.26576005  0.42143972]\n",
      "Average Cross-Validation Score: 0.2504592092757147\n",
      "\n",
      "\n",
      "Validation Standard Deviation: 0.1085176950296787\n",
      "\n",
      "\n",
      "Train Scores:[ 0.25398646  0.34111596  0.45186591  0.35869913  0.52091744]\n",
      "Average Train Score: 0.3853169804980305\n",
      "\n",
      "\n",
      "Average MSE Score: 13962.652536955886\n"
     ]
    }
   ],
   "source": [
    "ada_p = AdaBoostRegressor(n_estimators = 200, random_state=1)\n",
    "ada_p = Reg_Model(X_train_p, y_train_p, X_test_p, y_test_p, ada_p)"
   ]
  },
  {
   "cell_type": "markdown",
   "metadata": {},
   "source": [
    "#### X2 Features"
   ]
  },
  {
   "cell_type": "code",
   "execution_count": 64,
   "metadata": {},
   "outputs": [
    {
     "name": "stdout",
     "output_type": "stream",
     "text": [
      "Cross-Validation Scores:[ 0.0671046   0.27712194  0.16380236  0.21099489  0.32562096]\n",
      "Average Cross-Validation Score: 0.20892895013379364\n",
      "\n",
      "\n",
      "Validation Standard Deviation: 0.08991343791678028\n",
      "\n",
      "\n",
      "Train Scores:[ 0.20282548  0.33856634  0.42208066  0.32905599  0.43871281]\n",
      "Average Train Score: 0.34624825446147567\n",
      "\n",
      "\n",
      "Average MSE Score: 14762.7837680081\n"
     ]
    }
   ],
   "source": [
    "ada2_p = AdaBoostRegressor(n_estimators = 200, random_state=1)\n",
    "ada2_p = Reg_Model(X2_train_p, y2_train_p, X2_test_p, y2_test_p, ada2_p)"
   ]
  },
  {
   "cell_type": "markdown",
   "metadata": {},
   "source": [
    "#### AdaBoost Regressor with Best Decision Tree as Base Estimator"
   ]
  },
  {
   "cell_type": "code",
   "execution_count": 65,
   "metadata": {},
   "outputs": [
    {
     "name": "stdout",
     "output_type": "stream",
     "text": [
      "Cross-Validation Scores:[ 0.59584263  0.58855795  0.51255138  0.55097538  0.58195403]\n",
      "Average Cross-Validation Score: 0.5659762737916425\n",
      "\n",
      "\n",
      "Validation Standard Deviation: 0.03077812748957462\n",
      "\n",
      "\n",
      "Train Scores:[ 0.80535912  0.79131322  0.79868966  0.78791953  0.80808667]\n",
      "Average Train Score: 0.798273639253512\n",
      "\n",
      "\n",
      "Average MSE Score: 8124.8175732245145\n",
      "done in 13.749s\n"
     ]
    }
   ],
   "source": [
    "t0 = time()\n",
    "best_dt_p = DecisionTreeRegressor(max_depth= 8, max_features= .8,\n",
    "                                min_samples_split=32, splitter= 'random',\n",
    "                                random_state=1\n",
    "                               )\n",
    "\n",
    "ada_best_dt_p = AdaBoostRegressor(n_estimators=200, base_estimator=best_dt_p, random_state=1)\n",
    "\n",
    "ada_best_dt_p = Reg_Model(new_X_train_p_dt, y_train_p, new_X_test_p_dt, y_test_p,ada_best_dt_p)\n",
    "print(\"done in %0.3fs\" % (time() - t0))"
   ]
  },
  {
   "cell_type": "markdown",
   "metadata": {},
   "source": [
    "#### Hyper-parameter Tuning"
   ]
  },
  {
   "cell_type": "code",
   "execution_count": 66,
   "metadata": {},
   "outputs": [
    {
     "name": "stdout",
     "output_type": "stream",
     "text": [
      "Average Validation Score: 0.6076575726177023\n",
      "\n",
      "\n",
      "Validation Standard Deviation: 0.03884809754354692\n",
      "\n",
      "\n",
      "Average Train Score: 0.8089690176090863\n",
      "\n",
      "\n",
      "Best Estimator: AdaBoostRegressor(base_estimator=DecisionTreeRegressor(criterion='mse', max_depth=8, max_features=0.8,\n",
      "           max_leaf_nodes=None, min_impurity_decrease=0.0,\n",
      "           min_impurity_split=None, min_samples_leaf=1,\n",
      "           min_samples_split=32, min_weight_fraction_leaf=0.0,\n",
      "           presort=False, random_state=1, splitter='random'),\n",
      "         learning_rate=0.05, loss='linear', n_estimators=200,\n",
      "         random_state=1)\n",
      "\n",
      "\n",
      "Best Params: {'learning_rate': 0.05, 'n_estimators': 200, 'random_state': 1}\n",
      "\n",
      "\n",
      "done in 13.659s\n"
     ]
    }
   ],
   "source": [
    "t0= time()\n",
    "param_grid = {'n_estimators':[200],\n",
    "              'learning_rate':[.01,.05,.1,.5],\n",
    "              'random_state':[1]\n",
    "             }\n",
    "\n",
    "ada_best_dt_p = AdaBoostRegressor(n_estimators=200, base_estimator=best_dt_p, random_state=1)\n",
    "\n",
    "ada_p_gs = Reg_Model(new_X_train_p_dt, y_train_p, new_X_test_p_dt, y_test_p, ada_best_dt_p, gridsearch=True, param_grid=param_grid)\n",
    "print(\"done in %0.3fs\" % (time() - t0))"
   ]
  },
  {
   "cell_type": "markdown",
   "metadata": {},
   "source": [
    "<a id='gbr'></a>\n",
    "# Gradient Boosting Regression\n",
    "\n",
    "Gradient boosting doesn’t modify the sample distribution. Instead of training on a newly sample distribution, the weak learner trains on the remaining errors (pseudo-residuals) of the strong learner. It is another way to give more importance to the difficult instances. At each iteration, the pseudo-residuals are computed and a weak learner is fitted to these pseudo-residuals. Then, the contribution of the weak learner is the one minimizing the overall error of the strong learner."
   ]
  },
  {
   "cell_type": "markdown",
   "metadata": {},
   "source": [
    "#### X1 Features"
   ]
  },
  {
   "cell_type": "code",
   "execution_count": 67,
   "metadata": {},
   "outputs": [
    {
     "name": "stdout",
     "output_type": "stream",
     "text": [
      "Cross-Validation Scores:[ 0.64066312  0.68478625  0.58979666  0.59172335  0.61960694]\n",
      "Average Cross-Validation Score: 0.6253152628504555\n",
      "\n",
      "\n",
      "Validation Standard Deviation: 0.035199225182478124\n",
      "\n",
      "\n",
      "Train Scores:[ 0.81539245  0.8023931   0.81548216  0.81510323  0.81215141]\n",
      "Average Train Score: 0.8121044716114465\n",
      "\n",
      "\n",
      "Average MSE Score: 7022.356332883098\n"
     ]
    }
   ],
   "source": [
    "gbr_p = GradientBoostingRegressor(random_state=1)\n",
    "\n",
    "gbr_p, gbr_p_score = Reg_Model(X_train_p, y_train_p, X_test_p, y_test_p,gbr_p)"
   ]
  },
  {
   "cell_type": "markdown",
   "metadata": {},
   "source": [
    "#### SelectFromModel Feature Selection X1"
   ]
  },
  {
   "cell_type": "code",
   "execution_count": 68,
   "metadata": {},
   "outputs": [
    {
     "name": "stdout",
     "output_type": "stream",
     "text": [
      "Cross-Validation Scores:[ 0.65309122  0.6964856   0.59879446  0.60114067  0.6245472 ]\n",
      "Average Cross-Validation Score: 0.6348118312404062\n",
      "\n",
      "\n",
      "Validation Standard Deviation: 0.03653532663425187\n",
      "\n",
      "\n",
      "Train Scores:[ 0.81059152  0.80062654  0.81291979  0.80433903  0.81036633]\n",
      "Average Train Score: 0.8077686411880667\n",
      "\n",
      "\n",
      "Average MSE Score: 6845.161052945975\n",
      "\n",
      "\n",
      "New X Shape: (2699, 51)\n",
      "New X_train Shape: (2699, 51)\n"
     ]
    }
   ],
   "source": [
    "sfm_p_gbr, new_X_train_p_gbr, new_X_test_p_gbr = SFM(gbr_p, X_train_p, y_train_p, X_test_p, y_test_p)"
   ]
  },
  {
   "cell_type": "markdown",
   "metadata": {},
   "source": [
    "#### X2 Features"
   ]
  },
  {
   "cell_type": "code",
   "execution_count": 69,
   "metadata": {},
   "outputs": [
    {
     "name": "stdout",
     "output_type": "stream",
     "text": [
      "Cross-Validation Scores:[ 0.64193125  0.69216111  0.5886357   0.60282819  0.63284138]\n",
      "Average Cross-Validation Score: 0.6316795247556575\n",
      "\n",
      "\n",
      "Validation Standard Deviation: 0.03591556809108598\n",
      "\n",
      "\n",
      "Train Scores:[ 0.8124562   0.79407861  0.81454662  0.80664758  0.80606632]\n",
      "Average Train Score: 0.8067590649679788\n",
      "\n",
      "\n",
      "Average MSE Score: 6894.206009519397\n"
     ]
    }
   ],
   "source": [
    "gbr2_p = GradientBoostingRegressor(random_state=1)\n",
    "\n",
    "gbr2_p, gbr2_p_score = Reg_Model(X2_train_p, y2_train_p, X2_test_p, y2_test_p,gbr2_p)"
   ]
  },
  {
   "cell_type": "markdown",
   "metadata": {},
   "source": [
    "#### SelectFromModel Feature Selection X2"
   ]
  },
  {
   "cell_type": "code",
   "execution_count": 70,
   "metadata": {},
   "outputs": [
    {
     "name": "stdout",
     "output_type": "stream",
     "text": [
      "Cross-Validation Scores:[ 0.640059    0.69564314  0.58039091  0.60753202  0.63259144]\n",
      "Average Cross-Validation Score: 0.6312433012391334\n",
      "\n",
      "\n",
      "Validation Standard Deviation: 0.03840589322514435\n",
      "\n",
      "\n",
      "Train Scores:[ 0.80340378  0.79217133  0.80916379  0.80087775  0.80092966]\n",
      "Average Train Score: 0.8013092645419556\n",
      "\n",
      "\n",
      "Average MSE Score: 6895.5810104476595\n",
      "\n",
      "\n",
      "New X Shape: (2699, 45)\n",
      "New X_train Shape: (2699, 45)\n"
     ]
    }
   ],
   "source": [
    "sfm2_gbr_p, new_X2_train_p_gbr, new_X2_test_p_gbr = SFM(gbr2_p, X2_train_p, y2_train_p, X2_test_p, y2_test_p)"
   ]
  },
  {
   "cell_type": "markdown",
   "metadata": {},
   "source": [
    "#### Hyper-parameter tuning"
   ]
  },
  {
   "cell_type": "code",
   "execution_count": 71,
   "metadata": {},
   "outputs": [
    {
     "name": "stdout",
     "output_type": "stream",
     "text": [
      "Average Validation Score: 0.662691346710904\n",
      "\n",
      "\n",
      "Validation Standard Deviation: 0.045835119302177305\n",
      "\n",
      "\n",
      "Average Train Score: 0.8533797339057151\n",
      "\n",
      "\n",
      "Best Estimator: GradientBoostingRegressor(alpha=0.9, criterion='friedman_mse', init=None,\n",
      "             learning_rate=0.1, loss='ls', max_depth=3, max_features=0.3,\n",
      "             max_leaf_nodes=None, min_impurity_decrease=0.0,\n",
      "             min_impurity_split=None, min_samples_leaf=1,\n",
      "             min_samples_split=12, min_weight_fraction_leaf=0.0,\n",
      "             n_estimators=200, presort='auto', random_state=1,\n",
      "             subsample=1.0, verbose=0, warm_start=False)\n",
      "\n",
      "\n",
      "Best Params: {'learning_rate': 0.1, 'max_depth': 3, 'max_features': 0.3, 'min_samples_split': 12, 'n_estimators': 200, 'random_state': 1}\n",
      "\n",
      "\n",
      "done in 157.127s\n"
     ]
    }
   ],
   "source": [
    "t0= time()\n",
    "params = {'n_estimators':[200],\n",
    "          'learning_rate':[.01,.1,.5],\n",
    "          'min_samples_split':[2,8,12,16],\n",
    "          'max_depth':[3,6,9],\n",
    "          'max_features':[.2,.3,.7,'auto'],\n",
    "          'random_state':[1]\n",
    "         }\n",
    "gbr_p_gs = Reg_Model(new_X_train_p_gbr, y_train_p, new_X_test_p_gbr, y_test_p, gbr_p, gridsearch=True, param_grid=params)\n",
    "print(\"done in %0.3fs\" % (time() - t0))"
   ]
  },
  {
   "cell_type": "markdown",
   "metadata": {},
   "source": [
    "<a id='xgbr'></a>\n",
    "# eXtreme Gradient Boosting Regression\n",
    "\n",
    "#### X1 Features"
   ]
  },
  {
   "cell_type": "code",
   "execution_count": 72,
   "metadata": {},
   "outputs": [
    {
     "name": "stdout",
     "output_type": "stream",
     "text": [
      "Cross-Validation Scores:[ 0.64819418  0.68115784  0.61735453  0.61284495  0.61202278]\n",
      "Average Cross-Validation Score: 0.6343148568524222\n",
      "\n",
      "\n",
      "Validation Standard Deviation: 0.02695346642565494\n",
      "\n",
      "\n",
      "Train Scores:[ 0.80112085  0.79100993  0.79919063  0.79895215  0.80257069]\n",
      "Average Train Score: 0.798568847899633\n",
      "\n",
      "\n",
      "Average MSE Score: 6866.651275811217\n"
     ]
    }
   ],
   "source": [
    "xgb_p = XGBRegressor(random_state=1)\n",
    "\n",
    "xgb_p, xgb_p_score = Reg_Model(X_train_p, y_train_p, X_test_p, y_test_p,xgb_p)"
   ]
  },
  {
   "cell_type": "markdown",
   "metadata": {},
   "source": [
    "#### SelectFromModel Feature Selection X1"
   ]
  },
  {
   "cell_type": "code",
   "execution_count": 73,
   "metadata": {},
   "outputs": [
    {
     "name": "stdout",
     "output_type": "stream",
     "text": [
      "Cross-Validation Scores:[ 0.65691572  0.70513792  0.62378097  0.61814672  0.62888022]\n",
      "Average Cross-Validation Score: 0.646572310508761\n",
      "\n",
      "\n",
      "Validation Standard Deviation: 0.032178831398645545\n",
      "\n",
      "\n",
      "Train Scores:[ 0.79600405  0.78434378  0.79756352  0.79516822  0.79486611]\n",
      "Average Train Score: 0.7935891364428544\n",
      "\n",
      "\n",
      "Average MSE Score: 6631.181345768675\n",
      "\n",
      "\n",
      "New X Shape: (2699, 55)\n",
      "New X_train Shape: (2699, 55)\n"
     ]
    }
   ],
   "source": [
    "sfm_xgb_p, new_X_train_p_xgb, new_X_test_p_xgb = SFM(xgb_p, X_train_p, y_train_p, X_test_p, y_test_p)"
   ]
  },
  {
   "cell_type": "markdown",
   "metadata": {},
   "source": [
    "#### X2 Features"
   ]
  },
  {
   "cell_type": "code",
   "execution_count": 74,
   "metadata": {},
   "outputs": [
    {
     "name": "stdout",
     "output_type": "stream",
     "text": [
      "Cross-Validation Scores:[ 0.64975913  0.69011662  0.60611618  0.60716328  0.62753181]\n",
      "Average Cross-Validation Score: 0.6361374069403825\n",
      "\n",
      "\n",
      "Validation Standard Deviation: 0.03135007947590165\n",
      "\n",
      "\n",
      "Train Scores:[ 0.79952     0.78138287  0.79735066  0.79884724  0.79038024]\n",
      "Average Train Score: 0.793496204243507\n",
      "\n",
      "\n",
      "Average MSE Score: 6822.223675401727\n"
     ]
    }
   ],
   "source": [
    "xgb2_p = XGBRegressor(random_state=1)\n",
    "\n",
    "xgb2_p, xgb2_p_score = Reg_Model(X2_train_p, y2_train_p, X2_test_p, y2_test_p,xgb2_p)"
   ]
  },
  {
   "cell_type": "markdown",
   "metadata": {},
   "source": [
    "#### SelectFromModel Feature Selection X2"
   ]
  },
  {
   "cell_type": "code",
   "execution_count": 75,
   "metadata": {},
   "outputs": [
    {
     "name": "stdout",
     "output_type": "stream",
     "text": [
      "Cross-Validation Scores:[ 0.65175448  0.69607903  0.61045386  0.61362178  0.63374055]\n",
      "Average Cross-Validation Score: 0.6411299400093631\n",
      "\n",
      "\n",
      "Validation Standard Deviation: 0.031255744751840106\n",
      "\n",
      "\n",
      "Train Scores:[ 0.78857731  0.77636723  0.79118983  0.79154415  0.78650606]\n",
      "Average Train Score: 0.7868369163889545\n",
      "\n",
      "\n",
      "Average MSE Score: 6726.579603208959\n",
      "\n",
      "\n",
      "New X Shape: (2699, 46)\n",
      "New X_train Shape: (2699, 46)\n"
     ]
    }
   ],
   "source": [
    "sfm2_xgb_p, new_X2_train_p_xgb, new_X2_test_p_xgb = SFM(xgb2_p, X2_train_p, y2_train_p, X2_test_p, y2_test_p)"
   ]
  },
  {
   "cell_type": "markdown",
   "metadata": {},
   "source": [
    "#### Hyper-parameter tuning"
   ]
  },
  {
   "cell_type": "code",
   "execution_count": 76,
   "metadata": {},
   "outputs": [
    {
     "name": "stdout",
     "output_type": "stream",
     "text": [
      "Average Validation Score: 0.6516430706368874\n",
      "\n",
      "\n",
      "Validation Standard Deviation: 0.044401905806132014\n",
      "\n",
      "\n",
      "Average Train Score: 0.8929030392028207\n",
      "\n",
      "\n",
      "Best Estimator: XGBRegressor(base_score=0.5, booster='gbtree', colsample_bylevel=1,\n",
      "       colsample_bytree=1, gamma=0, learning_rate=0.09, max_delta_step=0,\n",
      "       max_depth=5, min_child_weight=4, missing=None, n_estimators=100,\n",
      "       n_jobs=1, nthread=None, objective='reg:linear', random_state=1,\n",
      "       reg_alpha=0, reg_lambda=1, scale_pos_weight=1, seed=None,\n",
      "       silent=True, subsample=0.5)\n",
      "\n",
      "\n",
      "Best Params: {'learning_rate': 0.09, 'max_depth': 5, 'min_child_weight': 4, 'random_state': 1, 'subsample': 0.5}\n",
      "\n",
      "\n",
      "done in 81.087s\n"
     ]
    }
   ],
   "source": [
    "t0 = time()\n",
    "xgb_params = {'learning_rate':[.09,.1,.2],\n",
    "              'max_depth':[3,5,7,9],\n",
    "              'min_child_weight':[4,5,7],\n",
    "              'subsample':[.5,.6,.7,.8],\n",
    "              'random_state':[1]\n",
    "             }\n",
    "\n",
    "xgb_p_gs = Reg_Model(new_X_train_p_xgb, y_train_p, new_X_test_p_xgb, y_test_p, xgb_p, gridsearch=True, param_grid=xgb_params)\n",
    "print(\"done in %0.3fs\" % (time() - t0))"
   ]
  },
  {
   "cell_type": "markdown",
   "metadata": {},
   "source": [
    "<a id='results'></a>\n",
    "<center><h1> Results - Price</h1></center>"
   ]
  },
  {
   "cell_type": "code",
   "execution_count": 77,
   "metadata": {},
   "outputs": [
    {
     "data": {
      "text/html": [
       "<div>\n",
       "<style>\n",
       "    .dataframe thead tr:only-child th {\n",
       "        text-align: right;\n",
       "    }\n",
       "\n",
       "    .dataframe thead th {\n",
       "        text-align: left;\n",
       "    }\n",
       "\n",
       "    .dataframe tbody tr th {\n",
       "        vertical-align: top;\n",
       "    }\n",
       "</style>\n",
       "<table border=\"1\" class=\"dataframe\">\n",
       "  <thead>\n",
       "    <tr style=\"text-align: right;\">\n",
       "      <th></th>\n",
       "      <th>R-Squared Score</th>\n",
       "      <th>Standard Deviation</th>\n",
       "      <th>Train Score</th>\n",
       "    </tr>\n",
       "  </thead>\n",
       "  <tbody>\n",
       "    <tr>\n",
       "      <th>Gradient Boosting</th>\n",
       "      <td>0.6627</td>\n",
       "      <td>0.0458</td>\n",
       "      <td>0.8534</td>\n",
       "    </tr>\n",
       "    <tr>\n",
       "      <th>eXtreme Gradient Boosting</th>\n",
       "      <td>0.6516</td>\n",
       "      <td>0.0444</td>\n",
       "      <td>0.8929</td>\n",
       "    </tr>\n",
       "    <tr>\n",
       "      <th>Ridge</th>\n",
       "      <td>0.6361</td>\n",
       "      <td>0.0361</td>\n",
       "      <td>0.6685</td>\n",
       "    </tr>\n",
       "    <tr>\n",
       "      <th>Extra-Random Forest</th>\n",
       "      <td>0.6344</td>\n",
       "      <td>0.0441</td>\n",
       "      <td>0.9479</td>\n",
       "    </tr>\n",
       "    <tr>\n",
       "      <th>ElasticNet</th>\n",
       "      <td>0.6344</td>\n",
       "      <td>0.0380</td>\n",
       "      <td>0.6679</td>\n",
       "    </tr>\n",
       "    <tr>\n",
       "      <th>Lasso</th>\n",
       "      <td>0.6267</td>\n",
       "      <td>0.0404</td>\n",
       "      <td>0.6747</td>\n",
       "    </tr>\n",
       "    <tr>\n",
       "      <th>Random Forest</th>\n",
       "      <td>0.6238</td>\n",
       "      <td>0.0440</td>\n",
       "      <td>0.9491</td>\n",
       "    </tr>\n",
       "    <tr>\n",
       "      <th>AdaBoost</th>\n",
       "      <td>0.6077</td>\n",
       "      <td>0.0388</td>\n",
       "      <td>0.8090</td>\n",
       "    </tr>\n",
       "    <tr>\n",
       "      <th>Support Vector</th>\n",
       "      <td>0.5865</td>\n",
       "      <td>0.0462</td>\n",
       "      <td>0.6442</td>\n",
       "    </tr>\n",
       "    <tr>\n",
       "      <th>Decision Tree</th>\n",
       "      <td>0.5487</td>\n",
       "      <td>0.0232</td>\n",
       "      <td>0.6450</td>\n",
       "    </tr>\n",
       "    <tr>\n",
       "      <th>KNN</th>\n",
       "      <td>0.3355</td>\n",
       "      <td>0.0133</td>\n",
       "      <td>0.4087</td>\n",
       "    </tr>\n",
       "  </tbody>\n",
       "</table>\n",
       "</div>"
      ],
      "text/plain": [
       "                          R-Squared Score Standard Deviation Train Score\n",
       "Gradient Boosting                  0.6627             0.0458      0.8534\n",
       "eXtreme Gradient Boosting          0.6516             0.0444      0.8929\n",
       "Ridge                              0.6361             0.0361      0.6685\n",
       "Extra-Random Forest                0.6344             0.0441      0.9479\n",
       "ElasticNet                         0.6344             0.0380      0.6679\n",
       "Lasso                              0.6267             0.0404      0.6747\n",
       "Random Forest                      0.6238             0.0440      0.9491\n",
       "AdaBoost                           0.6077             0.0388      0.8090\n",
       "Support Vector                     0.5865             0.0462      0.6442\n",
       "Decision Tree                      0.5487             0.0232      0.6450\n",
       "KNN                                0.3355             0.0133      0.4087"
      ]
     },
     "execution_count": 77,
     "metadata": {},
     "output_type": "execute_result"
    }
   ],
   "source": [
    "price_model = ['Ridge','Lasso', 'ElasticNet', 'Support Vector','KNN','Decision Tree','Random Forest',\n",
    "                 'Extra-Random Forest','AdaBoost','Gradient Boosting','eXtreme Gradient Boosting']\n",
    "price_models1 = [ridge_p_gs_score,lasso_p_gs_score, en_p_gs_score]\n",
    "price_models2 = [svr_p_gs,knn_p_gs,dt_p_gs,rfr_p_gs,extra_p_gs,ada_p_gs,gbr_p_gs,xgb_p_gs]\n",
    "\n",
    "price_results = pd.DataFrame(columns=['R-Squared Score', 'Standard Deviation', 'Train Score'],index=price_model)\n",
    "\n",
    "for i, model in enumerate(price_models1):\n",
    "    price_results.iloc[i,0] = np.mean(model['test_score'])\n",
    "    price_results.iloc[i,1] = np.std(model['test_score'])\n",
    "    price_results.iloc[i,2] = np.mean(model['train_score'])\n",
    "for i, model in enumerate(price_models2):\n",
    "    price_results.iloc[i+3,0] = model.best_score_\n",
    "    price_results.iloc[i+3,1] = model.cv_results_['std_test_score'][model.best_index_]\n",
    "    price_results.iloc[i+3,2] = model.cv_results_['mean_train_score'][model.best_index_]\n",
    "\n",
    "price_results = price_results.sort_values(by='R-Squared Score', ascending=False)\n",
    "price_results"
   ]
  },
  {
   "cell_type": "code",
   "execution_count": 78,
   "metadata": {},
   "outputs": [
    {
     "data": {
      "image/png": "[encoded data removed]",
      "text/plain": [
       "<matplotlib.figure.Figure at 0x26fbdf17b38>"
      ]
     },
     "metadata": {},
     "output_type": "display_data"
    }
   ],
   "source": [
    "g = plt.figure(figsize=(12,8))\n",
    "g = sns.barplot(x=price_results.index,y='R-Squared Score',data=price_results, palette=sns.diverging_palette(220, 20, sep=20))\n",
    "_ = plt.xticks(rotation=90,)\n",
    "_ = plt.ylim(.2,.8)\n",
    "_ = plt.title('R-Squared Results from Each Price Model',size=15)\n",
    "_ = plt.xlabel('Model',size=15)\n",
    "for p in g.patches:\n",
    "    g.annotate(np.round(p.get_height(),decimals=4), (p.get_x() * 1.005, p.get_height() * 1.005))"
   ]
  },
  {
   "cell_type": "markdown",
   "metadata": {},
   "source": [
    "The **3 best models** are:\n",
    "* **Gradient Boosting:** It has the largest validation score with relatively low variation.\n",
    "* **eXtreme Gradient Boosting:** It has the second largest validation score with relatively low variation.\n",
    "* **Ridge Regression:** It has the 5 largest validation score, but a relatively low standard deviation, which makes it a better model then the other two.\n",
    "\n",
    "We can compare these three models against that actual Test data in order to choose our model. "
   ]
  },
  {
   "cell_type": "markdown",
   "metadata": {},
   "source": [
    "### Gradient Boosting Test Score"
   ]
  },
  {
   "cell_type": "code",
   "execution_count": 79,
   "metadata": {},
   "outputs": [
    {
     "data": {
      "text/plain": [
       "0.67963186109324458"
      ]
     },
     "execution_count": 79,
     "metadata": {},
     "output_type": "execute_result"
    }
   ],
   "source": [
    "gbr_p_test = GradientBoostingRegressor(learning_rate=0.1, max_features=.3,min_samples_split=8,\n",
    "                                    n_estimators=200, random_state=1)\n",
    "\n",
    "gbr_p_test.fit(new_X_train_p_gbr,y_train_p)\n",
    "\n",
    "gbr_p_test.score(new_X_test_p_gbr,y_test_p)"
   ]
  },
  {
   "cell_type": "markdown",
   "metadata": {},
   "source": [
    "## eXtreme Gradient Boosting Test Score"
   ]
  },
  {
   "cell_type": "code",
   "execution_count": 80,
   "metadata": {},
   "outputs": [
    {
     "data": {
      "text/plain": [
       "0.6784663439184212"
      ]
     },
     "execution_count": 80,
     "metadata": {},
     "output_type": "execute_result"
    }
   ],
   "source": [
    "xgb_p_test = XGBRegressor(learning_rate=0.09, max_depth=5,\n",
    "                        min_child_weight=4,subsample=0.5, random_state=1)\n",
    "\n",
    "\n",
    "xgb_p_test.fit(new_X_train_p_gbr, y_train_p)\n",
    "\n",
    "xgb_p_test.score(new_X_test_p_gbr, y_test_p)"
   ]
  },
  {
   "cell_type": "markdown",
   "metadata": {},
   "source": [
    "## Ridge Test Score"
   ]
  },
  {
   "cell_type": "code",
   "execution_count": 81,
   "metadata": {},
   "outputs": [
    {
     "data": {
      "text/plain": [
       "0.64758738306311037"
      ]
     },
     "execution_count": 81,
     "metadata": {},
     "output_type": "execute_result"
    }
   ],
   "source": [
    "ridge_p_test = Ridge(alpha=20, random_state=1)\n",
    "\n",
    "ridge_p_test.fit(new_X2_train_p_ridge, y_train_p)\n",
    "\n",
    "ridge_p_test.score(new_X2_test_p_ridge, y_test_p)"
   ]
  },
  {
   "cell_type": "markdown",
   "metadata": {},
   "source": [
    "## Feature Coef and Importances"
   ]
  },
  {
   "cell_type": "markdown",
   "metadata": {},
   "source": [
    "#### Feature Coef"
   ]
  },
  {
   "cell_type": "code",
   "execution_count": 82,
   "metadata": {},
   "outputs": [
    {
     "data": {
      "text/plain": [
       "44"
      ]
     },
     "execution_count": 82,
     "metadata": {},
     "output_type": "execute_result"
    }
   ],
   "source": [
    "coef_df = pd.DataFrame()\n",
    "coef_df['Features'] =  X2_train_p.columns[sfm2_p_ridge.get_support()]\n",
    "coef_df['Coef'] = ridge_p_test.coef_\n",
    "len(coef_df[coef_df['Coef'] >0])"
   ]
  },
  {
   "cell_type": "code",
   "execution_count": 83,
   "metadata": {},
   "outputs": [
    {
     "data": {
      "text/html": [
       "<div>\n",
       "<style>\n",
       "    .dataframe thead tr:only-child th {\n",
       "        text-align: right;\n",
       "    }\n",
       "\n",
       "    .dataframe thead th {\n",
       "        text-align: left;\n",
       "    }\n",
       "\n",
       "    .dataframe tbody tr th {\n",
       "        vertical-align: top;\n",
       "    }\n",
       "</style>\n",
       "<table border=\"1\" class=\"dataframe\">\n",
       "  <thead>\n",
       "    <tr style=\"text-align: right;\">\n",
       "      <th></th>\n",
       "      <th>1</th>\n",
       "      <th>10</th>\n",
       "      <th>3</th>\n",
       "      <th>2</th>\n",
       "      <th>58</th>\n",
       "      <th>40</th>\n",
       "      <th>47</th>\n",
       "      <th>57</th>\n",
       "      <th>54</th>\n",
       "      <th>60</th>\n",
       "      <th>48</th>\n",
       "      <th>49</th>\n",
       "      <th>42</th>\n",
       "      <th>9</th>\n",
       "      <th>44</th>\n",
       "      <th>51</th>\n",
       "      <th>50</th>\n",
       "      <th>0</th>\n",
       "      <th>56</th>\n",
       "      <th>45</th>\n",
       "      <th>14</th>\n",
       "      <th>43</th>\n",
       "      <th>11</th>\n",
       "      <th>19</th>\n",
       "      <th>65</th>\n",
       "      <th>61</th>\n",
       "      <th>25</th>\n",
       "      <th>18</th>\n",
       "      <th>53</th>\n",
       "      <th>35</th>\n",
       "      <th>39</th>\n",
       "      <th>46</th>\n",
       "      <th>31</th>\n",
       "      <th>27</th>\n",
       "      <th>15</th>\n",
       "      <th>7</th>\n",
       "      <th>41</th>\n",
       "      <th>36</th>\n",
       "      <th>59</th>\n",
       "      <th>52</th>\n",
       "      <th>55</th>\n",
       "      <th>64</th>\n",
       "      <th>24</th>\n",
       "      <th>16</th>\n",
       "    </tr>\n",
       "  </thead>\n",
       "  <tbody>\n",
       "    <tr>\n",
       "      <th>Features</th>\n",
       "      <td>accommodates</td>\n",
       "      <td>cleaning_fee</td>\n",
       "      <td>bedrooms</td>\n",
       "      <td>bathrooms</td>\n",
       "      <td>neighbourhood_cleansed_South of Market</td>\n",
       "      <td>neighbourhood_cleansed_Castro/Upper Market</td>\n",
       "      <td>neighbourhood_cleansed_Marina</td>\n",
       "      <td>neighbourhood_cleansed_Russian Hill</td>\n",
       "      <td>neighbourhood_cleansed_Pacific Heights</td>\n",
       "      <td>neighbourhood_cleansed_Western Addition</td>\n",
       "      <td>neighbourhood_cleansed_Mission</td>\n",
       "      <td>neighbourhood_cleansed_Nob Hill</td>\n",
       "      <td>neighbourhood_cleansed_Downtown/Civic Center</td>\n",
       "      <td>security_deposit</td>\n",
       "      <td>neighbourhood_cleansed_Haight Ashbury</td>\n",
       "      <td>neighbourhood_cleansed_North Beach</td>\n",
       "      <td>neighbourhood_cleansed_Noe Valley</td>\n",
       "      <td>review_scores_rating</td>\n",
       "      <td>neighbourhood_cleansed_Potrero Hill</td>\n",
       "      <td>neighbourhood_cleansed_Inner Richmond</td>\n",
       "      <td>Air conditioning</td>\n",
       "      <td>neighbourhood_cleansed_Financial District</td>\n",
       "      <td>last_review_days</td>\n",
       "      <td>Indoor fireplace</td>\n",
       "      <td>is_business_travel_ready_True</td>\n",
       "      <td>zipcode_94104</td>\n",
       "      <td>Patio or balcony</td>\n",
       "      <td>Hot tub</td>\n",
       "      <td>neighbourhood_cleansed_Outer Sunset</td>\n",
       "      <td>property_type_House</td>\n",
       "      <td>neighbourhood_cleansed_Bernal Heights</td>\n",
       "      <td>neighbourhood_cleansed_Inner Sunset</td>\n",
       "      <td>Wireless Internet</td>\n",
       "      <td>Shampoo</td>\n",
       "      <td>Doorman</td>\n",
       "      <td>review_scores_cleanliness</td>\n",
       "      <td>neighbourhood_cleansed_Chinatown</td>\n",
       "      <td>property_type_Other</td>\n",
       "      <td>neighbourhood_cleansed_Twin Peaks</td>\n",
       "      <td>neighbourhood_cleansed_Outer Richmond</td>\n",
       "      <td>neighbourhood_cleansed_Parkside</td>\n",
       "      <td>zipcode_94124</td>\n",
       "      <td>Microwave</td>\n",
       "      <td>Extra pillows and blankets</td>\n",
       "    </tr>\n",
       "    <tr>\n",
       "      <th>Coef</th>\n",
       "      <td>39.9082</td>\n",
       "      <td>23.8719</td>\n",
       "      <td>19.1200</td>\n",
       "      <td>17.3503</td>\n",
       "      <td>16.2869</td>\n",
       "      <td>15.4352</td>\n",
       "      <td>14.5696</td>\n",
       "      <td>14.3936</td>\n",
       "      <td>13.6112</td>\n",
       "      <td>13.3482</td>\n",
       "      <td>13.2629</td>\n",
       "      <td>13.0994</td>\n",
       "      <td>12.1921</td>\n",
       "      <td>11.7765</td>\n",
       "      <td>11.5657</td>\n",
       "      <td>11.1115</td>\n",
       "      <td>10.4057</td>\n",
       "      <td>10.2517</td>\n",
       "      <td>8.6122</td>\n",
       "      <td>7.5923</td>\n",
       "      <td>7.4851</td>\n",
       "      <td>7.3703</td>\n",
       "      <td>7.0047</td>\n",
       "      <td>6.6915</td>\n",
       "      <td>6.4788</td>\n",
       "      <td>6.4610</td>\n",
       "      <td>6.0834</td>\n",
       "      <td>6.0828</td>\n",
       "      <td>5.7505</td>\n",
       "      <td>5.2726</td>\n",
       "      <td>4.7352</td>\n",
       "      <td>4.5694</td>\n",
       "      <td>4.3494</td>\n",
       "      <td>4.1069</td>\n",
       "      <td>4.0993</td>\n",
       "      <td>4.0512</td>\n",
       "      <td>3.8747</td>\n",
       "      <td>3.7109</td>\n",
       "      <td>3.5536</td>\n",
       "      <td>2.7841</td>\n",
       "      <td>2.4375</td>\n",
       "      <td>2.1810</td>\n",
       "      <td>0.4404</td>\n",
       "      <td>0.0852</td>\n",
       "    </tr>\n",
       "  </tbody>\n",
       "</table>\n",
       "</div>"
      ],
      "text/plain": [
       "                    1             10        3          2   \\\n",
       "Features  accommodates  cleaning_fee  bedrooms  bathrooms   \n",
       "Coef           39.9082       23.8719   19.1200    17.3503   \n",
       "\n",
       "                                              58  \\\n",
       "Features  neighbourhood_cleansed_South of Market   \n",
       "Coef                                     16.2869   \n",
       "\n",
       "                                                  40  \\\n",
       "Features  neighbourhood_cleansed_Castro/Upper Market   \n",
       "Coef                                         15.4352   \n",
       "\n",
       "                                     47                                   57  \\\n",
       "Features  neighbourhood_cleansed_Marina  neighbourhood_cleansed_Russian Hill   \n",
       "Coef                            14.5696                              14.3936   \n",
       "\n",
       "                                              54  \\\n",
       "Features  neighbourhood_cleansed_Pacific Heights   \n",
       "Coef                                     13.6112   \n",
       "\n",
       "                                               60  \\\n",
       "Features  neighbourhood_cleansed_Western Addition   \n",
       "Coef                                      13.3482   \n",
       "\n",
       "                                      48                               49  \\\n",
       "Features  neighbourhood_cleansed_Mission  neighbourhood_cleansed_Nob Hill   \n",
       "Coef                             13.2629                          13.0994   \n",
       "\n",
       "                                                    42                9   \\\n",
       "Features  neighbourhood_cleansed_Downtown/Civic Center  security_deposit   \n",
       "Coef                                           12.1921           11.7765   \n",
       "\n",
       "                                             44  \\\n",
       "Features  neighbourhood_cleansed_Haight Ashbury   \n",
       "Coef                                    11.5657   \n",
       "\n",
       "                                          51  \\\n",
       "Features  neighbourhood_cleansed_North Beach   \n",
       "Coef                                 11.1115   \n",
       "\n",
       "                                         50                    0   \\\n",
       "Features  neighbourhood_cleansed_Noe Valley  review_scores_rating   \n",
       "Coef                                10.4057               10.2517   \n",
       "\n",
       "                                           56  \\\n",
       "Features  neighbourhood_cleansed_Potrero Hill   \n",
       "Coef                                   8.6122   \n",
       "\n",
       "                                             45                14  \\\n",
       "Features  neighbourhood_cleansed_Inner Richmond  Air conditioning   \n",
       "Coef                                     7.5923            7.4851   \n",
       "\n",
       "                                                 43                11  \\\n",
       "Features  neighbourhood_cleansed_Financial District  last_review_days   \n",
       "Coef                                         7.3703            7.0047   \n",
       "\n",
       "                        19                             65             61  \\\n",
       "Features  Indoor fireplace  is_business_travel_ready_True  zipcode_94104   \n",
       "Coef                6.6915                         6.4788         6.4610   \n",
       "\n",
       "                        25       18                                   53  \\\n",
       "Features  Patio or balcony  Hot tub  neighbourhood_cleansed_Outer Sunset   \n",
       "Coef                6.0834   6.0828                               5.7505   \n",
       "\n",
       "                           35                                     39  \\\n",
       "Features  property_type_House  neighbourhood_cleansed_Bernal Heights   \n",
       "Coef                   5.2726                                 4.7352   \n",
       "\n",
       "                                           46                 31       27  \\\n",
       "Features  neighbourhood_cleansed_Inner Sunset  Wireless Internet  Shampoo   \n",
       "Coef                                   4.5694             4.3494   4.1069   \n",
       "\n",
       "               15                         7   \\\n",
       "Features  Doorman  review_scores_cleanliness   \n",
       "Coef       4.0993                     4.0512   \n",
       "\n",
       "                                        41                   36  \\\n",
       "Features  neighbourhood_cleansed_Chinatown  property_type_Other   \n",
       "Coef                                3.8747               3.7109   \n",
       "\n",
       "                                         59  \\\n",
       "Features  neighbourhood_cleansed_Twin Peaks   \n",
       "Coef                                 3.5536   \n",
       "\n",
       "                                             52  \\\n",
       "Features  neighbourhood_cleansed_Outer Richmond   \n",
       "Coef                                     2.7841   \n",
       "\n",
       "                                       55             64         24  \\\n",
       "Features  neighbourhood_cleansed_Parkside  zipcode_94124  Microwave   \n",
       "Coef                               2.4375         2.1810     0.4404   \n",
       "\n",
       "                                  16  \n",
       "Features  Extra pillows and blankets  \n",
       "Coef                          0.0852  "
      ]
     },
     "execution_count": 83,
     "metadata": {},
     "output_type": "execute_result"
    }
   ],
   "source": [
    "coef_df.sort_values(by='Coef', ascending=False).head(44).T"
   ]
  },
  {
   "cell_type": "code",
   "execution_count": 84,
   "metadata": {},
   "outputs": [
    {
     "data": {
      "text/html": [
       "<div>\n",
       "<style>\n",
       "    .dataframe thead tr:only-child th {\n",
       "        text-align: right;\n",
       "    }\n",
       "\n",
       "    .dataframe thead th {\n",
       "        text-align: left;\n",
       "    }\n",
       "\n",
       "    .dataframe tbody tr th {\n",
       "        vertical-align: top;\n",
       "    }\n",
       "</style>\n",
       "<table border=\"1\" class=\"dataframe\">\n",
       "  <thead>\n",
       "    <tr style=\"text-align: right;\">\n",
       "      <th></th>\n",
       "      <th>Features</th>\n",
       "      <th>Coef</th>\n",
       "    </tr>\n",
       "  </thead>\n",
       "  <tbody>\n",
       "    <tr>\n",
       "      <th>58</th>\n",
       "      <td>neighbourhood_cleansed_South of Market</td>\n",
       "      <td>16.2869</td>\n",
       "    </tr>\n",
       "    <tr>\n",
       "      <th>40</th>\n",
       "      <td>neighbourhood_cleansed_Castro/Upper Market</td>\n",
       "      <td>15.4352</td>\n",
       "    </tr>\n",
       "    <tr>\n",
       "      <th>47</th>\n",
       "      <td>neighbourhood_cleansed_Marina</td>\n",
       "      <td>14.5696</td>\n",
       "    </tr>\n",
       "    <tr>\n",
       "      <th>57</th>\n",
       "      <td>neighbourhood_cleansed_Russian Hill</td>\n",
       "      <td>14.3936</td>\n",
       "    </tr>\n",
       "    <tr>\n",
       "      <th>54</th>\n",
       "      <td>neighbourhood_cleansed_Pacific Heights</td>\n",
       "      <td>13.6112</td>\n",
       "    </tr>\n",
       "    <tr>\n",
       "      <th>60</th>\n",
       "      <td>neighbourhood_cleansed_Western Addition</td>\n",
       "      <td>13.3482</td>\n",
       "    </tr>\n",
       "    <tr>\n",
       "      <th>48</th>\n",
       "      <td>neighbourhood_cleansed_Mission</td>\n",
       "      <td>13.2629</td>\n",
       "    </tr>\n",
       "    <tr>\n",
       "      <th>49</th>\n",
       "      <td>neighbourhood_cleansed_Nob Hill</td>\n",
       "      <td>13.0994</td>\n",
       "    </tr>\n",
       "    <tr>\n",
       "      <th>42</th>\n",
       "      <td>neighbourhood_cleansed_Downtown/Civic Center</td>\n",
       "      <td>12.1921</td>\n",
       "    </tr>\n",
       "    <tr>\n",
       "      <th>44</th>\n",
       "      <td>neighbourhood_cleansed_Haight Ashbury</td>\n",
       "      <td>11.5657</td>\n",
       "    </tr>\n",
       "  </tbody>\n",
       "</table>\n",
       "</div>"
      ],
      "text/plain": [
       "                                        Features    Coef\n",
       "58        neighbourhood_cleansed_South of Market 16.2869\n",
       "40    neighbourhood_cleansed_Castro/Upper Market 15.4352\n",
       "47                 neighbourhood_cleansed_Marina 14.5696\n",
       "57           neighbourhood_cleansed_Russian Hill 14.3936\n",
       "54        neighbourhood_cleansed_Pacific Heights 13.6112\n",
       "60       neighbourhood_cleansed_Western Addition 13.3482\n",
       "48                neighbourhood_cleansed_Mission 13.2629\n",
       "49               neighbourhood_cleansed_Nob Hill 13.0994\n",
       "42  neighbourhood_cleansed_Downtown/Civic Center 12.1921\n",
       "44         neighbourhood_cleansed_Haight Ashbury 11.5657"
      ]
     },
     "execution_count": 84,
     "metadata": {},
     "output_type": "execute_result"
    }
   ],
   "source": [
    "coef_df[coef_df['Features'].str.contains('neighbourhood_cleansed')].sort_values(by='Coef', ascending=False).head(10)"
   ]
  },
  {
   "cell_type": "code",
   "execution_count": 85,
   "metadata": {},
   "outputs": [
    {
     "data": {
      "text/html": [
       "<div>\n",
       "<style>\n",
       "    .dataframe thead tr:only-child th {\n",
       "        text-align: right;\n",
       "    }\n",
       "\n",
       "    .dataframe thead th {\n",
       "        text-align: left;\n",
       "    }\n",
       "\n",
       "    .dataframe tbody tr th {\n",
       "        vertical-align: top;\n",
       "    }\n",
       "</style>\n",
       "<table border=\"1\" class=\"dataframe\">\n",
       "  <thead>\n",
       "    <tr style=\"text-align: right;\">\n",
       "      <th></th>\n",
       "      <th>Features</th>\n",
       "      <th>Coef</th>\n",
       "    </tr>\n",
       "  </thead>\n",
       "  <tbody>\n",
       "    <tr>\n",
       "      <th>56</th>\n",
       "      <td>neighbourhood_cleansed_Potrero Hill</td>\n",
       "      <td>8.6122</td>\n",
       "    </tr>\n",
       "    <tr>\n",
       "      <th>45</th>\n",
       "      <td>neighbourhood_cleansed_Inner Richmond</td>\n",
       "      <td>7.5923</td>\n",
       "    </tr>\n",
       "    <tr>\n",
       "      <th>43</th>\n",
       "      <td>neighbourhood_cleansed_Financial District</td>\n",
       "      <td>7.3703</td>\n",
       "    </tr>\n",
       "    <tr>\n",
       "      <th>53</th>\n",
       "      <td>neighbourhood_cleansed_Outer Sunset</td>\n",
       "      <td>5.7505</td>\n",
       "    </tr>\n",
       "    <tr>\n",
       "      <th>39</th>\n",
       "      <td>neighbourhood_cleansed_Bernal Heights</td>\n",
       "      <td>4.7352</td>\n",
       "    </tr>\n",
       "    <tr>\n",
       "      <th>46</th>\n",
       "      <td>neighbourhood_cleansed_Inner Sunset</td>\n",
       "      <td>4.5694</td>\n",
       "    </tr>\n",
       "    <tr>\n",
       "      <th>41</th>\n",
       "      <td>neighbourhood_cleansed_Chinatown</td>\n",
       "      <td>3.8747</td>\n",
       "    </tr>\n",
       "    <tr>\n",
       "      <th>59</th>\n",
       "      <td>neighbourhood_cleansed_Twin Peaks</td>\n",
       "      <td>3.5536</td>\n",
       "    </tr>\n",
       "    <tr>\n",
       "      <th>52</th>\n",
       "      <td>neighbourhood_cleansed_Outer Richmond</td>\n",
       "      <td>2.7841</td>\n",
       "    </tr>\n",
       "    <tr>\n",
       "      <th>55</th>\n",
       "      <td>neighbourhood_cleansed_Parkside</td>\n",
       "      <td>2.4375</td>\n",
       "    </tr>\n",
       "  </tbody>\n",
       "</table>\n",
       "</div>"
      ],
      "text/plain": [
       "                                     Features   Coef\n",
       "56        neighbourhood_cleansed_Potrero Hill 8.6122\n",
       "45      neighbourhood_cleansed_Inner Richmond 7.5923\n",
       "43  neighbourhood_cleansed_Financial District 7.3703\n",
       "53        neighbourhood_cleansed_Outer Sunset 5.7505\n",
       "39      neighbourhood_cleansed_Bernal Heights 4.7352\n",
       "46        neighbourhood_cleansed_Inner Sunset 4.5694\n",
       "41           neighbourhood_cleansed_Chinatown 3.8747\n",
       "59          neighbourhood_cleansed_Twin Peaks 3.5536\n",
       "52      neighbourhood_cleansed_Outer Richmond 2.7841\n",
       "55            neighbourhood_cleansed_Parkside 2.4375"
      ]
     },
     "execution_count": 85,
     "metadata": {},
     "output_type": "execute_result"
    }
   ],
   "source": [
    "coef_df[coef_df['Features'].str.contains('neighbourhood_cleansed')].sort_values(by='Coef', ascending=False).tail(10)"
   ]
  },
  {
   "cell_type": "code",
   "execution_count": 86,
   "metadata": {},
   "outputs": [
    {
     "data": {
      "text/html": [
       "<div>\n",
       "<style>\n",
       "    .dataframe thead tr:only-child th {\n",
       "        text-align: right;\n",
       "    }\n",
       "\n",
       "    .dataframe thead th {\n",
       "        text-align: left;\n",
       "    }\n",
       "\n",
       "    .dataframe tbody tr th {\n",
       "        vertical-align: top;\n",
       "    }\n",
       "</style>\n",
       "<table border=\"1\" class=\"dataframe\">\n",
       "  <thead>\n",
       "    <tr style=\"text-align: right;\">\n",
       "      <th></th>\n",
       "      <th>Features</th>\n",
       "      <th>Coef</th>\n",
       "    </tr>\n",
       "  </thead>\n",
       "  <tbody>\n",
       "    <tr>\n",
       "      <th>14</th>\n",
       "      <td>Air conditioning</td>\n",
       "      <td>7.4851</td>\n",
       "    </tr>\n",
       "    <tr>\n",
       "      <th>19</th>\n",
       "      <td>Indoor fireplace</td>\n",
       "      <td>6.6915</td>\n",
       "    </tr>\n",
       "    <tr>\n",
       "      <th>25</th>\n",
       "      <td>Patio or balcony</td>\n",
       "      <td>6.0834</td>\n",
       "    </tr>\n",
       "    <tr>\n",
       "      <th>18</th>\n",
       "      <td>Hot tub</td>\n",
       "      <td>6.0828</td>\n",
       "    </tr>\n",
       "    <tr>\n",
       "      <th>31</th>\n",
       "      <td>Wireless Internet</td>\n",
       "      <td>4.3494</td>\n",
       "    </tr>\n",
       "    <tr>\n",
       "      <th>27</th>\n",
       "      <td>Shampoo</td>\n",
       "      <td>4.1069</td>\n",
       "    </tr>\n",
       "    <tr>\n",
       "      <th>15</th>\n",
       "      <td>Doorman</td>\n",
       "      <td>4.0993</td>\n",
       "    </tr>\n",
       "    <tr>\n",
       "      <th>24</th>\n",
       "      <td>Microwave</td>\n",
       "      <td>0.4404</td>\n",
       "    </tr>\n",
       "    <tr>\n",
       "      <th>16</th>\n",
       "      <td>Extra pillows and blankets</td>\n",
       "      <td>0.0852</td>\n",
       "    </tr>\n",
       "    <tr>\n",
       "      <th>28</th>\n",
       "      <td>Step-free access</td>\n",
       "      <td>-1.8800</td>\n",
       "    </tr>\n",
       "  </tbody>\n",
       "</table>\n",
       "</div>"
      ],
      "text/plain": [
       "                      Features    Coef\n",
       "14            Air conditioning  7.4851\n",
       "19            Indoor fireplace  6.6915\n",
       "25            Patio or balcony  6.0834\n",
       "18                     Hot tub  6.0828\n",
       "31           Wireless Internet  4.3494\n",
       "27                     Shampoo  4.1069\n",
       "15                     Doorman  4.0993\n",
       "24                   Microwave  0.4404\n",
       "16  Extra pillows and blankets  0.0852\n",
       "28            Step-free access -1.8800"
      ]
     },
     "execution_count": 86,
     "metadata": {},
     "output_type": "execute_result"
    }
   ],
   "source": [
    "coef_df[coef_df['Features'].isin(amenities)].sort_values(by='Coef', ascending=False).head(10)"
   ]
  },
  {
   "cell_type": "markdown",
   "metadata": {},
   "source": [
    "#### Feature Importances"
   ]
  },
  {
   "cell_type": "code",
   "execution_count": 155,
   "metadata": {
    "scrolled": true
   },
   "outputs": [
    {
     "data": {
      "text/html": [
       "<div>\n",
       "<style>\n",
       "    .dataframe thead tr:only-child th {\n",
       "        text-align: right;\n",
       "    }\n",
       "\n",
       "    .dataframe thead th {\n",
       "        text-align: left;\n",
       "    }\n",
       "\n",
       "    .dataframe tbody tr th {\n",
       "        vertical-align: top;\n",
       "    }\n",
       "</style>\n",
       "<table border=\"1\" class=\"dataframe\">\n",
       "  <thead>\n",
       "    <tr style=\"text-align: right;\">\n",
       "      <th></th>\n",
       "      <th>Features</th>\n",
       "      <th>Importantances</th>\n",
       "    </tr>\n",
       "  </thead>\n",
       "  <tbody>\n",
       "    <tr>\n",
       "      <th>1</th>\n",
       "      <td>accommodates</td>\n",
       "      <td>0.0852</td>\n",
       "    </tr>\n",
       "    <tr>\n",
       "      <th>15</th>\n",
       "      <td>cleaning_fee</td>\n",
       "      <td>0.0776</td>\n",
       "    </tr>\n",
       "    <tr>\n",
       "      <th>16</th>\n",
       "      <td>last_review_days</td>\n",
       "      <td>0.0683</td>\n",
       "    </tr>\n",
       "    <tr>\n",
       "      <th>14</th>\n",
       "      <td>security_deposit</td>\n",
       "      <td>0.0610</td>\n",
       "    </tr>\n",
       "    <tr>\n",
       "      <th>8</th>\n",
       "      <td>reviews_per_month</td>\n",
       "      <td>0.0415</td>\n",
       "    </tr>\n",
       "    <tr>\n",
       "      <th>3</th>\n",
       "      <td>bedrooms</td>\n",
       "      <td>0.0410</td>\n",
       "    </tr>\n",
       "    <tr>\n",
       "      <th>7</th>\n",
       "      <td>maximum_nights</td>\n",
       "      <td>0.0402</td>\n",
       "    </tr>\n",
       "    <tr>\n",
       "      <th>4</th>\n",
       "      <td>beds</td>\n",
       "      <td>0.0373</td>\n",
       "    </tr>\n",
       "    <tr>\n",
       "      <th>18</th>\n",
       "      <td>average_len</td>\n",
       "      <td>0.0365</td>\n",
       "    </tr>\n",
       "    <tr>\n",
       "      <th>2</th>\n",
       "      <td>bathrooms</td>\n",
       "      <td>0.0349</td>\n",
       "    </tr>\n",
       "    <tr>\n",
       "      <th>17</th>\n",
       "      <td>extra_people</td>\n",
       "      <td>0.0270</td>\n",
       "    </tr>\n",
       "    <tr>\n",
       "      <th>0</th>\n",
       "      <td>review_scores_rating</td>\n",
       "      <td>0.0266</td>\n",
       "    </tr>\n",
       "    <tr>\n",
       "      <th>6</th>\n",
       "      <td>minimum_nights</td>\n",
       "      <td>0.0264</td>\n",
       "    </tr>\n",
       "    <tr>\n",
       "      <th>21</th>\n",
       "      <td>first_review_days</td>\n",
       "      <td>0.0259</td>\n",
       "    </tr>\n",
       "    <tr>\n",
       "      <th>9</th>\n",
       "      <td>days_since_calendar_updated</td>\n",
       "      <td>0.0246</td>\n",
       "    </tr>\n",
       "    <tr>\n",
       "      <th>20</th>\n",
       "      <td>host_since_days</td>\n",
       "      <td>0.0246</td>\n",
       "    </tr>\n",
       "    <tr>\n",
       "      <th>22</th>\n",
       "      <td>Air conditioning</td>\n",
       "      <td>0.0244</td>\n",
       "    </tr>\n",
       "    <tr>\n",
       "      <th>33</th>\n",
       "      <td>room_type_Shared room</td>\n",
       "      <td>0.0162</td>\n",
       "    </tr>\n",
       "    <tr>\n",
       "      <th>5</th>\n",
       "      <td>guests_included</td>\n",
       "      <td>0.0161</td>\n",
       "    </tr>\n",
       "    <tr>\n",
       "      <th>44</th>\n",
       "      <td>zipcode_94104</td>\n",
       "      <td>0.0152</td>\n",
       "    </tr>\n",
       "    <tr>\n",
       "      <th>19</th>\n",
       "      <td>house_rules_len</td>\n",
       "      <td>0.0139</td>\n",
       "    </tr>\n",
       "    <tr>\n",
       "      <th>32</th>\n",
       "      <td>room_type_Private room</td>\n",
       "      <td>0.0136</td>\n",
       "    </tr>\n",
       "    <tr>\n",
       "      <th>13</th>\n",
       "      <td>review_scores_value</td>\n",
       "      <td>0.0126</td>\n",
       "    </tr>\n",
       "    <tr>\n",
       "      <th>34</th>\n",
       "      <td>bed_type_Couch</td>\n",
       "      <td>0.0119</td>\n",
       "    </tr>\n",
       "    <tr>\n",
       "      <th>49</th>\n",
       "      <td>zipcode_94127</td>\n",
       "      <td>0.0117</td>\n",
       "    </tr>\n",
       "    <tr>\n",
       "      <th>50</th>\n",
       "      <td>is_business_travel_ready_True</td>\n",
       "      <td>0.0113</td>\n",
       "    </tr>\n",
       "    <tr>\n",
       "      <th>28</th>\n",
       "      <td>Kitchen</td>\n",
       "      <td>0.0112</td>\n",
       "    </tr>\n",
       "    <tr>\n",
       "      <th>25</th>\n",
       "      <td>Hot tub</td>\n",
       "      <td>0.0109</td>\n",
       "    </tr>\n",
       "    <tr>\n",
       "      <th>12</th>\n",
       "      <td>review_scores_location</td>\n",
       "      <td>0.0106</td>\n",
       "    </tr>\n",
       "    <tr>\n",
       "      <th>40</th>\n",
       "      <td>neighbourhood_cleansed_Russian Hill</td>\n",
       "      <td>0.0096</td>\n",
       "    </tr>\n",
       "  </tbody>\n",
       "</table>\n",
       "</div>"
      ],
      "text/plain": [
       "                               Features  Importantances\n",
       "1                          accommodates          0.0852\n",
       "15                         cleaning_fee          0.0776\n",
       "16                     last_review_days          0.0683\n",
       "14                     security_deposit          0.0610\n",
       "8                     reviews_per_month          0.0415\n",
       "3                              bedrooms          0.0410\n",
       "7                        maximum_nights          0.0402\n",
       "4                                  beds          0.0373\n",
       "18                          average_len          0.0365\n",
       "2                             bathrooms          0.0349\n",
       "17                         extra_people          0.0270\n",
       "0                  review_scores_rating          0.0266\n",
       "6                        minimum_nights          0.0264\n",
       "21                    first_review_days          0.0259\n",
       "9           days_since_calendar_updated          0.0246\n",
       "20                      host_since_days          0.0246\n",
       "22                     Air conditioning          0.0244\n",
       "33                room_type_Shared room          0.0162\n",
       "5                       guests_included          0.0161\n",
       "44                        zipcode_94104          0.0152\n",
       "19                      house_rules_len          0.0139\n",
       "32               room_type_Private room          0.0136\n",
       "13                  review_scores_value          0.0126\n",
       "34                       bed_type_Couch          0.0119\n",
       "49                        zipcode_94127          0.0117\n",
       "50        is_business_travel_ready_True          0.0113\n",
       "28                              Kitchen          0.0112\n",
       "25                              Hot tub          0.0109\n",
       "12               review_scores_location          0.0106\n",
       "40  neighbourhood_cleansed_Russian Hill          0.0096"
      ]
     },
     "execution_count": 155,
     "metadata": {},
     "output_type": "execute_result"
    }
   ],
   "source": [
    "feature_importances_df = pd.DataFrame()\n",
    "feature_importances_df['Features'] =  X_train_p.columns[sfm_p_gbr.get_support()]\n",
    "feature_importances_df['Importantances'] = gbr_p_test.feature_importances_\n",
    "feature_importances_df.sort_values(by='Importantances', ascending=False).head(30)"
   ]
  },
  {
   "cell_type": "markdown",
   "metadata": {},
   "source": [
    "<a id='model'></a>\n",
    "# Model Selection\n",
    "\n",
    "The <b> Gradient Boosting model</b> is our choice with having a <b>Test Score</b> of: <i>0.6843</i>. This model explains around 68% of the variation in the model. "
   ]
  },
  {
   "cell_type": "code",
   "execution_count": 88,
   "metadata": {},
   "outputs": [
    {
     "data": {
      "text/plain": [
       "Text(0.5,1,'Variable Importance')"
      ]
     },
     "execution_count": 88,
     "metadata": {},
     "output_type": "execute_result"
    },
    {
     "data": {
      "image/png": "[encoded data removed]",
      "text/plain": [
       "<matplotlib.figure.Figure at 0x26fbf50cc88>"
      ]
     },
     "metadata": {},
     "output_type": "display_data"
    }
   ],
   "source": [
    "fig = plt.figure(figsize=(20,20))\n",
    "# Plot feature importance\n",
    "feature_importance = gbr_p_test.feature_importances_\n",
    "# make importances relative to max importance\n",
    "feature_importance = 100.0 * (feature_importance / feature_importance.max())\n",
    "sorted_idx = np.argsort(feature_importance)\n",
    "pos = np.arange(sorted_idx.shape[0]) + .5\n",
    "plt.subplot(1, 2, 2)\n",
    "plt.barh(pos, feature_importance[sorted_idx], align='center')\n",
    "plt.yticks(pos,X_train_p.columns[sfm_p_gbr.get_support()][sorted_idx])\n",
    "plt.xlabel('Relative Importance')\n",
    "plt.title('Variable Importance')"
   ]
  },
  {
   "cell_type": "markdown",
   "metadata": {},
   "source": [
    "<a id='rating'></a>\n",
    "<center><h1>Rating</h1></center>\n",
    "\n",
    "\n",
    "<a id='parametric_r'></a>\n",
    "<center><h1> Parametric Models </h1></center>"
   ]
  },
  {
   "cell_type": "markdown",
   "metadata": {},
   "source": [
    "<a id='slr_r'></a>\n",
    "## Simple Linear Regression\n",
    "\n",
    "#### X1 Features"
   ]
  },
  {
   "cell_type": "code",
   "execution_count": 89,
   "metadata": {},
   "outputs": [
    {
     "name": "stdout",
     "output_type": "stream",
     "text": [
      "Cross-Validation Scores:[ -1.78626767e+18  -4.44039803e+24  -3.96197450e+20  -2.69781321e+23\n",
      "  -2.42592110e+25]\n",
      "Average Cross-Validation Score: -5.793957676629474e+24\n",
      "\n",
      "\n",
      "Validation Standard Deviation: 9.385622084061243e+24\n",
      "\n",
      "\n",
      "Train Scores:[ 0.80033057  0.79485916  0.7833225   0.80238721  0.762731  ]\n",
      "Average Train Score: 0.7887260889110123\n",
      "\n",
      "\n",
      "Average MSE Score: 3.908034466868184e+26\n"
     ]
    }
   ],
   "source": [
    "lr_r = LinearRegression()\n",
    "lr_r, lr_r_score = Reg_Model(X_train_r_scaled, y_train_r, X_test_r_scaled, y_test_r, lr_r)"
   ]
  },
  {
   "cell_type": "markdown",
   "metadata": {},
   "source": [
    "#### SelectFromModel Feature Selection X1"
   ]
  },
  {
   "cell_type": "code",
   "execution_count": 90,
   "metadata": {},
   "outputs": [
    {
     "name": "stdout",
     "output_type": "stream",
     "text": [
      "Cross-Validation Scores:[-0.00071833  0.00129235  0.00029819  0.00583941 -0.01421248]\n",
      "Average Cross-Validation Score: -0.0015001738616536643\n",
      "\n",
      "\n",
      "Validation Standard Deviation: 0.006739670257194446\n",
      "\n",
      "\n",
      "Train Scores:[ 0.01169723  0.01340828  0.01216763  0.01288321  0.01096518]\n",
      "Average Train Score: 0.012224306084959658\n",
      "\n",
      "\n",
      "Average MSE Score: 48.13692014780531\n",
      "\n",
      "\n",
      "New X Shape: (2699, 31)\n",
      "New X_train Shape: (2699, 31)\n"
     ]
    }
   ],
   "source": [
    "sfm_r_lr, new_X_train_r_lr, new_X_test_r_lr = SFM(lr_r,  X_train_r_scaled, y_train_r, X_test_r_scaled,y_test_r)"
   ]
  },
  {
   "cell_type": "markdown",
   "metadata": {},
   "source": [
    "#### X2 Features"
   ]
  },
  {
   "cell_type": "code",
   "execution_count": 91,
   "metadata": {},
   "outputs": [
    {
     "name": "stdout",
     "output_type": "stream",
     "text": [
      "Cross-Validation Scores:[ -1.21668259e+26  -1.53511511e+24  -4.47567867e+24  -5.42848955e+18\n",
      "  -1.37217496e+24]\n",
      "Average Cross-Validation Score: -2.5810246588068894e+25\n",
      "\n",
      "\n",
      "Validation Standard Deviation: 4.795120893228381e+25\n",
      "\n",
      "\n",
      "Train Scores:[ 0.75728881  0.75491415  0.74493822  0.77279407  0.71931874]\n",
      "Average Train Score: 0.7498507982621947\n",
      "\n",
      "\n",
      "Average MSE Score: 9.01198346405745e+26\n"
     ]
    }
   ],
   "source": [
    "lr2_r = LinearRegression()\n",
    "lr2_r, lr2_r_score = Reg_Model(X2_train_r_scaled, y2_train_r, X2_test_r_scaled, y2_test_r, lr2_r)"
   ]
  },
  {
   "cell_type": "markdown",
   "metadata": {},
   "source": [
    "#### SelectFromModel Feature Selection X2"
   ]
  },
  {
   "cell_type": "code",
   "execution_count": 92,
   "metadata": {},
   "outputs": [
    {
     "name": "stdout",
     "output_type": "stream",
     "text": [
      "Cross-Validation Scores:[-0.00539694  0.00330415  0.0006458   0.00235045 -0.00016571]\n",
      "Average Cross-Validation Score: 0.00014754953274047632\n",
      "\n",
      "\n",
      "Validation Standard Deviation: 0.0030300051562841307\n",
      "\n",
      "\n",
      "Train Scores:[ 0.00451792  0.0047286   0.0049533   0.00395534  0.00492567]\n",
      "Average Train Score: 0.004616165830867347\n",
      "\n",
      "\n",
      "Average MSE Score: 47.974720187362195\n",
      "\n",
      "\n",
      "New X Shape: (2699, 18)\n",
      "New X_train Shape: (2699, 18)\n"
     ]
    }
   ],
   "source": [
    "sfm2_r_lr, new_X2_train_r_lr, new_X2_test_r_lr = SFM(lr2_r,  X2_train_r_scaled, y2_train_r, X2_test_r_scaled,y2_test_r)"
   ]
  },
  {
   "cell_type": "markdown",
   "metadata": {},
   "source": [
    "<a id='ridge_r'></a>\n",
    "# Ridge Regression\n",
    "\n",
    "#### X1 Features"
   ]
  },
  {
   "cell_type": "code",
   "execution_count": 93,
   "metadata": {},
   "outputs": [
    {
     "name": "stdout",
     "output_type": "stream",
     "text": [
      "Cross-Validation Scores:[ 0.63168069  0.70039159  0.74658468  0.61837637  0.80807668]\n",
      "Average Cross-Validation Score: 0.7010220008778951\n",
      "\n",
      "\n",
      "Validation Standard Deviation: 0.07095854567719985\n",
      "\n",
      "\n",
      "Train Scores:[ 0.80032924  0.79484586  0.78329892  0.8023623   0.76272846]\n",
      "Average Train Score: 0.7887129559429231\n",
      "\n",
      "\n",
      "Average MSE Score: 13.556608226336413\n"
     ]
    }
   ],
   "source": [
    "ridge_r = Ridge(random_state=1)\n",
    "ridge_r, ridge_r_score = Reg_Model(X_train_r_scaled, y_train_r, X_test_r_scaled, y_test_r, ridge_r)"
   ]
  },
  {
   "cell_type": "markdown",
   "metadata": {},
   "source": [
    "#### SelectFromModel Feature Selection X1"
   ]
  },
  {
   "cell_type": "code",
   "execution_count": 94,
   "metadata": {},
   "outputs": [
    {
     "name": "stdout",
     "output_type": "stream",
     "text": [
      "Cross-Validation Scores:[ 0.66689785  0.7235605   0.77226394  0.65686314  0.82429713]\n",
      "Average Cross-Validation Score: 0.7287765116503163\n",
      "\n",
      "\n",
      "Validation Standard Deviation: 0.06331359112216829\n",
      "\n",
      "\n",
      "Train Scores:[ 0.78844037  0.78316156  0.7715982   0.78951178  0.75009659]\n",
      "Average Train Score: 0.7765616979353528\n",
      "\n",
      "\n",
      "Average MSE Score: 12.311361146398479\n",
      "\n",
      "\n",
      "New X Shape: (2699, 63)\n",
      "New X_train Shape: (2699, 63)\n"
     ]
    }
   ],
   "source": [
    "sfm_r_ridge, new_X_train_r_ridge, new_X_test_r_ridge = SFM(ridge_r, X_train_r_scaled, y_train_r, X_test_r_scaled,y_test_r)"
   ]
  },
  {
   "cell_type": "markdown",
   "metadata": {},
   "source": [
    "#### X2 Features"
   ]
  },
  {
   "cell_type": "code",
   "execution_count": 95,
   "metadata": {},
   "outputs": [
    {
     "name": "stdout",
     "output_type": "stream",
     "text": [
      "Cross-Validation Scores:[ 0.62388899  0.66727658  0.70505802  0.54564571  0.77802557]\n",
      "Average Cross-Validation Score: 0.6639789729433558\n",
      "\n",
      "\n",
      "Validation Standard Deviation: 0.0778652103482274\n",
      "\n",
      "\n",
      "Train Scores:[ 0.75730467  0.75491816  0.7449477   0.77277894  0.71934401]\n",
      "Average Train Score: 0.7498586979762178\n",
      "\n",
      "\n",
      "Average MSE Score: 15.33875426101532\n"
     ]
    }
   ],
   "source": [
    "ridge2_r = Ridge(random_state=1)\n",
    "ridge2_r, ridge2_r_score = Reg_Model(X2_train_r_scaled, y2_train_r, X2_test_r_scaled, y2_test_r, ridge2_r)"
   ]
  },
  {
   "cell_type": "markdown",
   "metadata": {},
   "source": [
    "#### SelectFromModel Feature Selection X2"
   ]
  },
  {
   "cell_type": "code",
   "execution_count": 96,
   "metadata": {},
   "outputs": [
    {
     "name": "stdout",
     "output_type": "stream",
     "text": [
      "Cross-Validation Scores:[ 0.66400945  0.68709675  0.72227537  0.58561583  0.79043663]\n",
      "Average Cross-Validation Score: 0.6898868089078344\n",
      "\n",
      "\n",
      "Validation Standard Deviation: 0.06739309216052593\n",
      "\n",
      "\n",
      "Train Scores:[ 0.74224939  0.74042376  0.73055     0.75686593  0.70365656]\n",
      "Average Train Score: 0.7347491298038249\n",
      "\n",
      "\n",
      "Average MSE Score: 14.212086302503234\n",
      "\n",
      "\n",
      "New X Shape: (2699, 54)\n",
      "New X_train Shape: (2699, 54)\n"
     ]
    }
   ],
   "source": [
    "sfm2_r_ridge, new_X2_train_r_ridge, new_X2_test_r_ridge = SFM(ridge2_r, X2_train_r_scaled, y2_train_r, X2_test_r_scaled,y2_test_r)"
   ]
  },
  {
   "cell_type": "markdown",
   "metadata": {},
   "source": [
    "#### Hyper-parameter tuning"
   ]
  },
  {
   "cell_type": "code",
   "execution_count": 97,
   "metadata": {},
   "outputs": [
    {
     "name": "stdout",
     "output_type": "stream",
     "text": [
      "Cross-Validation Scores:[ 0.66849547  0.72328659  0.771365    0.65908137  0.82519455]\n",
      "Average Cross-Validation Score: 0.7294845954974603\n",
      "\n",
      "\n",
      "Validation Standard Deviation: 0.0626563098149636\n",
      "\n",
      "\n",
      "Train Scores:[ 0.78811799  0.78295209  0.7713163   0.78926551  0.74958035]\n",
      "Average Train Score: 0.7762464503220011\n",
      "\n",
      "\n",
      "Average MSE Score: 12.280055299092094\n",
      "\n",
      " Best Alpha: 29.900000000000002\n"
     ]
    }
   ],
   "source": [
    "ridge_r_gs = RidgeCV(alphas=np.arange(.1,30,.1))\n",
    "\n",
    "ridge_r_gs, ridge_r_gs_score = Reg_Model(new_X_train_r_ridge, y_train_r, new_X_test_r_ridge, y_test_r, ridge_r_gs)\n",
    "\n",
    "print('\\n','Best Alpha: {}'.format(ridge_r_gs.alpha_))"
   ]
  },
  {
   "cell_type": "markdown",
   "metadata": {},
   "source": [
    "<a id='lasso_r'></a>\n",
    "# Lasso Regression\n",
    "\n",
    "#### X1 Features"
   ]
  },
  {
   "cell_type": "code",
   "execution_count": 98,
   "metadata": {},
   "outputs": [
    {
     "name": "stdout",
     "output_type": "stream",
     "text": [
      "Cross-Validation Scores:[ 0.66135158  0.68481069  0.72960762  0.61807792  0.75569048]\n",
      "Average Cross-Validation Score: 0.6899076561272064\n",
      "\n",
      "\n",
      "Validation Standard Deviation: 0.048794276088281296\n",
      "\n",
      "\n",
      "Train Scores:[ 0.73343782  0.72539258  0.71233705  0.7372472   0.67358269]\n",
      "Average Train Score: 0.7163994691990345\n",
      "\n",
      "\n",
      "Average MSE Score: 14.410067217931546\n"
     ]
    }
   ],
   "source": [
    "lasso_r = Lasso(random_state=1)\n",
    "\n",
    "lasso_r, lasso_r_score = Reg_Model(X_train_r_scaled, y_train_r, X_test_r_scaled, y_test_r, lasso_r)"
   ]
  },
  {
   "cell_type": "markdown",
   "metadata": {},
   "source": [
    "#### SelectFromModel Feature Selection X1"
   ]
  },
  {
   "cell_type": "code",
   "execution_count": 99,
   "metadata": {},
   "outputs": [
    {
     "name": "stdout",
     "output_type": "stream",
     "text": [
      "Cross-Validation Scores:[ 0.66135158  0.68481069  0.72960762  0.61807792  0.75569048]\n",
      "Average Cross-Validation Score: 0.6899076561272064\n",
      "\n",
      "\n",
      "Validation Standard Deviation: 0.048794276088281296\n",
      "\n",
      "\n",
      "Train Scores:[ 0.73343782  0.72539258  0.71233705  0.7372472   0.67358269]\n",
      "Average Train Score: 0.7163994691990345\n",
      "\n",
      "\n",
      "Average MSE Score: 14.410067217931546\n",
      "\n",
      "\n",
      "New X Shape: (2699, 6)\n",
      "New X_train Shape: (2699, 6)\n"
     ]
    }
   ],
   "source": [
    "sfm_r_lasso, new_X_train_r_lasso, new_X_test_r_lasso = SFM(lasso_r, X_train_r_scaled, y_train_r, X_test_r_scaled,y_test_r)"
   ]
  },
  {
   "cell_type": "markdown",
   "metadata": {},
   "source": [
    "#### X2 Features"
   ]
  },
  {
   "cell_type": "code",
   "execution_count": 100,
   "metadata": {},
   "outputs": [
    {
     "name": "stdout",
     "output_type": "stream",
     "text": [
      "Cross-Validation Scores:[ 0.63554741  0.63574397  0.68893378  0.57206047  0.73278107]\n",
      "Average Cross-Validation Score: 0.6530133390132936\n",
      "\n",
      "\n",
      "Validation Standard Deviation: 0.05442393788744582\n",
      "\n",
      "\n",
      "Train Scores:[ 0.68519487  0.68125659  0.67401507  0.70200344  0.62405024]\n",
      "Average Train Score: 0.6733040418367056\n",
      "\n",
      "\n",
      "Average MSE Score: 16.12874669338799\n"
     ]
    }
   ],
   "source": [
    "lasso2_r = Lasso(random_state=1)\n",
    "\n",
    "lasso2_r, lasso2_r_score = Reg_Model(X2_train_r_scaled, y2_train_r, X2_test_r_scaled, y2_test_r, lasso_r)"
   ]
  },
  {
   "cell_type": "markdown",
   "metadata": {},
   "source": [
    "#### SelectFromModel Feature Selection X2"
   ]
  },
  {
   "cell_type": "code",
   "execution_count": 101,
   "metadata": {},
   "outputs": [
    {
     "name": "stdout",
     "output_type": "stream",
     "text": [
      "Cross-Validation Scores:[ 0.63554741  0.63574397  0.68893378  0.57206047  0.73278107]\n",
      "Average Cross-Validation Score: 0.6530133390132936\n",
      "\n",
      "\n",
      "Validation Standard Deviation: 0.05442393788744582\n",
      "\n",
      "\n",
      "Train Scores:[ 0.68519487  0.68125659  0.67401507  0.70200344  0.62405024]\n",
      "Average Train Score: 0.6733040418367056\n",
      "\n",
      "\n",
      "Average MSE Score: 16.12874669338799\n",
      "\n",
      "\n",
      "New X Shape: (2699, 3)\n",
      "New X_train Shape: (2699, 3)\n"
     ]
    }
   ],
   "source": [
    "sfm2_r_lasso, new_X2_train_r_lasso, new_X2_test_r_lasso = SFM(lasso_r, X2_train_r_scaled, y2_train_r, X2_test_r_scaled,y2_test_r)"
   ]
  },
  {
   "cell_type": "markdown",
   "metadata": {},
   "source": [
    "#### Hyper-parameter tuning"
   ]
  },
  {
   "cell_type": "code",
   "execution_count": 102,
   "metadata": {},
   "outputs": [
    {
     "name": "stdout",
     "output_type": "stream",
     "text": [
      "Cross-Validation Scores:[ 0.67372131  0.71540783  0.76330651  0.65446727  0.82140763]\n",
      "Average Cross-Validation Score: 0.725662111821489\n",
      "\n",
      "\n",
      "Validation Standard Deviation: 0.06075525819664349\n",
      "\n",
      "\n",
      "Train Scores:[ 0.77870483  0.77161602  0.75563415  0.77499188  0.73531918]\n",
      "Average Train Score: 0.7632532140707801\n",
      "\n",
      "\n",
      "Average MSE Score: 12.485059658900576\n",
      "\n",
      " Best Alpha:0.16176034118992794\n"
     ]
    }
   ],
   "source": [
    "lasso_r_gs = LassoCV(n_alphas=1000,random_state=1)\n",
    "\n",
    "lasso_r_gs,lasso_r_gs_score = Reg_Model(X_train_r_scaled, y_train_r, X_test_r_scaled, y_test_r, lasso_r_gs)\n",
    "\n",
    "print('\\n','Best Alpha:{}'.format(lasso_r_gs.alpha_))"
   ]
  },
  {
   "cell_type": "markdown",
   "metadata": {},
   "source": [
    "<a id='en_r'></a>\n",
    "# ElasticNet Regression\n",
    "\n",
    "#### X1 Features"
   ]
  },
  {
   "cell_type": "code",
   "execution_count": 103,
   "metadata": {},
   "outputs": [
    {
     "name": "stdout",
     "output_type": "stream",
     "text": [
      "Cross-Validation Scores:[ 0.64706746  0.68559624  0.7151274   0.64651402  0.75777877]\n",
      "Average Cross-Validation Score: 0.6904167781460957\n",
      "\n",
      "\n",
      "Validation Standard Deviation: 0.0423747697059907\n",
      "\n",
      "\n",
      "Train Scores:[ 0.73191123  0.724476    0.71206332  0.73182918  0.67598773]\n",
      "Average Train Score: 0.7152534941981112\n",
      "\n",
      "\n",
      "Average MSE Score: 14.367399867386444\n"
     ]
    }
   ],
   "source": [
    "en_r = ElasticNet(random_state=1)\n",
    "\n",
    "en_r, en_r_score = Reg_Model(X_train_r_scaled, y_train_r, X_test_r_scaled, y_test_r, en_r)"
   ]
  },
  {
   "cell_type": "markdown",
   "metadata": {},
   "source": [
    "#### SelectFromModel Feature Selection X1"
   ]
  },
  {
   "cell_type": "code",
   "execution_count": 104,
   "metadata": {},
   "outputs": [
    {
     "name": "stdout",
     "output_type": "stream",
     "text": [
      "Cross-Validation Scores:[ 0.64683796  0.68572019  0.71494154  0.6462232   0.75837673]\n",
      "Average Cross-Validation Score: 0.690419923176974\n",
      "\n",
      "\n",
      "Validation Standard Deviation: 0.04264800597438408\n",
      "\n",
      "\n",
      "Train Scores:[ 0.73155805  0.72413401  0.71147574  0.73088275  0.67517188]\n",
      "Average Train Score: 0.7146444849128054\n",
      "\n",
      "\n",
      "Average MSE Score: 14.363400860196435\n",
      "\n",
      "\n",
      "New X Shape: (2699, 7)\n",
      "New X_train Shape: (2699, 7)\n"
     ]
    }
   ],
   "source": [
    "sfm_r_en, new_X_train_r_en, new_X_test_r_en = SFM(en_r, X_train_r_scaled, y_train_r, X_test_r_scaled,y_test_r)"
   ]
  },
  {
   "cell_type": "markdown",
   "metadata": {},
   "source": [
    "#### X2 Features"
   ]
  },
  {
   "cell_type": "code",
   "execution_count": 105,
   "metadata": {},
   "outputs": [
    {
     "name": "stdout",
     "output_type": "stream",
     "text": [
      "Cross-Validation Scores:[ 0.6177703   0.62441849  0.66461011  0.55139254  0.70556843]\n",
      "Average Cross-Validation Score: 0.6327519734876722\n",
      "\n",
      "\n",
      "Validation Standard Deviation: 0.051440126299875336\n",
      "\n",
      "\n",
      "Train Scores:[ 0.66783478  0.66444597  0.6549684   0.68298803  0.60376474]\n",
      "Average Train Score: 0.6548003827253507\n",
      "\n",
      "\n",
      "Average MSE Score: 17.142509263830107\n"
     ]
    }
   ],
   "source": [
    "en2_r = ElasticNet(random_state=1)\n",
    "\n",
    "en2_r, en2_r_score = Reg_Model(X2_train_r_scaled, y2_train_r, X2_test_r_scaled, y2_test_r, en2_r)"
   ]
  },
  {
   "cell_type": "markdown",
   "metadata": {},
   "source": [
    "#### SelectFromModel Feature Selection X2"
   ]
  },
  {
   "cell_type": "code",
   "execution_count": 106,
   "metadata": {},
   "outputs": [
    {
     "name": "stdout",
     "output_type": "stream",
     "text": [
      "Cross-Validation Scores:[ 0.61765304  0.62441846  0.66454857  0.551203    0.70556845]\n",
      "Average Cross-Validation Score: 0.63267830302342\n",
      "\n",
      "\n",
      "Validation Standard Deviation: 0.051499312039816995\n",
      "\n",
      "\n",
      "Train Scores:[ 0.66773319  0.66444593  0.65489397  0.68252537  0.60376475]\n",
      "Average Train Score: 0.6546726421276505\n",
      "\n",
      "\n",
      "Average MSE Score: 17.145458411173074\n",
      "\n",
      "\n",
      "New X Shape: (2699, 5)\n",
      "New X_train Shape: (2699, 5)\n"
     ]
    }
   ],
   "source": [
    "sfm2_r_en, new_X2_train_r_en, new_X2_test_r_en = SFM(en2_r, X2_train_r_scaled, y2_train_r, X2_test_r_scaled,y2_test_r)"
   ]
  },
  {
   "cell_type": "markdown",
   "metadata": {},
   "source": [
    "#### Hyper-parameter Tuning"
   ]
  },
  {
   "cell_type": "code",
   "execution_count": 107,
   "metadata": {},
   "outputs": [
    {
     "name": "stdout",
     "output_type": "stream",
     "text": [
      "Cross-Validation Scores:[ 0.67286331  0.71565632  0.76199129  0.65457951  0.81835544]\n",
      "Average Cross-Validation Score: 0.7246891743901266\n",
      "\n",
      "\n",
      "Validation Standard Deviation: 0.059745618591309675\n",
      "\n",
      "\n",
      "Train Scores:[ 0.77876165  0.77151648  0.75526551  0.77526817  0.73375308]\n",
      "Average Train Score: 0.7629129777808877\n",
      "\n",
      "\n",
      "Average MSE Score: 12.543614014058324\n",
      "\n",
      " Best Alpha:0.21029259165820488\n",
      "\n",
      " Best L1 Ratio:0.7\n",
      "done in 35.754s\n"
     ]
    }
   ],
   "source": [
    "t0 = time()\n",
    "en_r_gs = ElasticNetCV(l1_ratio=[.1, .5, .7,.9,.99, 1], random_state=1)\n",
    "\n",
    "en_r_gs, en_r_gs_score = Reg_Model(X_train_r_scaled, y_train_r, X_test_r_scaled, y_test_r, en_r_gs)\n",
    "\n",
    "print('\\n','Best Alpha:{}'.format(en_r_gs.alpha_))\n",
    "print('\\n','Best L1 Ratio:{}'.format(en_r_gs.l1_ratio_))\n",
    "print(\"done in %0.3fs\" % (time() - t0))"
   ]
  },
  {
   "cell_type": "markdown",
   "metadata": {},
   "source": [
    "<a id='svr_r'></a>\n",
    "# Support Vector Regression\n",
    "#### X1 Features"
   ]
  },
  {
   "cell_type": "code",
   "execution_count": 108,
   "metadata": {},
   "outputs": [
    {
     "name": "stdout",
     "output_type": "stream",
     "text": [
      "Cross-Validation Scores:[ 0.40559036  0.33253673  0.35155294  0.36400629  0.28921534]\n",
      "Average Cross-Validation Score: 0.34858033207588024\n",
      "\n",
      "\n",
      "Validation Standard Deviation: 0.03815373999213849\n",
      "\n",
      "\n",
      "Train Scores:[ 0.39435822  0.40105801  0.39396754  0.39340598  0.42388446]\n",
      "Average Train Score: 0.4013348435493863\n",
      "\n",
      "\n",
      "Average MSE Score: 31.718257085865627\n"
     ]
    }
   ],
   "source": [
    "svr_r = SVR()\n",
    "\n",
    "svr_r, svr_r_score = Reg_Model(X_train_r_scaled, y_train_r, X_test_r_scaled, y_test_r, svr_r)"
   ]
  },
  {
   "cell_type": "markdown",
   "metadata": {},
   "source": [
    "#### X2 Features"
   ]
  },
  {
   "cell_type": "code",
   "execution_count": 109,
   "metadata": {},
   "outputs": [
    {
     "name": "stdout",
     "output_type": "stream",
     "text": [
      "Cross-Validation Scores:[ 0.35425025  0.28067544  0.28970762  0.28572839  0.26587691]\n",
      "Average Cross-Validation Score: 0.2952477208858492\n",
      "\n",
      "\n",
      "Validation Standard Deviation: 0.030586287849855107\n",
      "\n",
      "\n",
      "Train Scores:[ 0.34839704  0.3592823   0.35141361  0.36006807  0.36476307]\n",
      "Average Train Score: 0.35678481686937535\n",
      "\n",
      "\n",
      "Average MSE Score: 34.10821726853483\n"
     ]
    }
   ],
   "source": [
    "svr2_r = SVR()\n",
    "\n",
    "svr2_r, svr2_r_score = Reg_Model(X2_train_r_scaled, y2_train_r, X2_test_r_scaled, y2_test_r, svr2_r)"
   ]
  },
  {
   "cell_type": "markdown",
   "metadata": {},
   "source": [
    "#### Hyper-parameter Tuning"
   ]
  },
  {
   "cell_type": "code",
   "execution_count": 110,
   "metadata": {
    "scrolled": false
   },
   "outputs": [
    {
     "name": "stdout",
     "output_type": "stream",
     "text": [
      "Average Validation Score: 0.6980644608858755\n",
      "\n",
      "\n",
      "Validation Standard Deviation: 0.05795553419647863\n",
      "\n",
      "\n",
      "Average Train Score: 0.752336936880844\n",
      "\n",
      "\n",
      "Best Estimator: SVR(C=20, cache_size=200, coef0=0.0, degree=3, epsilon=0.1, gamma=0.0003,\n",
      "  kernel='rbf', max_iter=-1, shrinking=True, tol=0.001, verbose=False)\n",
      "\n",
      "\n",
      "Best Params: {'C': 20, 'epsilon': 0.1, 'gamma': 0.0003}\n",
      "\n",
      "\n",
      "done in 181.760s\n"
     ]
    }
   ],
   "source": [
    "t0 = time()\n",
    "\n",
    "parameters = {'C':[10,15,20],'gamma': ['auto',.0001,.0002,.0003],'epsilon':[.003,.01,.1]}\n",
    "\n",
    "svr_r_gs = Reg_Model(X_train_r_scaled, y_train_r, X_test_r_scaled, y_test_r, svr_r, gridsearch=True, param_grid=parameters)\n",
    "\n",
    "print(\"done in %0.3fs\" % (time() - t0))"
   ]
  },
  {
   "cell_type": "markdown",
   "metadata": {},
   "source": [
    "<a id='non_r'></a>\n",
    "<center><h1>Non-Parametric Models</h1></center>\n",
    "\n",
    "<a id='knn_r'></a>\n",
    "# K-Nearest Neighbors Regression "
   ]
  },
  {
   "cell_type": "code",
   "execution_count": 111,
   "metadata": {},
   "outputs": [],
   "source": [
    "from sklearn.neighbors import KNeighborsRegressor\n",
    "from sklearn.tree import DecisionTreeRegressor"
   ]
  },
  {
   "cell_type": "markdown",
   "metadata": {},
   "source": [
    "#### X1 Features"
   ]
  },
  {
   "cell_type": "code",
   "execution_count": 112,
   "metadata": {},
   "outputs": [
    {
     "name": "stdout",
     "output_type": "stream",
     "text": [
      "Cross-Validation Scores:[ 0.15613497  0.30228574  0.29458805  0.26193371  0.43123583]\n",
      "Average Cross-Validation Score: 0.2892356612471444\n",
      "\n",
      "\n",
      "Validation Standard Deviation: 0.088118318753973\n",
      "\n",
      "\n",
      "Train Scores:[ 0.59298383  0.56450277  0.57201507  0.56437769  0.4865622 ]\n",
      "Average Train Score: 0.5560883119625855\n",
      "\n",
      "\n",
      "Average MSE Score: 33.03726701023844\n"
     ]
    }
   ],
   "source": [
    "knn_r = KNeighborsRegressor()\n",
    "\n",
    "knn_r, knn_r_score = Reg_Model(X_train_r_scaled, y_train_r, X_test_r_scaled, y_test_r, knn_r)"
   ]
  },
  {
   "cell_type": "markdown",
   "metadata": {},
   "source": [
    "#### X2 Features"
   ]
  },
  {
   "cell_type": "code",
   "execution_count": 113,
   "metadata": {},
   "outputs": [
    {
     "name": "stdout",
     "output_type": "stream",
     "text": [
      "Cross-Validation Scores:[ 0.08780935  0.16398063  0.33544358  0.08724891  0.38547125]\n",
      "Average Cross-Validation Score: 0.2119907449944891\n",
      "\n",
      "\n",
      "Validation Standard Deviation: 0.12539745145836192\n",
      "\n",
      "\n",
      "Train Scores:[ 0.53407216  0.52099243  0.49012877  0.53865954  0.44601094]\n",
      "Average Train Score: 0.5059727689295092\n",
      "\n",
      "\n",
      "Average MSE Score: 36.510673730502305\n"
     ]
    }
   ],
   "source": [
    "knn2_r = KNeighborsRegressor()\n",
    "\n",
    "knn2_r, knn2_r_score = Reg_Model(X2_train_r_scaled, y2_train_r, X2_test_r_scaled, y2_test_r, knn2_r)"
   ]
  },
  {
   "cell_type": "markdown",
   "metadata": {},
   "source": [
    "#### Hyper-parameter Tuning"
   ]
  },
  {
   "cell_type": "code",
   "execution_count": 114,
   "metadata": {},
   "outputs": [
    {
     "name": "stdout",
     "output_type": "stream",
     "text": [
      "Average Validation Score: 0.3408614756413933\n",
      "\n",
      "\n",
      "Validation Standard Deviation: 0.059513697241000064\n",
      "\n",
      "\n",
      "Average Train Score: 0.4548896770619688\n",
      "\n",
      "\n",
      "Best Estimator: KNeighborsRegressor(algorithm='auto', leaf_size=30, metric='minkowski',\n",
      "          metric_params=None, n_jobs=1, n_neighbors=10, p=2,\n",
      "          weights='uniform')\n",
      "\n",
      "\n",
      "Best Params: {'n_neighbors': 10}\n",
      "\n",
      "\n",
      "done in 28.945s\n"
     ]
    }
   ],
   "source": [
    "t0 = time()\n",
    "knn_r_grid = {'n_neighbors':np.arange(1,20,3)}\n",
    "\n",
    "knn_r_gs = Reg_Model(X_train_r_scaled, y_train_r, X_test_r_scaled, y_test_r, knn_r, gridsearch=True, param_grid=knn_grid)\n",
    "\n",
    "knn_r_gs.best_params_\n",
    "\n",
    "print(\"done in %0.3fs\" % (time() - t0))"
   ]
  },
  {
   "cell_type": "markdown",
   "metadata": {},
   "source": [
    "<a id='dt_r'></a>\n",
    "# Decision Tree \n",
    "\n",
    "#### X1 Features"
   ]
  },
  {
   "cell_type": "code",
   "execution_count": 115,
   "metadata": {},
   "outputs": [
    {
     "name": "stdout",
     "output_type": "stream",
     "text": [
      "Cross-Validation Scores:[ 0.36389505  0.38634614  0.47348167  0.24379874  0.50164343]\n",
      "Average Cross-Validation Score: 0.3938330048442062\n",
      "\n",
      "\n",
      "Validation Standard Deviation: 0.09102704264217218\n",
      "\n",
      "\n",
      "Train Scores:[ 1.  1.  1.  1.  1.]\n",
      "Average Train Score: 1.0\n",
      "\n",
      "\n",
      "Average MSE Score: 28.32914725486154\n"
     ]
    }
   ],
   "source": [
    "dt_r = DecisionTreeRegressor(random_state=1)\n",
    "\n",
    "dt_r, dt_r_score = Reg_Model(X_train_r, y_train_r, X_test_r, y_test_r, dt_r)"
   ]
  },
  {
   "cell_type": "markdown",
   "metadata": {},
   "source": [
    "#### SelectFromModel Feature Selection X1"
   ]
  },
  {
   "cell_type": "code",
   "execution_count": 116,
   "metadata": {},
   "outputs": [
    {
     "name": "stdout",
     "output_type": "stream",
     "text": [
      "Cross-Validation Scores:[ 0.33387981  0.37788443  0.49625261  0.420148    0.57784347]\n",
      "Average Cross-Validation Score: 0.44120166442695935\n",
      "\n",
      "\n",
      "Validation Standard Deviation: 0.08680080582713737\n",
      "\n",
      "\n",
      "Train Scores:[ 1.  1.  1.  1.  1.]\n",
      "Average Train Score: 1.0\n",
      "\n",
      "\n",
      "Average MSE Score: 25.836755308183875\n",
      "\n",
      "\n",
      "New X Shape: (2699, 18)\n",
      "New X_train Shape: (2699, 18)\n"
     ]
    }
   ],
   "source": [
    "sfm_r_dt, new_X_train_r_dt, new_X_test_r_dt = SFM(dt_r, X_train_r, y_train_r, X_test_r, y_test_r)"
   ]
  },
  {
   "cell_type": "markdown",
   "metadata": {},
   "source": [
    "#### X2 Features"
   ]
  },
  {
   "cell_type": "code",
   "execution_count": 117,
   "metadata": {},
   "outputs": [
    {
     "name": "stdout",
     "output_type": "stream",
     "text": [
      "Cross-Validation Scores:[ 0.14009046  0.24125401  0.37451565 -0.24887784  0.61692772]\n",
      "Average Cross-Validation Score: 0.22478199977644092\n",
      "\n",
      "\n",
      "Validation Standard Deviation: 0.2856557593674114\n",
      "\n",
      "\n",
      "Train Scores:[ 1.  1.  1.  1.  1.]\n",
      "Average Train Score: 1.0\n",
      "\n",
      "\n",
      "Average MSE Score: 34.56608877894592\n"
     ]
    }
   ],
   "source": [
    "dt2_r = DecisionTreeRegressor(random_state=1)\n",
    "\n",
    "dt2_r, dt2_r_score = Reg_Model(X2_train_r, y2_train_r, X2_test_r, y2_test_r, dt2_r)"
   ]
  },
  {
   "cell_type": "markdown",
   "metadata": {},
   "source": [
    "#### SelectFromModel Feature Selection X2"
   ]
  },
  {
   "cell_type": "code",
   "execution_count": 118,
   "metadata": {},
   "outputs": [
    {
     "name": "stdout",
     "output_type": "stream",
     "text": [
      "Cross-Validation Scores:[ 0.13048558  0.2986412   0.40588541  0.34252057  0.52640455]\n",
      "Average Cross-Validation Score: 0.3407874625212256\n",
      "\n",
      "\n",
      "Validation Standard Deviation: 0.13015194375172762\n",
      "\n",
      "\n",
      "Train Scores:[ 1.  1.  1.  1.  1.]\n",
      "Average Train Score: 1.0\n",
      "\n",
      "\n",
      "Average MSE Score: 30.17404590118876\n",
      "\n",
      "\n",
      "New X Shape: (2699, 17)\n",
      "New X_train Shape: (2699, 17)\n"
     ]
    }
   ],
   "source": [
    "sfm2_r_dt, new_X2_train_r_dt, new_X2_test_r_dt = SFM(dt2_r, X2_train_r, y2_train_r, X2_test_r, y2_test_r)"
   ]
  },
  {
   "cell_type": "markdown",
   "metadata": {},
   "source": [
    "#### Hyper-parameter Tuning"
   ]
  },
  {
   "cell_type": "code",
   "execution_count": 119,
   "metadata": {},
   "outputs": [
    {
     "name": "stdout",
     "output_type": "stream",
     "text": [
      "Average Validation Score: 0.6118046756934075\n",
      "\n",
      "\n",
      "Validation Standard Deviation: 0.09895085860911398\n",
      "\n",
      "\n",
      "Average Train Score: 0.7306833453851157\n",
      "\n",
      "\n",
      "Best Estimator: DecisionTreeRegressor(criterion='mse', max_depth=5, max_features=0.8,\n",
      "           max_leaf_nodes=None, min_impurity_decrease=0.0,\n",
      "           min_impurity_split=None, min_samples_leaf=1,\n",
      "           min_samples_split=7, min_weight_fraction_leaf=0.0,\n",
      "           presort=False, random_state=1, splitter='random')\n",
      "\n",
      "\n",
      "Best Params: {'max_depth': 5, 'max_features': 0.8, 'min_samples_split': 7, 'random_state': 1, 'splitter': 'random'}\n",
      "\n",
      "\n"
     ]
    }
   ],
   "source": [
    "dt_grid = {'splitter':['best','random'],\n",
    "           'min_samples_split':[6,7,8,9,10],\n",
    "           'max_depth':[None,1,2,3,4,5,6,7,8],\n",
    "           'max_features':['auto',.7,.75,.8,.85,.9],\n",
    "           'random_state': [1]\n",
    "             }\n",
    "\n",
    "dt_r_gs = Reg_Model(X_train_r, y_train_r, X_test_r, y_test_r, dt_r, gridsearch=True, param_grid=dt_grid)"
   ]
  },
  {
   "cell_type": "markdown",
   "metadata": {},
   "source": [
    "\n",
    "<a id='ensemble_r'></a>\n",
    "<center><h1> Ensemble Methods </h1></center>\n",
    "\n",
    "Now we can try methods such as Boostings and Bagging, to improve our model."
   ]
  },
  {
   "cell_type": "markdown",
   "metadata": {},
   "source": [
    "<a id='rfr_r'></a>\n",
    "# Random Forest Regression\n",
    "\n",
    "#### X1 Features"
   ]
  },
  {
   "cell_type": "code",
   "execution_count": 120,
   "metadata": {},
   "outputs": [
    {
     "name": "stdout",
     "output_type": "stream",
     "text": [
      "Cross-Validation Scores:[ 0.61034916  0.68645023  0.7590062   0.61685936  0.76101081]\n",
      "Average Cross-Validation Score: 0.6867351509100458\n",
      "\n",
      "\n",
      "Validation Standard Deviation: 0.06550955076015176\n",
      "\n",
      "\n",
      "Train Scores:[ 0.94406087  0.94488849  0.93441502  0.94188835  0.94295961]\n",
      "Average Train Score: 0.9416424708408705\n",
      "\n",
      "\n",
      "Average MSE Score: 14.401492200920774\n"
     ]
    }
   ],
   "source": [
    "rfr_r = RandomForestRegressor(random_state=1)\n",
    "\n",
    "rfr_r, rfr_r_score = Reg_Model(X_train_r, y_train_r, X_test_r, y_test_r, rfr_r)"
   ]
  },
  {
   "cell_type": "markdown",
   "metadata": {},
   "source": [
    "#### SelectFromModel Feature Selection X1"
   ]
  },
  {
   "cell_type": "code",
   "execution_count": 121,
   "metadata": {},
   "outputs": [
    {
     "name": "stdout",
     "output_type": "stream",
     "text": [
      "Cross-Validation Scores:[ 0.56338621  0.68958346  0.7644139   0.64305107  0.75141044]\n",
      "Average Cross-Validation Score: 0.6823690148036187\n",
      "\n",
      "\n",
      "Validation Standard Deviation: 0.0738280957962439\n",
      "\n",
      "\n",
      "Train Scores:[ 0.94672467  0.94307341  0.934663    0.94379615  0.94431425]\n",
      "Average Train Score: 0.942514299199724\n",
      "\n",
      "\n",
      "Average MSE Score: 14.560065416065417\n",
      "\n",
      "\n",
      "New X Shape: (2699, 18)\n",
      "New X_train Shape: (2699, 18)\n"
     ]
    }
   ],
   "source": [
    "sfm_r_rfr, new_X_train_r_rfr, new_X_test_r_rfr = SFM(rfr_r, X_train_r, y_train_r, X_test_r,y_test_r)"
   ]
  },
  {
   "cell_type": "markdown",
   "metadata": {},
   "source": [
    "#### X2 Features"
   ]
  },
  {
   "cell_type": "code",
   "execution_count": 122,
   "metadata": {},
   "outputs": [
    {
     "name": "stdout",
     "output_type": "stream",
     "text": [
      "Cross-Validation Scores:[ 0.60892698  0.54078543  0.68364234  0.51497469  0.71521749]\n",
      "Average Cross-Validation Score: 0.6127093876301019\n",
      "\n",
      "\n",
      "Validation Standard Deviation: 0.07781879802824307\n",
      "\n",
      "\n",
      "Train Scores:[ 0.92910794  0.93233575  0.92441358  0.93869851  0.9251711 ]\n",
      "Average Train Score: 0.9299453768802918\n",
      "\n",
      "\n",
      "Average MSE Score: 17.96334042465471\n"
     ]
    }
   ],
   "source": [
    "rfr2_r = RandomForestRegressor(random_state=1)\n",
    "\n",
    "rfr2_r, rfr2_r_score = Reg_Model(X2_train_r, y2_train_r, X2_test_r, y2_test_r, rfr2_r)"
   ]
  },
  {
   "cell_type": "markdown",
   "metadata": {},
   "source": [
    "#### SelectFromModel Feature Selection X2"
   ]
  },
  {
   "cell_type": "code",
   "execution_count": 123,
   "metadata": {},
   "outputs": [
    {
     "name": "stdout",
     "output_type": "stream",
     "text": [
      "Cross-Validation Scores:[ 0.60596802  0.53791206  0.66200238  0.55627488  0.74002343]\n",
      "Average Cross-Validation Score: 0.6204361556310556\n",
      "\n",
      "\n",
      "Validation Standard Deviation: 0.07370900595547439\n",
      "\n",
      "\n",
      "Train Scores:[ 0.93354121  0.93459983  0.92088173  0.93859974  0.92480841]\n",
      "Average Train Score: 0.9304861837852831\n",
      "\n",
      "\n",
      "Average MSE Score: 17.511474919260632\n",
      "\n",
      "\n",
      "New X Shape: (2699, 18)\n",
      "New X_train Shape: (2699, 18)\n"
     ]
    }
   ],
   "source": [
    "sfm2_r_rfr, new_X2_train_r_rfr, new_X2_test_r_rfr = SFM(rfr2_r, X2_train_r, y2_train_r, X2_test_r,y2_test_r)"
   ]
  },
  {
   "cell_type": "markdown",
   "metadata": {},
   "source": [
    "#### Hyper-parameter Tuning"
   ]
  },
  {
   "cell_type": "code",
   "execution_count": 124,
   "metadata": {},
   "outputs": [
    {
     "name": "stdout",
     "output_type": "stream",
     "text": [
      "Average Validation Score: 0.7162800025374415\n",
      "\n",
      "\n",
      "Validation Standard Deviation: 0.041197528534237304\n",
      "\n",
      "\n",
      "Average Train Score: 0.9365517874644289\n",
      "\n",
      "\n",
      "Best Estimator: RandomForestRegressor(bootstrap=True, criterion='mse', max_depth=12,\n",
      "           max_features=0.3, max_leaf_nodes=None,\n",
      "           min_impurity_decrease=0.0, min_impurity_split=None,\n",
      "           min_samples_leaf=1, min_samples_split=2,\n",
      "           min_weight_fraction_leaf=0.0, n_estimators=200, n_jobs=1,\n",
      "           oob_score=False, random_state=1, verbose=0, warm_start=False)\n",
      "\n",
      "\n",
      "Best Params: {'max_depth': 12, 'max_features': 0.3, 'min_samples_split': 2, 'n_estimators': 200, 'random_state': 1}\n",
      "\n",
      "\n",
      "done in 175.187s\n"
     ]
    }
   ],
   "source": [
    "t0 = time()\n",
    "parameters = { \"n_estimators\": [200],\n",
    "              \"min_samples_split\": [2,8,16],\n",
    "              'max_depth':[None,8,12],\n",
    "              'max_features':[.3,.6,.8,'auto'],\n",
    "              'random_state':[1]\n",
    "             }\n",
    "\n",
    "rfr_r_gs = Reg_Model(X_train_r, y_train_r, X_test_r, y_test_r, rfr_r, param_grid = parameters, gridsearch=True)\n",
    "print(\"done in %0.3fs\" % (time() - t0))"
   ]
  },
  {
   "cell_type": "markdown",
   "metadata": {},
   "source": [
    "<a id='extra_r'></a>\n",
    "# Extra-Random Forest Regression\n",
    "\n",
    "#### X1 Features"
   ]
  },
  {
   "cell_type": "code",
   "execution_count": 125,
   "metadata": {},
   "outputs": [
    {
     "name": "stdout",
     "output_type": "stream",
     "text": [
      "Cross-Validation Scores:[ 0.58952621  0.64196253  0.6806861   0.58655979  0.7556017 ]\n",
      "Average Cross-Validation Score: 0.6508672668724766\n",
      "\n",
      "\n",
      "Validation Standard Deviation: 0.06298560806757128\n",
      "\n",
      "\n",
      "Train Scores:[ 0.99999928  1.          1.          0.99999832  1.        ]\n",
      "Average Train Score: 0.9999995200256759\n",
      "\n",
      "\n",
      "Average MSE Score: 16.01252459286745\n"
     ]
    }
   ],
   "source": [
    "extra_r = ExtraTreesRegressor(random_state=1)\n",
    "\n",
    "extra_r, extra_r_score = Reg_Model(X_train_r, y_train_r, X_test_r, y_test_r, extra_r)"
   ]
  },
  {
   "cell_type": "markdown",
   "metadata": {},
   "source": [
    "#### SelectFromModel Feature Selection X1"
   ]
  },
  {
   "cell_type": "code",
   "execution_count": 126,
   "metadata": {},
   "outputs": [
    {
     "name": "stdout",
     "output_type": "stream",
     "text": [
      "Cross-Validation Scores:[ 0.56755505  0.68770424  0.72451738  0.63037977  0.7629671 ]\n",
      "Average Cross-Validation Score: 0.674624707547032\n",
      "\n",
      "\n",
      "Validation Standard Deviation: 0.06911766261419974\n",
      "\n",
      "\n",
      "Train Scores:[ 1.          0.99999981  0.99999962  0.99999963  1.        ]\n",
      "Average Train Score: 0.9999998105758884\n",
      "\n",
      "\n",
      "Average MSE Score: 14.86042548615406\n",
      "\n",
      "\n",
      "New X Shape: (2699, 16)\n",
      "New X_train Shape: (2699, 16)\n"
     ]
    }
   ],
   "source": [
    "sfm_r_extra, new_X_train_r_extra, new_X_test_r_extra = SFM(extra_r, X_train_r, y_train_r, X_test_r, y_test_r)"
   ]
  },
  {
   "cell_type": "markdown",
   "metadata": {},
   "source": [
    "#### X2 Features"
   ]
  },
  {
   "cell_type": "code",
   "execution_count": 127,
   "metadata": {},
   "outputs": [
    {
     "name": "stdout",
     "output_type": "stream",
     "text": [
      "Cross-Validation Scores:[ 0.53861272  0.50754017  0.66687544  0.46371262  0.71132124]\n",
      "Average Cross-Validation Score: 0.5776124361200585\n",
      "\n",
      "\n",
      "Validation Standard Deviation: 0.09513169596817916\n",
      "\n",
      "\n",
      "Train Scores:[ 0.99999928  0.99999981  0.99999923  0.99999925  0.99999978]\n",
      "Average Train Score: 0.9999994715093139\n",
      "\n",
      "\n",
      "Average MSE Score: 19.386910458324742\n"
     ]
    }
   ],
   "source": [
    "extra2_r = ExtraTreesRegressor(random_state=1)\n",
    "\n",
    "extra2_r, extra2_r_score = Reg_Model(X2_train_r, y2_train_r, X2_test_r, y2_test_r, extra2_r)"
   ]
  },
  {
   "cell_type": "markdown",
   "metadata": {},
   "source": [
    "#### SelectFromModel Feature Selection X2"
   ]
  },
  {
   "cell_type": "code",
   "execution_count": 128,
   "metadata": {},
   "outputs": [
    {
     "name": "stdout",
     "output_type": "stream",
     "text": [
      "Cross-Validation Scores:[ 0.56606793  0.57202716  0.6466519   0.5163727   0.74874059]\n",
      "Average Cross-Validation Score: 0.6099720565468546\n",
      "\n",
      "\n",
      "Validation Standard Deviation: 0.08090777788037627\n",
      "\n",
      "\n",
      "Train Scores:[ 0.99999982  1.          0.99999885  0.99999869  0.9999989 ]\n",
      "Average Train Score: 0.9999992532744555\n",
      "\n",
      "\n",
      "Average MSE Score: 17.817906617192328\n",
      "\n",
      "\n",
      "New X Shape: (2699, 20)\n",
      "New X_train Shape: (2699, 20)\n"
     ]
    }
   ],
   "source": [
    "sfm2_r_extra, new_X2_train_r_extra, new_X2_test_r_extra = SFM(extra2_r, X2_train_r, y2_train_r, X2_test_r, y2_test_r)"
   ]
  },
  {
   "cell_type": "markdown",
   "metadata": {},
   "source": [
    "#### Hyper-parameter Tuning"
   ]
  },
  {
   "cell_type": "code",
   "execution_count": 129,
   "metadata": {},
   "outputs": [
    {
     "name": "stdout",
     "output_type": "stream",
     "text": [
      "Average Validation Score: 0.7266410632341096\n",
      "\n",
      "\n",
      "Validation Standard Deviation: 0.050464765333707605\n",
      "\n",
      "\n",
      "Average Train Score: 0.8699126269869307\n",
      "\n",
      "\n",
      "Best Estimator: ExtraTreesRegressor(bootstrap=True, criterion='mse', max_depth=10,\n",
      "          max_features=0.6, max_leaf_nodes=None, min_impurity_decrease=0.0,\n",
      "          min_impurity_split=None, min_samples_leaf=1, min_samples_split=4,\n",
      "          min_weight_fraction_leaf=0.0, n_estimators=200, n_jobs=1,\n",
      "          oob_score=False, random_state=1, verbose=0, warm_start=False)\n",
      "\n",
      "\n",
      "Best Params: {'bootstrap': True, 'max_depth': 10, 'max_features': 0.6, 'min_samples_split': 4, 'n_estimators': 200, 'random_state': 1}\n",
      "\n",
      "\n",
      "done in 32.781s\n"
     ]
    }
   ],
   "source": [
    "t0 = time()\n",
    "parameters = {'n_estimators': [200],\n",
    "              \"bootstrap\": [True, False],\n",
    "              'min_samples_split':[4,6,10],\n",
    "              'max_depth':[None,3,10],\n",
    "              'max_features':[.3,.6,'auto'],\n",
    "              'random_state':[1]\n",
    "             }\n",
    "\n",
    "extra_r_gs = Reg_Model(new_X_train_r_extra, y_train_r, new_X_test_r_extra, y_test_r,extra_r,gridsearch=True, param_grid=parameters)\n",
    "print(\"done in %0.3fs\" % (time() - t0))"
   ]
  },
  {
   "cell_type": "markdown",
   "metadata": {},
   "source": [
    "<center><h1> Boosting</h1></center>\n",
    "\n",
    "<a id='ada_r'></a>\n",
    "#  AdaBoost Regressor"
   ]
  },
  {
   "cell_type": "markdown",
   "metadata": {},
   "source": [
    "## Simple AdaBoost Regressor\n",
    "#### X1 Features"
   ]
  },
  {
   "cell_type": "code",
   "execution_count": 130,
   "metadata": {},
   "outputs": [
    {
     "name": "stdout",
     "output_type": "stream",
     "text": [
      "Cross-Validation Scores:[-0.05150068  0.08653663  0.27656316  0.23451597  0.33010298]\n",
      "Average Cross-Validation Score: 0.17524361126733068\n",
      "\n",
      "\n",
      "Validation Standard Deviation: 0.13931417144279207\n",
      "\n",
      "\n",
      "Train Scores:[ 0.37558755  0.31196444  0.37843172  0.42981789  0.0748708 ]\n",
      "Average Train Score: 0.31413447966244024\n",
      "\n",
      "\n",
      "Average MSE Score: 38.284176208947734\n"
     ]
    }
   ],
   "source": [
    "ada_r = AdaBoostRegressor(n_estimators = 200,random_state=1)\n",
    "ada_r = Reg_Model(X_train_r, y_train_r, X_test_r, y_test_r, ada_r)"
   ]
  },
  {
   "cell_type": "markdown",
   "metadata": {},
   "source": [
    "#### X2 Features"
   ]
  },
  {
   "cell_type": "code",
   "execution_count": 131,
   "metadata": {},
   "outputs": [
    {
     "name": "stdout",
     "output_type": "stream",
     "text": [
      "Cross-Validation Scores:[ 0.00943395 -0.13435116  0.33826122  0.22646542  0.40413796]\n",
      "Average Cross-Validation Score: 0.1687894789816822\n",
      "\n",
      "\n",
      "Validation Standard Deviation: 0.202348475710677\n",
      "\n",
      "\n",
      "Train Scores:[ 0.40593486  0.13393366  0.43355573  0.4263648   0.19957455]\n",
      "Average Train Score: 0.3198727212730705\n",
      "\n",
      "\n",
      "Average MSE Score: 38.34313681668759\n"
     ]
    }
   ],
   "source": [
    "ada2_r = AdaBoostRegressor(n_estimators=200,random_state=1)\n",
    "ada2_r = Reg_Model(X2_train_r, y2_train_r, X2_test_r, y2_test_r, ada2_r)"
   ]
  },
  {
   "cell_type": "markdown",
   "metadata": {},
   "source": [
    "#### AdaBoost Regressor with Best Decision Tree as Base Estimator"
   ]
  },
  {
   "cell_type": "code",
   "execution_count": 132,
   "metadata": {},
   "outputs": [
    {
     "name": "stdout",
     "output_type": "stream",
     "text": [
      "Cross-Validation Scores:[-0.21213848  0.31213087  0.13743215  0.15453109  0.45991046]\n",
      "Average Cross-Validation Score: 0.17037321864237978\n",
      "\n",
      "\n",
      "Validation Standard Deviation: 0.22431153757615907\n",
      "\n",
      "\n",
      "Train Scores:[ 0.28753315  0.46792997  0.26787396  0.3779302   0.33497677]\n",
      "Average Train Score: 0.34724881095978233\n",
      "\n",
      "\n",
      "Average MSE Score: 37.39274478428025\n",
      "done in 54.085s\n"
     ]
    }
   ],
   "source": [
    "t0 = time()\n",
    "best_dt_r = DecisionTreeRegressor(max_depth= 5, max_features= .8,\n",
    "                                min_samples_split=7, splitter= 'random',\n",
    "                                random_state=1\n",
    "                                 )\n",
    "\n",
    "ada_best_dt_r = AdaBoostRegressor(n_estimators = 200, base_estimator=best_dt_r,random_state=1)\n",
    "\n",
    "ada_best_dt_r = Reg_Model(X_train_r, y_train_r, X_test_r, y_test_r,ada_best_dt_r)\n",
    "print(\"done in %0.3fs\" % (time() - t0))"
   ]
  },
  {
   "cell_type": "markdown",
   "metadata": {},
   "source": [
    "#### Hyper-parameter Tuning"
   ]
  },
  {
   "cell_type": "code",
   "execution_count": 133,
   "metadata": {},
   "outputs": [
    {
     "name": "stdout",
     "output_type": "stream",
     "text": [
      "Average Validation Score: 0.6890654778698304\n",
      "\n",
      "\n",
      "Validation Standard Deviation: 0.05416624127036092\n",
      "\n",
      "\n",
      "Average Train Score: 0.8124426792259145\n",
      "\n",
      "\n",
      "Best Estimator: AdaBoostRegressor(base_estimator=DecisionTreeRegressor(criterion='mse', max_depth=5, max_features=0.8,\n",
      "           max_leaf_nodes=None, min_impurity_decrease=0.0,\n",
      "           min_impurity_split=None, min_samples_leaf=1,\n",
      "           min_samples_split=7, min_weight_fraction_leaf=0.0,\n",
      "           presort=False, random_state=1, splitter='random'),\n",
      "         learning_rate=0.01, loss='linear', n_estimators=200,\n",
      "         random_state=1)\n",
      "\n",
      "\n",
      "Best Params: {'learning_rate': 0.01, 'n_estimators': 200}\n",
      "\n",
      "\n",
      "done in 53.479s\n"
     ]
    }
   ],
   "source": [
    "t0= time()\n",
    "param_grid = {'n_estimators':[200],\n",
    "              'learning_rate':[.01,.02,.03,.04,.05],\n",
    "             }\n",
    "\n",
    "ada_best_dt_r = AdaBoostRegressor(n_estimators=200, base_estimator=best_dt_r, random_state=1)\n",
    "\n",
    "ada_r_gs = Reg_Model(X_train_r, y_train_r, X_test_r, y_test_r, ada_best_dt_r, gridsearch=True, param_grid=param_grid)\n",
    "print(\"done in %0.3fs\" % (time() - t0))"
   ]
  },
  {
   "cell_type": "markdown",
   "metadata": {},
   "source": [
    "<a id='gbr_r'></a>\n",
    "# Gradient Boosting Regression"
   ]
  },
  {
   "cell_type": "markdown",
   "metadata": {},
   "source": [
    "#### X1 Features"
   ]
  },
  {
   "cell_type": "code",
   "execution_count": 134,
   "metadata": {},
   "outputs": [
    {
     "name": "stdout",
     "output_type": "stream",
     "text": [
      "Cross-Validation Scores:[ 0.65719216  0.6490714   0.7665073   0.60389222  0.8068737 ]\n",
      "Average Cross-Validation Score: 0.6967073546713425\n",
      "\n",
      "\n",
      "Validation Standard Deviation: 0.07675146912733734\n",
      "\n",
      "\n",
      "Train Scores:[ 0.8879344   0.88944035  0.88470001  0.88543365  0.86793063]\n",
      "Average Train Score: 0.883087807068026\n",
      "\n",
      "\n",
      "Average MSE Score: 13.810117064363164\n"
     ]
    }
   ],
   "source": [
    "gbr_r = GradientBoostingRegressor(random_state=1)\n",
    "\n",
    "gbr_r, gbr_r_score = Reg_Model(X_train_r, y_train_r, X_test_r,y_test_r,gbr_r)"
   ]
  },
  {
   "cell_type": "markdown",
   "metadata": {},
   "source": [
    "#### SelectFromModel Feature Selection X1"
   ]
  },
  {
   "cell_type": "code",
   "execution_count": 135,
   "metadata": {},
   "outputs": [
    {
     "name": "stdout",
     "output_type": "stream",
     "text": [
      "Cross-Validation Scores:[ 0.65170376  0.64144696  0.77952837  0.65825877  0.81222189]\n",
      "Average Cross-Validation Score: 0.7086319501725649\n",
      "\n",
      "\n",
      "Validation Standard Deviation: 0.07217932690915346\n",
      "\n",
      "\n",
      "Train Scores:[ 0.88736995  0.88430616  0.88188945  0.8854682   0.8624249 ]\n",
      "Average Train Score: 0.8802917323380617\n",
      "\n",
      "\n",
      "Average MSE Score: 13.266605569711611\n",
      "\n",
      "\n",
      "New X Shape: (2699, 39)\n",
      "New X_train Shape: (2699, 39)\n"
     ]
    }
   ],
   "source": [
    "sfm_gbr_r, new_X_train_r_gbr, new_X_test_r_gbr = SFM(gbr_r, X_train_r, y_train_r, X_test_r,y_test_r)"
   ]
  },
  {
   "cell_type": "markdown",
   "metadata": {},
   "source": [
    "#### X2 Features"
   ]
  },
  {
   "cell_type": "code",
   "execution_count": 136,
   "metadata": {},
   "outputs": [
    {
     "name": "stdout",
     "output_type": "stream",
     "text": [
      "Cross-Validation Scores:[ 0.6560556   0.57722469  0.70370666  0.51330405  0.77205741]\n",
      "Average Cross-Validation Score: 0.6444696796007718\n",
      "\n",
      "\n",
      "Validation Standard Deviation: 0.09126685649307874\n",
      "\n",
      "\n",
      "Train Scores:[ 0.85000001  0.85385433  0.85030463  0.86105547  0.82338634]\n",
      "Average Train Score: 0.8477201577640153\n",
      "\n",
      "\n",
      "Average MSE Score: 16.319925607178163\n"
     ]
    }
   ],
   "source": [
    "gbr2_r = GradientBoostingRegressor(random_state=1)\n",
    "\n",
    "gbr2_r, gbr2_r_score = Reg_Model(X2_train_r, y2_train_r, X2_test_r, y2_test_r,gbr2_r)"
   ]
  },
  {
   "cell_type": "markdown",
   "metadata": {},
   "source": [
    "#### SelectFromModel Feature Selection X2"
   ]
  },
  {
   "cell_type": "code",
   "execution_count": 137,
   "metadata": {},
   "outputs": [
    {
     "name": "stdout",
     "output_type": "stream",
     "text": [
      "Cross-Validation Scores:[ 0.6417067   0.60361914  0.74199056  0.52679602  0.77264811]\n",
      "Average Cross-Validation Score: 0.657352104825211\n",
      "\n",
      "\n",
      "Validation Standard Deviation: 0.09014847705914802\n",
      "\n",
      "\n",
      "Train Scores:[ 0.84883641  0.85359463  0.8509677   0.85696897  0.82167096]\n",
      "Average Train Score: 0.8464077323470406\n",
      "\n",
      "\n",
      "Average MSE Score: 15.696377770693308\n",
      "\n",
      "\n",
      "New X Shape: (2699, 36)\n",
      "New X_train Shape: (2699, 36)\n"
     ]
    }
   ],
   "source": [
    "sfm2_gbr_r, new_X2_train_r_gbr, new_X2_test_r_gbr = SFM(gbr2_r, X2_train_r, y2_train_r, X2_test_r,y2_test_r)"
   ]
  },
  {
   "cell_type": "markdown",
   "metadata": {},
   "source": [
    "#### Hyper-parameter Tuning"
   ]
  },
  {
   "cell_type": "code",
   "execution_count": 138,
   "metadata": {},
   "outputs": [
    {
     "name": "stdout",
     "output_type": "stream",
     "text": [
      "Average Validation Score: 0.7242749414643672\n",
      "\n",
      "\n",
      "Validation Standard Deviation: 0.05218437349866777\n",
      "\n",
      "\n",
      "Average Train Score: 0.8620552524283013\n",
      "\n",
      "\n",
      "Best Estimator: GradientBoostingRegressor(alpha=0.9, criterion='friedman_mse', init=None,\n",
      "             learning_rate=0.03, loss='ls', max_depth=3, max_features=None,\n",
      "             max_leaf_nodes=None, min_impurity_decrease=0.0,\n",
      "             min_impurity_split=None, min_samples_leaf=1,\n",
      "             min_samples_split=2, min_weight_fraction_leaf=0.0,\n",
      "             n_estimators=200, presort='auto', random_state=1,\n",
      "             subsample=0.7, verbose=0, warm_start=False)\n",
      "\n",
      "\n",
      "Best Params: {'learning_rate': 0.03, 'n_estimators': 200, 'random_state': 1, 'subsample': 0.7}\n",
      "\n",
      "\n",
      "done in 18.806s\n"
     ]
    }
   ],
   "source": [
    "t0= time()\n",
    "params = {'n_estimators':[200],\n",
    "          'learning_rate':[.01,.02,.03,.04,.05],\n",
    "          'subsample':[.7,.8,1],\n",
    "          'random_state':[1]\n",
    "         }\n",
    "\n",
    "gbr_r_gs = Reg_Model(new_X_train_r_gbr, y_train_r, new_X_test_r_gbr, y_test_r, gbr_r, gridsearch=True, param_grid=params)\n",
    "print(\"done in %0.3fs\" % (time() - t0))"
   ]
  },
  {
   "cell_type": "markdown",
   "metadata": {},
   "source": [
    "<a id='xgbr_r'></a>\n",
    "# eXtreme Gradient Boosting Regression\n",
    "\n",
    "#### X1 Features"
   ]
  },
  {
   "cell_type": "code",
   "execution_count": 139,
   "metadata": {},
   "outputs": [
    {
     "name": "stdout",
     "output_type": "stream",
     "text": [
      "Cross-Validation Scores:[ 0.6626878   0.69141325  0.78397436  0.64744071  0.81932018]\n",
      "Average Cross-Validation Score: 0.7209672584679554\n",
      "\n",
      "\n",
      "Validation Standard Deviation: 0.06829243106686934\n",
      "\n",
      "\n",
      "Train Scores:[ 0.88272768  0.88236858  0.87431447  0.88012727  0.85917626]\n",
      "Average Train Score: 0.8757428531821138\n",
      "\n",
      "\n",
      "Average MSE Score: 12.677763453886415\n"
     ]
    }
   ],
   "source": [
    "xgb_r = XGBRegressor(random_state=1)\n",
    "\n",
    "xgb_r, xgb_r_score = Reg_Model(X_train_r, y_train_r, X_test_r, y_test_r,xgb_r)"
   ]
  },
  {
   "cell_type": "markdown",
   "metadata": {},
   "source": [
    "#### SelectFromModel Feature Selection X1"
   ]
  },
  {
   "cell_type": "code",
   "execution_count": 140,
   "metadata": {},
   "outputs": [
    {
     "name": "stdout",
     "output_type": "stream",
     "text": [
      "Cross-Validation Scores:[ 0.66812563  0.68780635  0.79093725  0.65674379  0.82591316]\n",
      "Average Cross-Validation Score: 0.7259052349781063\n",
      "\n",
      "\n",
      "Validation Standard Deviation: 0.06899864063787\n",
      "\n",
      "\n",
      "Train Scores:[ 0.88213283  0.88109966  0.87446021  0.88160466  0.85400384]\n",
      "Average Train Score: 0.8746602391727913\n",
      "\n",
      "\n",
      "Average MSE Score: 12.437351334878889\n",
      "\n",
      "\n",
      "New X Shape: (2699, 39)\n",
      "New X_train Shape: (2699, 39)\n"
     ]
    }
   ],
   "source": [
    "sfm_gbr_r, new_X_train_r_gbr, new_X_test_r_gbr = SFM(xgb_r, X_train_r, y_train_r, X_test_r, y_test_r)"
   ]
  },
  {
   "cell_type": "markdown",
   "metadata": {},
   "source": [
    "#### X2 Features"
   ]
  },
  {
   "cell_type": "code",
   "execution_count": 141,
   "metadata": {},
   "outputs": [
    {
     "name": "stdout",
     "output_type": "stream",
     "text": [
      "Cross-Validation Scores:[ 0.64761915  0.60811203  0.70373705  0.55521795  0.7823099 ]\n",
      "Average Cross-Validation Score: 0.6593992146886289\n",
      "\n",
      "\n",
      "Validation Standard Deviation: 0.0783527427568017\n",
      "\n",
      "\n",
      "Train Scores:[ 0.84514629  0.85045842  0.84646289  0.85773096  0.81334452]\n",
      "Average Train Score: 0.842628618110483\n",
      "\n",
      "\n",
      "Average MSE Score: 15.595200395128265\n"
     ]
    }
   ],
   "source": [
    "xgb2_r = XGBRegressor(random_state=1)\n",
    "\n",
    "xgb2_r, xgb2_r_score = Reg_Model(X2_train_r, y2_train_r, X2_test_r, y2_test_r,xgb2_r)"
   ]
  },
  {
   "cell_type": "markdown",
   "metadata": {},
   "source": [
    "#### SelectFromModel Feature Selection X2"
   ]
  },
  {
   "cell_type": "code",
   "execution_count": 142,
   "metadata": {},
   "outputs": [
    {
     "name": "stdout",
     "output_type": "stream",
     "text": [
      "Cross-Validation Scores:[ 0.65327192  0.58980903  0.70776308  0.56556248  0.78211   ]\n",
      "Average Cross-Validation Score: 0.6597033010461595\n",
      "\n",
      "\n",
      "Validation Standard Deviation: 0.0788444133340354\n",
      "\n",
      "\n",
      "Train Scores:[ 0.8393321   0.8492246   0.8443886   0.85100807  0.81220943]\n",
      "Average Train Score: 0.8392325600854564\n",
      "\n",
      "\n",
      "Average MSE Score: 15.60500898643287\n",
      "\n",
      "\n",
      "New X Shape: (2699, 33)\n",
      "New X_train Shape: (2699, 33)\n"
     ]
    }
   ],
   "source": [
    "sfm2_gbr_r, new_X2_train_r_gbr, new_X2_test_r_gbr = SFM(xgb2_r, X2_train_r, y2_train_r, X2_test_r, y2_test_r)"
   ]
  },
  {
   "cell_type": "markdown",
   "metadata": {},
   "source": [
    "#### Hyper-parameter Tuning"
   ]
  },
  {
   "cell_type": "code",
   "execution_count": 143,
   "metadata": {},
   "outputs": [
    {
     "name": "stdout",
     "output_type": "stream",
     "text": [
      "Average Validation Score: 0.7296639299171241\n",
      "\n",
      "\n",
      "Validation Standard Deviation: 0.06342659674274964\n",
      "\n",
      "\n",
      "Average Train Score: 0.9083146190565304\n",
      "\n",
      "\n",
      "Best Estimator: XGBRegressor(base_score=0.5, booster='gbtree', colsample_bylevel=1,\n",
      "       colsample_bytree=1, gamma=0, learning_rate=0.08, max_delta_step=0,\n",
      "       max_depth=3, min_child_weight=1, missing=None, n_estimators=200,\n",
      "       n_jobs=1, nthread=None, objective='reg:linear', random_state=1,\n",
      "       reg_alpha=0, reg_lambda=1, scale_pos_weight=1, seed=None,\n",
      "       silent=True, subsample=0.7)\n",
      "\n",
      "\n",
      "Best Params: {'learning_rate': 0.08, 'n_estimators': 200, 'random_state': 1, 'subsample': 0.7}\n",
      "\n",
      "\n",
      "done in 18.624s\n"
     ]
    }
   ],
   "source": [
    "t0 = time()\n",
    "xgb_params = {'learning_rate':[.02,.04,.05,.06,.07,.08],\n",
    "              'subsample':[.5,.6,.7],\n",
    "              'n_estimators':[200],\n",
    "              'random_state':[1]\n",
    "             }\n",
    "\n",
    "xgb_r_gs = Reg_Model(new_X_train_r_gbr, y_train_r, new_X_test_r_gbr, y_test_r, xgb_r, gridsearch=True, param_grid=xgb_params)\n",
    "print(\"done in %0.3fs\" % (time() - t0))"
   ]
  },
  {
   "cell_type": "markdown",
   "metadata": {},
   "source": [
    "<a id='results_r'></a>\n",
    "<center><h1> Results - Ratings</h1></center>"
   ]
  },
  {
   "cell_type": "code",
   "execution_count": 144,
   "metadata": {},
   "outputs": [
    {
     "data": {
      "text/html": [
       "<div>\n",
       "<style>\n",
       "    .dataframe thead tr:only-child th {\n",
       "        text-align: right;\n",
       "    }\n",
       "\n",
       "    .dataframe thead th {\n",
       "        text-align: left;\n",
       "    }\n",
       "\n",
       "    .dataframe tbody tr th {\n",
       "        vertical-align: top;\n",
       "    }\n",
       "</style>\n",
       "<table border=\"1\" class=\"dataframe\">\n",
       "  <thead>\n",
       "    <tr style=\"text-align: right;\">\n",
       "      <th></th>\n",
       "      <th>R-Squared Score</th>\n",
       "      <th>Standard Deviation</th>\n",
       "      <th>Train Score</th>\n",
       "    </tr>\n",
       "  </thead>\n",
       "  <tbody>\n",
       "    <tr>\n",
       "      <th>eXtreme Gradient Boosting</th>\n",
       "      <td>0.7297</td>\n",
       "      <td>0.0634</td>\n",
       "      <td>0.9083</td>\n",
       "    </tr>\n",
       "    <tr>\n",
       "      <th>Ridge</th>\n",
       "      <td>0.7295</td>\n",
       "      <td>0.0627</td>\n",
       "      <td>0.7762</td>\n",
       "    </tr>\n",
       "    <tr>\n",
       "      <th>Extra-Random Forest</th>\n",
       "      <td>0.7266</td>\n",
       "      <td>0.0505</td>\n",
       "      <td>0.8699</td>\n",
       "    </tr>\n",
       "    <tr>\n",
       "      <th>Lasso</th>\n",
       "      <td>0.7257</td>\n",
       "      <td>0.0608</td>\n",
       "      <td>0.7633</td>\n",
       "    </tr>\n",
       "    <tr>\n",
       "      <th>ElasticNet</th>\n",
       "      <td>0.7247</td>\n",
       "      <td>0.0597</td>\n",
       "      <td>0.7629</td>\n",
       "    </tr>\n",
       "    <tr>\n",
       "      <th>Gradient Boosting</th>\n",
       "      <td>0.7243</td>\n",
       "      <td>0.0522</td>\n",
       "      <td>0.8621</td>\n",
       "    </tr>\n",
       "    <tr>\n",
       "      <th>Random Forest</th>\n",
       "      <td>0.7163</td>\n",
       "      <td>0.0412</td>\n",
       "      <td>0.9366</td>\n",
       "    </tr>\n",
       "    <tr>\n",
       "      <th>Support Vector</th>\n",
       "      <td>0.6981</td>\n",
       "      <td>0.0580</td>\n",
       "      <td>0.7523</td>\n",
       "    </tr>\n",
       "    <tr>\n",
       "      <th>AdaBoost</th>\n",
       "      <td>0.6891</td>\n",
       "      <td>0.0542</td>\n",
       "      <td>0.8124</td>\n",
       "    </tr>\n",
       "    <tr>\n",
       "      <th>Decision Tree</th>\n",
       "      <td>0.6118</td>\n",
       "      <td>0.0990</td>\n",
       "      <td>0.7307</td>\n",
       "    </tr>\n",
       "    <tr>\n",
       "      <th>KNN</th>\n",
       "      <td>0.3409</td>\n",
       "      <td>0.0595</td>\n",
       "      <td>0.4549</td>\n",
       "    </tr>\n",
       "  </tbody>\n",
       "</table>\n",
       "</div>"
      ],
      "text/plain": [
       "                          R-Squared Score Standard Deviation Train Score\n",
       "eXtreme Gradient Boosting          0.7297             0.0634      0.9083\n",
       "Ridge                              0.7295             0.0627      0.7762\n",
       "Extra-Random Forest                0.7266             0.0505      0.8699\n",
       "Lasso                              0.7257             0.0608      0.7633\n",
       "ElasticNet                         0.7247             0.0597      0.7629\n",
       "Gradient Boosting                  0.7243             0.0522      0.8621\n",
       "Random Forest                      0.7163             0.0412      0.9366\n",
       "Support Vector                     0.6981             0.0580      0.7523\n",
       "AdaBoost                           0.6891             0.0542      0.8124\n",
       "Decision Tree                      0.6118             0.0990      0.7307\n",
       "KNN                                0.3409             0.0595      0.4549"
      ]
     },
     "execution_count": 144,
     "metadata": {},
     "output_type": "execute_result"
    }
   ],
   "source": [
    "ratings_model = ['Ridge','Lasso', 'ElasticNet', 'Support Vector','KNN','Decision Tree','Random Forest',\n",
    "                 'Extra-Random Forest','AdaBoost','Gradient Boosting','eXtreme Gradient Boosting']\n",
    "ratings_models1 = [ridge_r_gs_score,lasso_r_gs_score, en_r_gs_score]\n",
    "ratings_models2 = [svr_r_gs,knn_r_gs,dt_r_gs,rfr_r_gs,extra_r_gs,ada_r_gs,gbr_r_gs,xgb_r_gs]\n",
    "\n",
    "ratings_results = pd.DataFrame(columns=['R-Squared Score', 'Standard Deviation', 'Train Score'],index=ratings_model)\n",
    "\n",
    "for i, model in enumerate(ratings_models1):\n",
    "    ratings_results.iloc[i,0] = np.mean(model['test_score'])\n",
    "    ratings_results.iloc[i,1] = np.std(model['test_score'])\n",
    "    ratings_results.iloc[i,2] = np.mean(model['train_score'])\n",
    "for i, model in enumerate(ratings_models2):\n",
    "    ratings_results.iloc[i+3,0] = model.best_score_\n",
    "    ratings_results.iloc[i+3,1] = model.cv_results_['std_test_score'][model.best_index_]\n",
    "    ratings_results.iloc[i+3,2] = model.cv_results_['mean_train_score'][model.best_index_]\n",
    "\n",
    "ratings_results = ratings_results.sort_values(by='R-Squared Score', ascending=False)\n",
    "ratings_results"
   ]
  },
  {
   "cell_type": "code",
   "execution_count": 145,
   "metadata": {},
   "outputs": [
    {
     "data": {
      "image/png": "[encoded data removed]",
      "text/plain": [
       "<matplotlib.figure.Figure at 0x26fc46c8a20>"
      ]
     },
     "metadata": {},
     "output_type": "display_data"
    }
   ],
   "source": [
    "g = plt.figure(figsize=(12,8))\n",
    "g = sns.barplot(x=ratings_results.index,y='R-Squared Score',data=ratings_results, palette=sns.diverging_palette(220, 20, sep=20))\n",
    "_ = plt.xticks(rotation=90,)\n",
    "_ = plt.ylim(.2,.8)\n",
    "_ = plt.title('R-Squared Results from Each Ratings Model',size=15)\n",
    "_ = plt.xlabel('Model',size=15)\n",
    "for p in g.patches:\n",
    "    g.annotate(np.round(p.get_height(),decimals=4), (p.get_x() * 1.005, p.get_height() * 1.005))"
   ]
  },
  {
   "cell_type": "markdown",
   "metadata": {},
   "source": [
    "The top models are:\n",
    "\n",
    "* <b>Extra-Random Forest:</b>  It has the third largest validation score, but a much lower standard deviation the top scoring model.\n",
    "* <b>eXtreme Gradient Boosting:</b> It is the top validation score\n",
    "* <b>ElasticNet Regression:</b> It has much less variation the  the top scores that are right around its score.\n",
    "\n",
    "We can compare these three models against that actual Test data in order to choose our model."
   ]
  },
  {
   "cell_type": "markdown",
   "metadata": {},
   "source": [
    "<a id='results_r'></a>\n",
    "<center><h1>Results - Rating</h1></center>\n",
    "\n",
    "\n",
    "### Extra-Random Forest Test Score"
   ]
  },
  {
   "cell_type": "code",
   "execution_count": 146,
   "metadata": {},
   "outputs": [
    {
     "data": {
      "text/plain": [
       "0.72335207196807438"
      ]
     },
     "execution_count": 146,
     "metadata": {},
     "output_type": "execute_result"
    }
   ],
   "source": [
    "extra_r_test = ExtraTreesRegressor(bootstrap=True, max_depth=10, max_features=0.6, min_samples_split=4,\n",
    "                                       n_estimators=200, random_state=1)\n",
    "                                    \n",
    "extra_r_test.fit(new_X_train_r_extra,y_train_r)\n",
    "\n",
    "extra_r_test.score(new_X_test_r_extra,y_test_r)"
   ]
  },
  {
   "cell_type": "markdown",
   "metadata": {},
   "source": [
    "### eXtreme Gradient Boosting Test Score"
   ]
  },
  {
   "cell_type": "code",
   "execution_count": 147,
   "metadata": {},
   "outputs": [
    {
     "data": {
      "text/plain": [
       "0.73045053348129785"
      ]
     },
     "execution_count": 147,
     "metadata": {},
     "output_type": "execute_result"
    }
   ],
   "source": [
    "xgb_r_test = GradientBoostingRegressor(learning_rate=0.08, subsample=.7,\n",
    "                                    n_estimators=200, random_state=1)\n",
    "\n",
    "xgb_r_test.fit(new_X_train_r_gbr,y_train_r)\n",
    "\n",
    "xgb_r_test.score(new_X_test_r_gbr,y_test_r)"
   ]
  },
  {
   "cell_type": "markdown",
   "metadata": {},
   "source": [
    "### ElasticNet Regression Test Score"
   ]
  },
  {
   "cell_type": "code",
   "execution_count": 148,
   "metadata": {},
   "outputs": [
    {
     "data": {
      "text/plain": [
       "0.72817703358035168"
      ]
     },
     "execution_count": 148,
     "metadata": {},
     "output_type": "execute_result"
    }
   ],
   "source": [
    "en_r_test = ElasticNet(l1_ratio=.7, alpha=0.21029)\n",
    "\n",
    "en_r_test.fit(X_train_r_scaled,y_train_r)\n",
    "\n",
    "en_r_test.score(X_test_r_scaled,y_test_r)"
   ]
  },
  {
   "cell_type": "markdown",
   "metadata": {},
   "source": [
    "#### Coefficients"
   ]
  },
  {
   "cell_type": "code",
   "execution_count": 149,
   "metadata": {},
   "outputs": [
    {
     "data": {
      "text/plain": [
       "15"
      ]
     },
     "execution_count": 149,
     "metadata": {},
     "output_type": "execute_result"
    }
   ],
   "source": [
    "en_r_df = pd.DataFrame()\n",
    "en_r_df['Features'] =  X_train_r.columns\n",
    "en_r_df['Coef'] = en_r_test.coef_\n",
    "len(en_r_df[en_r_df['Coef'] >0])"
   ]
  },
  {
   "cell_type": "code",
   "execution_count": 150,
   "metadata": {},
   "outputs": [
    {
     "data": {
      "text/html": [
       "<div>\n",
       "<style>\n",
       "    .dataframe thead tr:only-child th {\n",
       "        text-align: right;\n",
       "    }\n",
       "\n",
       "    .dataframe thead th {\n",
       "        text-align: left;\n",
       "    }\n",
       "\n",
       "    .dataframe tbody tr th {\n",
       "        vertical-align: top;\n",
       "    }\n",
       "</style>\n",
       "<table border=\"1\" class=\"dataframe\">\n",
       "  <thead>\n",
       "    <tr style=\"text-align: right;\">\n",
       "      <th></th>\n",
       "      <th>13</th>\n",
       "      <th>17</th>\n",
       "      <th>12</th>\n",
       "      <th>15</th>\n",
       "      <th>16</th>\n",
       "      <th>14</th>\n",
       "      <th>0</th>\n",
       "      <th>90</th>\n",
       "      <th>83</th>\n",
       "      <th>216</th>\n",
       "      <th>24</th>\n",
       "      <th>219</th>\n",
       "      <th>64</th>\n",
       "      <th>203</th>\n",
       "      <th>127</th>\n",
       "    </tr>\n",
       "  </thead>\n",
       "  <tbody>\n",
       "    <tr>\n",
       "      <th>Features</th>\n",
       "      <td>review_scores_cleanliness</td>\n",
       "      <td>review_scores_value</td>\n",
       "      <td>review_scores_accuracy</td>\n",
       "      <td>review_scores_communication</td>\n",
       "      <td>review_scores_location</td>\n",
       "      <td>review_scores_checkin</td>\n",
       "      <td>price</td>\n",
       "      <td>Kitchen</td>\n",
       "      <td>Hot tub</td>\n",
       "      <td>zipcode_94107</td>\n",
       "      <td>host_since_days</td>\n",
       "      <td>zipcode_94110</td>\n",
       "      <td>Extra pillows and blankets</td>\n",
       "      <td>neighbourhood_cleansed_Russian Hill</td>\n",
       "      <td>Washer</td>\n",
       "    </tr>\n",
       "    <tr>\n",
       "      <th>Coef</th>\n",
       "      <td>1.8545</td>\n",
       "      <td>1.6817</td>\n",
       "      <td>1.4576</td>\n",
       "      <td>1.1791</td>\n",
       "      <td>0.4874</td>\n",
       "      <td>0.3924</td>\n",
       "      <td>0.2458</td>\n",
       "      <td>0.0847</td>\n",
       "      <td>0.0408</td>\n",
       "      <td>0.0216</td>\n",
       "      <td>0.0137</td>\n",
       "      <td>0.0129</td>\n",
       "      <td>0.0039</td>\n",
       "      <td>0.0013</td>\n",
       "      <td>0.0008</td>\n",
       "    </tr>\n",
       "  </tbody>\n",
       "</table>\n",
       "</div>"
      ],
      "text/plain": [
       "                                13                   17   \\\n",
       "Features  review_scores_cleanliness  review_scores_value   \n",
       "Coef                         1.8545               1.6817   \n",
       "\n",
       "                             12                           15   \\\n",
       "Features  review_scores_accuracy  review_scores_communication   \n",
       "Coef                      1.4576                       1.1791   \n",
       "\n",
       "                             16                     14     0        90   \\\n",
       "Features  review_scores_location  review_scores_checkin  price  Kitchen   \n",
       "Coef                      0.4874                 0.3924 0.2458   0.0847   \n",
       "\n",
       "              83             216              24             219  \\\n",
       "Features  Hot tub  zipcode_94107  host_since_days  zipcode_94110   \n",
       "Coef       0.0408         0.0216           0.0137         0.0129   \n",
       "\n",
       "                                 64                                   203  \\\n",
       "Features  Extra pillows and blankets  neighbourhood_cleansed_Russian Hill   \n",
       "Coef                          0.0039                               0.0013   \n",
       "\n",
       "             127  \n",
       "Features  Washer  \n",
       "Coef      0.0008  "
      ]
     },
     "execution_count": 150,
     "metadata": {},
     "output_type": "execute_result"
    }
   ],
   "source": [
    "en_r_df.sort_values(by='Coef', ascending=False).head(15).T"
   ]
  },
  {
   "cell_type": "code",
   "execution_count": 151,
   "metadata": {},
   "outputs": [
    {
     "data": {
      "text/html": [
       "<div>\n",
       "<style>\n",
       "    .dataframe thead tr:only-child th {\n",
       "        text-align: right;\n",
       "    }\n",
       "\n",
       "    .dataframe thead th {\n",
       "        text-align: left;\n",
       "    }\n",
       "\n",
       "    .dataframe tbody tr th {\n",
       "        vertical-align: top;\n",
       "    }\n",
       "</style>\n",
       "<table border=\"1\" class=\"dataframe\">\n",
       "  <thead>\n",
       "    <tr style=\"text-align: right;\">\n",
       "      <th></th>\n",
       "      <th>Features</th>\n",
       "      <th>Coef</th>\n",
       "    </tr>\n",
       "  </thead>\n",
       "  <tbody>\n",
       "    <tr>\n",
       "      <th>203</th>\n",
       "      <td>neighbourhood_cleansed_Russian Hill</td>\n",
       "      <td>0.0013</td>\n",
       "    </tr>\n",
       "    <tr>\n",
       "      <th>202</th>\n",
       "      <td>neighbourhood_cleansed_Presidio Heights</td>\n",
       "      <td>-0.0000</td>\n",
       "    </tr>\n",
       "    <tr>\n",
       "      <th>195</th>\n",
       "      <td>neighbourhood_cleansed_Outer Mission</td>\n",
       "      <td>0.0000</td>\n",
       "    </tr>\n",
       "    <tr>\n",
       "      <th>196</th>\n",
       "      <td>neighbourhood_cleansed_Outer Richmond</td>\n",
       "      <td>-0.0000</td>\n",
       "    </tr>\n",
       "    <tr>\n",
       "      <th>197</th>\n",
       "      <td>neighbourhood_cleansed_Outer Sunset</td>\n",
       "      <td>-0.0000</td>\n",
       "    </tr>\n",
       "    <tr>\n",
       "      <th>198</th>\n",
       "      <td>neighbourhood_cleansed_Pacific Heights</td>\n",
       "      <td>0.0000</td>\n",
       "    </tr>\n",
       "    <tr>\n",
       "      <th>200</th>\n",
       "      <td>neighbourhood_cleansed_Potrero Hill</td>\n",
       "      <td>0.0000</td>\n",
       "    </tr>\n",
       "    <tr>\n",
       "      <th>201</th>\n",
       "      <td>neighbourhood_cleansed_Presidio</td>\n",
       "      <td>0.0000</td>\n",
       "    </tr>\n",
       "    <tr>\n",
       "      <th>175</th>\n",
       "      <td>neighbourhood_cleansed_Bernal Heights</td>\n",
       "      <td>0.0000</td>\n",
       "    </tr>\n",
       "    <tr>\n",
       "      <th>176</th>\n",
       "      <td>neighbourhood_cleansed_Castro/Upper Market</td>\n",
       "      <td>0.0000</td>\n",
       "    </tr>\n",
       "  </tbody>\n",
       "</table>\n",
       "</div>"
      ],
      "text/plain": [
       "                                       Features    Coef\n",
       "203         neighbourhood_cleansed_Russian Hill  0.0013\n",
       "202     neighbourhood_cleansed_Presidio Heights -0.0000\n",
       "195        neighbourhood_cleansed_Outer Mission  0.0000\n",
       "196       neighbourhood_cleansed_Outer Richmond -0.0000\n",
       "197         neighbourhood_cleansed_Outer Sunset -0.0000\n",
       "198      neighbourhood_cleansed_Pacific Heights  0.0000\n",
       "200         neighbourhood_cleansed_Potrero Hill  0.0000\n",
       "201             neighbourhood_cleansed_Presidio  0.0000\n",
       "175       neighbourhood_cleansed_Bernal Heights  0.0000\n",
       "176  neighbourhood_cleansed_Castro/Upper Market  0.0000"
      ]
     },
     "execution_count": 151,
     "metadata": {},
     "output_type": "execute_result"
    }
   ],
   "source": [
    "en_r_df[en_r_df['Features'].str.contains('neighbourhood_cleansed')].sort_values(by='Coef', ascending=False).head(10)"
   ]
  },
  {
   "cell_type": "markdown",
   "metadata": {},
   "source": [
    "#### Feature Importances"
   ]
  },
  {
   "cell_type": "code",
   "execution_count": 152,
   "metadata": {},
   "outputs": [
    {
     "data": {
      "text/plain": [
       "234"
      ]
     },
     "execution_count": 152,
     "metadata": {},
     "output_type": "execute_result"
    }
   ],
   "source": [
    "rfr_r_test = RandomForestRegressor(max_depth=12,max_features=0.3,min_samples_split=2,\n",
    "                                   n_estimators=200,random_state=1).fit(X_train_r, y_train_r)\n",
    "\n",
    "feature_importances_df_r = pd.DataFrame()\n",
    "feature_importances_df_r['Features'] =  X_train_p.columns\n",
    "feature_importances_df_r['Importantances'] = rfr_r_test.feature_importances_\n",
    "len(feature_importances_df_r[feature_importances_df_r['Importantances'] >0])"
   ]
  },
  {
   "cell_type": "code",
   "execution_count": 153,
   "metadata": {},
   "outputs": [
    {
     "data": {
      "text/html": [
       "<div>\n",
       "<style>\n",
       "    .dataframe thead tr:only-child th {\n",
       "        text-align: right;\n",
       "    }\n",
       "\n",
       "    .dataframe thead th {\n",
       "        text-align: left;\n",
       "    }\n",
       "\n",
       "    .dataframe tbody tr th {\n",
       "        vertical-align: top;\n",
       "    }\n",
       "</style>\n",
       "<table border=\"1\" class=\"dataframe\">\n",
       "  <thead>\n",
       "    <tr style=\"text-align: right;\">\n",
       "      <th></th>\n",
       "      <th>17</th>\n",
       "      <th>12</th>\n",
       "      <th>13</th>\n",
       "      <th>15</th>\n",
       "      <th>14</th>\n",
       "      <th>16</th>\n",
       "      <th>8</th>\n",
       "      <th>0</th>\n",
       "      <th>10</th>\n",
       "      <th>25</th>\n",
       "      <th>24</th>\n",
       "      <th>22</th>\n",
       "      <th>6</th>\n",
       "      <th>19</th>\n",
       "      <th>20</th>\n",
       "      <th>11</th>\n",
       "      <th>18</th>\n",
       "      <th>7</th>\n",
       "      <th>9</th>\n",
       "      <th>23</th>\n",
       "      <th>241</th>\n",
       "      <th>2</th>\n",
       "      <th>158</th>\n",
       "      <th>3</th>\n",
       "      <th>1</th>\n",
       "      <th>21</th>\n",
       "      <th>212</th>\n",
       "      <th>4</th>\n",
       "      <th>180</th>\n",
       "      <th>80</th>\n",
       "      <th>177</th>\n",
       "      <th>5</th>\n",
       "      <th>141</th>\n",
       "      <th>169</th>\n",
       "      <th>77</th>\n",
       "      <th>242</th>\n",
       "      <th>76</th>\n",
       "      <th>59</th>\n",
       "      <th>218</th>\n",
       "      <th>27</th>\n",
       "      <th>32</th>\n",
       "      <th>79</th>\n",
       "      <th>144</th>\n",
       "      <th>125</th>\n",
       "      <th>93</th>\n",
       "      <th>153</th>\n",
       "      <th>87</th>\n",
       "      <th>139</th>\n",
       "      <th>26</th>\n",
       "      <th>61</th>\n",
       "    </tr>\n",
       "  </thead>\n",
       "  <tbody>\n",
       "    <tr>\n",
       "      <th>Features</th>\n",
       "      <td>review_scores_value</td>\n",
       "      <td>review_scores_accuracy</td>\n",
       "      <td>review_scores_cleanliness</td>\n",
       "      <td>review_scores_communication</td>\n",
       "      <td>review_scores_checkin</td>\n",
       "      <td>review_scores_location</td>\n",
       "      <td>number_of_reviews</td>\n",
       "      <td>review_scores_rating</td>\n",
       "      <td>reviews_per_month</td>\n",
       "      <td>first_review_days</td>\n",
       "      <td>host_since_days</td>\n",
       "      <td>average_len</td>\n",
       "      <td>minimum_nights</td>\n",
       "      <td>cleaning_fee</td>\n",
       "      <td>last_review_days</td>\n",
       "      <td>days_since_calendar_updated</td>\n",
       "      <td>security_deposit</td>\n",
       "      <td>maximum_nights</td>\n",
       "      <td>calculated_host_listings_count</td>\n",
       "      <td>house_rules_len</td>\n",
       "      <td>host_is_superhost_True</td>\n",
       "      <td>bathrooms</td>\n",
       "      <td>property_type_Hostel</td>\n",
       "      <td>bedrooms</td>\n",
       "      <td>accommodates</td>\n",
       "      <td>extra_people</td>\n",
       "      <td>zipcode_94102</td>\n",
       "      <td>beds</td>\n",
       "      <td>neighbourhood_cleansed_Downtown/Civic Center</td>\n",
       "      <td>Heating</td>\n",
       "      <td>neighbourhood_cleansed_Chinatown</td>\n",
       "      <td>guests_included</td>\n",
       "      <td>cancellation_policy_super_strict_60</td>\n",
       "      <td>room_type_Private room</td>\n",
       "      <td>Hair dryer</td>\n",
       "      <td>instant_bookable_True</td>\n",
       "      <td>Gym</td>\n",
       "      <td>Dryer</td>\n",
       "      <td>zipcode_94109</td>\n",
       "      <td>total_handicap_amenities</td>\n",
       "      <td>Air conditioning</td>\n",
       "      <td>Hangers</td>\n",
       "      <td>host_response_time_within an hour</td>\n",
       "      <td>TV</td>\n",
       "      <td>Lock on bedroom door</td>\n",
       "      <td>property_type_Condominium</td>\n",
       "      <td>Internet</td>\n",
       "      <td>cancellation_policy_strict</td>\n",
       "      <td>total_child_care_amenities</td>\n",
       "      <td>Elevator</td>\n",
       "    </tr>\n",
       "    <tr>\n",
       "      <th>Importantances</th>\n",
       "      <td>0.2105</td>\n",
       "      <td>0.1840</td>\n",
       "      <td>0.1811</td>\n",
       "      <td>0.0981</td>\n",
       "      <td>0.0512</td>\n",
       "      <td>0.0317</td>\n",
       "      <td>0.0190</td>\n",
       "      <td>0.0149</td>\n",
       "      <td>0.0137</td>\n",
       "      <td>0.0124</td>\n",
       "      <td>0.0103</td>\n",
       "      <td>0.0091</td>\n",
       "      <td>0.0086</td>\n",
       "      <td>0.0080</td>\n",
       "      <td>0.0078</td>\n",
       "      <td>0.0077</td>\n",
       "      <td>0.0071</td>\n",
       "      <td>0.0066</td>\n",
       "      <td>0.0059</td>\n",
       "      <td>0.0045</td>\n",
       "      <td>0.0037</td>\n",
       "      <td>0.0036</td>\n",
       "      <td>0.0029</td>\n",
       "      <td>0.0028</td>\n",
       "      <td>0.0027</td>\n",
       "      <td>0.0023</td>\n",
       "      <td>0.0023</td>\n",
       "      <td>0.0021</td>\n",
       "      <td>0.0019</td>\n",
       "      <td>0.0018</td>\n",
       "      <td>0.0016</td>\n",
       "      <td>0.0015</td>\n",
       "      <td>0.0015</td>\n",
       "      <td>0.0015</td>\n",
       "      <td>0.0015</td>\n",
       "      <td>0.0014</td>\n",
       "      <td>0.0014</td>\n",
       "      <td>0.0013</td>\n",
       "      <td>0.0013</td>\n",
       "      <td>0.0013</td>\n",
       "      <td>0.0013</td>\n",
       "      <td>0.0013</td>\n",
       "      <td>0.0012</td>\n",
       "      <td>0.0012</td>\n",
       "      <td>0.0011</td>\n",
       "      <td>0.0011</td>\n",
       "      <td>0.0011</td>\n",
       "      <td>0.0011</td>\n",
       "      <td>0.0011</td>\n",
       "      <td>0.0010</td>\n",
       "    </tr>\n",
       "  </tbody>\n",
       "</table>\n",
       "</div>"
      ],
      "text/plain": [
       "                                17                      12   \\\n",
       "Features        review_scores_value  review_scores_accuracy   \n",
       "Importantances               0.2105                  0.1840   \n",
       "\n",
       "                                      13                           15   \\\n",
       "Features        review_scores_cleanliness  review_scores_communication   \n",
       "Importantances                     0.1811                       0.0981   \n",
       "\n",
       "                                  14                      16   \\\n",
       "Features        review_scores_checkin  review_scores_location   \n",
       "Importantances                 0.0512                  0.0317   \n",
       "\n",
       "                              8                     0                  10   \\\n",
       "Features        number_of_reviews  review_scores_rating  reviews_per_month   \n",
       "Importantances             0.0190                0.0149             0.0137   \n",
       "\n",
       "                              25               24           22   \\\n",
       "Features        first_review_days  host_since_days  average_len   \n",
       "Importantances             0.0124           0.0103       0.0091   \n",
       "\n",
       "                           6             19                20   \\\n",
       "Features        minimum_nights  cleaning_fee  last_review_days   \n",
       "Importantances          0.0086        0.0080            0.0078   \n",
       "\n",
       "                                        11                18              7    \\\n",
       "Features        days_since_calendar_updated  security_deposit  maximum_nights   \n",
       "Importantances                       0.0077            0.0071          0.0066   \n",
       "\n",
       "                                           9                23   \\\n",
       "Features        calculated_host_listings_count  house_rules_len   \n",
       "Importantances                          0.0059           0.0045   \n",
       "\n",
       "                                   241        2                     158  \\\n",
       "Features        host_is_superhost_True  bathrooms  property_type_Hostel   \n",
       "Importantances                  0.0037     0.0036                0.0029   \n",
       "\n",
       "                     3             1             21             212    4    \\\n",
       "Features        bedrooms  accommodates  extra_people  zipcode_94102   beds   \n",
       "Importantances    0.0028        0.0027        0.0023         0.0023 0.0021   \n",
       "\n",
       "                                                         180      80   \\\n",
       "Features        neighbourhood_cleansed_Downtown/Civic Center  Heating   \n",
       "Importantances                                        0.0019   0.0018   \n",
       "\n",
       "                                             177              5    \\\n",
       "Features        neighbourhood_cleansed_Chinatown  guests_included   \n",
       "Importantances                            0.0016           0.0015   \n",
       "\n",
       "                                                141                     169  \\\n",
       "Features        cancellation_policy_super_strict_60  room_type_Private room   \n",
       "Importantances                               0.0015                  0.0015   \n",
       "\n",
       "                       77                     242    76     59   \\\n",
       "Features        Hair dryer  instant_bookable_True    Gym  Dryer   \n",
       "Importantances      0.0015                 0.0014 0.0014 0.0013   \n",
       "\n",
       "                          218                       27                32   \\\n",
       "Features        zipcode_94109  total_handicap_amenities  Air conditioning   \n",
       "Importantances         0.0013                    0.0013            0.0013   \n",
       "\n",
       "                    79                                 144    125  \\\n",
       "Features        Hangers  host_response_time_within an hour     TV   \n",
       "Importantances   0.0013                             0.0012 0.0012   \n",
       "\n",
       "                                 93                         153       87   \\\n",
       "Features        Lock on bedroom door  property_type_Condominium  Internet   \n",
       "Importantances                0.0011                     0.0011    0.0011   \n",
       "\n",
       "                                       139                         26   \\\n",
       "Features        cancellation_policy_strict  total_child_care_amenities   \n",
       "Importantances                      0.0011                      0.0011   \n",
       "\n",
       "                     61   \n",
       "Features        Elevator  \n",
       "Importantances    0.0010  "
      ]
     },
     "execution_count": 153,
     "metadata": {},
     "output_type": "execute_result"
    }
   ],
   "source": [
    "feature_importances_df_r.sort_values(by='Importantances', ascending=False).head(50).T"
   ]
  },
  {
   "cell_type": "markdown",
   "metadata": {},
   "source": [
    "<a id='model_r'></a>\n",
    "# Model Selection\n",
    "\n",
    "The <b> eXtreme Gradient Boosting model</b> is our choice for predicting ratings, with having a <b>Test Score</b> of: <i>0.7305</i>. This model explains around 73% of the variation in the model. "
   ]
  },
  {
   "cell_type": "code",
   "execution_count": 154,
   "metadata": {},
   "outputs": [
    {
     "data": {
      "text/plain": [
       "Text(0.5,1,'Variable Importance')"
      ]
     },
     "execution_count": 154,
     "metadata": {},
     "output_type": "execute_result"
    },
    {
     "data": {
      "image/png": "[encoded data removed]",
      "text/plain": [
       "<matplotlib.figure.Figure at 0x26fc831e828>"
      ]
     },
     "metadata": {},
     "output_type": "display_data"
    }
   ],
   "source": [
    "fig = plt.figure(figsize=(20,20))\n",
    "# Plot feature importance\n",
    "feature_importance = xgb_r_test.feature_importances_\n",
    "# make importances relative to max importance\n",
    "feature_importance = 100.0 * (feature_importance / feature_importance.max())\n",
    "sorted_idx = np.argsort(feature_importance)\n",
    "pos = np.arange(sorted_idx.shape[0]) + .5\n",
    "plt.subplot(1, 2, 2)\n",
    "plt.barh(pos, feature_importance[sorted_idx], align='center')\n",
    "plt.yticks(pos, X_train_p.columns[sorted_idx])\n",
    "plt.xlabel('Relative Importance')\n",
    "plt.title('Variable Importance')"
   ]
  },
  {
   "cell_type": "markdown",
   "metadata": {},
   "source": [
    "<a id='conclusion'></a>\n",
    "<center><h1>Conslusion</h1></center>\n",
    "\n",
    "## Price\n",
    "The <b> Gradient Boosting model</b> is our choice with having a <b>Test Score</b> of: <i>0.6843</i>. This model explains around 68% of the variation in the model. \n",
    "\n",
    "Looking at the feature's coefficients and feature importances, we get a better understanding of how features impact the price for a listing in San Francisco. \n",
    "* The size of the listings (bedrooms, accommodates, bathrooms) are very important features for predicting price.\n",
    "* Higher ratings tend to bring in higher prices for listings.\n",
    "* Renting an Entire home/apt significantly impact the price\n",
    "* Location of the Airbnb:\n",
    "    * The best places to rent out an Airbnb to increase reveneue are South of Market, Castro/Upper Market, and the Marina.\n",
    "    * The worst locations to rent out an Airbnb in San Francisco are Parkside, Outer Richmond, and Twin Peaks. \n",
    "    * Having a high \"walk score\" and being closer to the more populated spots in San Francisco is important for increasing revenue.\n",
    "* The best amenities that a host can supply to increase their reveneue are: Air conditioning, an indoor fireplace, patio or balcony, a hot tub, wireless internet, shampoo, a doorman, a microwave, and extra-pillows and blankets.\n",
    "* The text length of a listings ad, is considered an important feature and used around 4% of the time when making predictions. \n",
    "\n",
    "## Ratings\n",
    "\n",
    "The <b> eXtreme Gradient Boosting model</b> is our choice for predicting ratings, with having a <b>Test Score</b> of: <i>0.7305</i>. This model explains around 73% of the variation in the model. \n",
    "\n",
    "Looking at the feature's importances and the features' coefficeients we get a better understanding of how features impact the price for a listing in San Francisco. Some interesting insights on the relationship with feature and ratings are:\n",
    "* The value a customer feels, the accuracy of the listings, and the cleanliness of the listing are the top 3 most important factors.A host should focus on these three factors if they want to have the largest postive impact on their ratings.\n",
    "* No amenities had strong importances, yet there was a few that can make an impact (coefficients from ElasticNet).\n",
    "    * Having a kitchen, Hot tub, and Extra pillows and blankets have the strongest relationship with higher ratings\n",
    "* Location / Neighborhood does not have a strong affect on ratings. \n",
    "* The longer a host has been a host on Airbnb, (host_since_days, first_review_days,numer_of_reviews) the higher their ratings tend to be. This may be due to the host learning from the experience and providing better service over time.\n",
    "* More expernsive listings tend to have higher reviews. "
   ]
  },
  {
   "cell_type": "code",
   "execution_count": null,
   "metadata": {},
   "outputs": [],
   "source": []
  }
 ],
 "metadata": {
  "kernelspec": {
   "display_name": "Python 3",
   "language": "python",
   "name": "python3"
  },
  "language_info": {
   "codemirror_mode": {
    "name": "ipython",
    "version": 3
   },
   "file_extension": ".py",
   "mimetype": "text/x-python",
   "name": "python",
   "nbconvert_exporter": "python",
   "pygments_lexer": "ipython3",
   "version": "3.6.3"
  }
 },
 "nbformat": 4,
 "nbformat_minor": 2
}
